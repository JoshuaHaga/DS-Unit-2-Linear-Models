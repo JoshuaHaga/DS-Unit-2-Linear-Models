{
  "nbformat": 4,
  "nbformat_minor": 0,
  "metadata": {
    "colab": {
      "name": "DS_Sprint_Challenge_5.ipynb",
      "provenance": [],
      "collapsed_sections": [],
      "include_colab_link": true
    },
    "kernelspec": {
      "display_name": "Python 3",
      "language": "python",
      "name": "python3"
    },
    "language_info": {
      "codemirror_mode": {
        "name": "ipython",
        "version": 3
      },
      "file_extension": ".py",
      "mimetype": "text/x-python",
      "name": "python",
      "nbconvert_exporter": "python",
      "pygments_lexer": "ipython3",
      "version": "3.7.3"
    }
  },
  "cells": [
    {
      "cell_type": "markdown",
      "metadata": {
        "id": "view-in-github",
        "colab_type": "text"
      },
      "source": [
        "<a href=\"https://colab.research.google.com/github/JoshuaHaga/DS-Unit-2-Linear-Models/blob/master/DS_Sprint_Challenge_5.ipynb\" target=\"_parent\"><img src=\"https://colab.research.google.com/assets/colab-badge.svg\" alt=\"Open In Colab\"/></a>"
      ]
    },
    {
      "cell_type": "markdown",
      "metadata": {
        "colab_type": "text",
        "id": "VZf2akBaMjq8"
      },
      "source": [
        "_Lambda School Data Science, Unit 2_\n",
        " \n",
        "# Linear Models Sprint Challenge\n",
        "\n",
        "To demonstrate mastery on your Sprint Challenge, do all the required, numbered instructions in this notebook.\n",
        "\n",
        "To earn a score of \"3\", also do all the stretch goals.\n",
        "\n",
        "You are permitted and encouraged to do as much data exploration as you want."
      ]
    },
    {
      "cell_type": "markdown",
      "metadata": {
        "colab_type": "text",
        "id": "20OITf58NLQh"
      },
      "source": [
        "### Part 1, Classification\n",
        "- 1.1. Do train/test split. Arrange data into X features matrix and y target vector\n",
        "- 1.2. Use scikit-learn to fit a logistic regression model\n",
        "- 1.3. Report classification metric: accuracy\n",
        "\n",
        "### Part 2, Regression\n",
        "- 2.1. Begin with baselines for regression\n",
        "- 2.2. Do train/validate/test split\n",
        "- 2.3. Arrange data into X features matrix and y target vector\n",
        "- 2.4. Do one-hot encoding\n",
        "- 2.5. Use scikit-learn to fit a linear regression or ridge regression model\n",
        "- 2.6. Report validation MAE and $R^2$\n",
        "\n",
        "### Stretch Goals, Regression\n",
        "- Make at least 2 visualizations to explore relationships between features and target. You may use any visualization library\n",
        "- Try at least 3 feature combinations. You may select features manually, or automatically\n",
        "- Report validation MAE and $R^2$ for each feature combination you try\n",
        "- Report test MAE and $R^2$ for your final model\n",
        "- Print or plot the coefficients for the features in your model"
      ]
    },
    {
      "cell_type": "code",
      "metadata": {
        "id": "KcbHZ7LhNavY",
        "colab_type": "code",
        "colab": {}
      },
      "source": [
        "import plotly.express as px"
      ],
      "execution_count": 2,
      "outputs": []
    },
    {
      "cell_type": "code",
      "metadata": {
        "colab_type": "code",
        "id": "BxoFSeX5OX5k",
        "colab": {
          "base_uri": "https://localhost:8080/",
          "height": 1000
        },
        "outputId": "c276d327-ccc8-406f-e5da-21d49a2ee5d9"
      },
      "source": [
        "# If you're in Colab...\n",
        "import sys\n",
        "if 'google.colab' in sys.modules:\n",
        "    !pip install category_encoders==2.*\n",
        "    !pip install pandas-profiling==2.*\n",
        "    !pip install plotly==4.*"
      ],
      "execution_count": 3,
      "outputs": [
        {
          "output_type": "stream",
          "text": [
            "Collecting category_encoders==2.*\n",
            "\u001b[?25l  Downloading https://files.pythonhosted.org/packages/44/57/fcef41c248701ee62e8325026b90c432adea35555cbc870aff9cfba23727/category_encoders-2.2.2-py2.py3-none-any.whl (80kB)\n",
            "\r\u001b[K     |████                            | 10kB 14.9MB/s eta 0:00:01\r\u001b[K     |████████▏                       | 20kB 1.7MB/s eta 0:00:01\r\u001b[K     |████████████▏                   | 30kB 2.3MB/s eta 0:00:01\r\u001b[K     |████████████████▎               | 40kB 2.6MB/s eta 0:00:01\r\u001b[K     |████████████████████▎           | 51kB 2.0MB/s eta 0:00:01\r\u001b[K     |████████████████████████▍       | 61kB 2.3MB/s eta 0:00:01\r\u001b[K     |████████████████████████████▍   | 71kB 2.6MB/s eta 0:00:01\r\u001b[K     |████████████████████████████████| 81kB 2.1MB/s \n",
            "\u001b[?25hRequirement already satisfied: pandas>=0.21.1 in /usr/local/lib/python3.6/dist-packages (from category_encoders==2.*) (1.0.5)\n",
            "Requirement already satisfied: scipy>=1.0.0 in /usr/local/lib/python3.6/dist-packages (from category_encoders==2.*) (1.4.1)\n",
            "Requirement already satisfied: patsy>=0.5.1 in /usr/local/lib/python3.6/dist-packages (from category_encoders==2.*) (0.5.1)\n",
            "Requirement already satisfied: scikit-learn>=0.20.0 in /usr/local/lib/python3.6/dist-packages (from category_encoders==2.*) (0.22.2.post1)\n",
            "Requirement already satisfied: numpy>=1.14.0 in /usr/local/lib/python3.6/dist-packages (from category_encoders==2.*) (1.18.5)\n",
            "Requirement already satisfied: statsmodels>=0.9.0 in /usr/local/lib/python3.6/dist-packages (from category_encoders==2.*) (0.10.2)\n",
            "Requirement already satisfied: pytz>=2017.2 in /usr/local/lib/python3.6/dist-packages (from pandas>=0.21.1->category_encoders==2.*) (2018.9)\n",
            "Requirement already satisfied: python-dateutil>=2.6.1 in /usr/local/lib/python3.6/dist-packages (from pandas>=0.21.1->category_encoders==2.*) (2.8.1)\n",
            "Requirement already satisfied: six in /usr/local/lib/python3.6/dist-packages (from patsy>=0.5.1->category_encoders==2.*) (1.15.0)\n",
            "Requirement already satisfied: joblib>=0.11 in /usr/local/lib/python3.6/dist-packages (from scikit-learn>=0.20.0->category_encoders==2.*) (0.16.0)\n",
            "Installing collected packages: category-encoders\n",
            "Successfully installed category-encoders-2.2.2\n",
            "Collecting pandas-profiling==2.*\n",
            "\u001b[?25l  Downloading https://files.pythonhosted.org/packages/32/79/5d03ed1172e3e67a997a6a795bcdd2ab58f84851969d01a91455383795b6/pandas_profiling-2.9.0-py2.py3-none-any.whl (258kB)\n",
            "\u001b[K     |████████████████████████████████| 266kB 2.9MB/s \n",
            "\u001b[?25hRequirement already satisfied: requests>=2.23.0 in /usr/local/lib/python3.6/dist-packages (from pandas-profiling==2.*) (2.23.0)\n",
            "Requirement already satisfied: jinja2>=2.11.1 in /usr/local/lib/python3.6/dist-packages (from pandas-profiling==2.*) (2.11.2)\n",
            "Requirement already satisfied: matplotlib>=3.2.0 in /usr/local/lib/python3.6/dist-packages (from pandas-profiling==2.*) (3.2.2)\n",
            "Collecting tangled-up-in-unicode>=0.0.6\n",
            "\u001b[?25l  Downloading https://files.pythonhosted.org/packages/4a/e2/e588ab9298d4989ce7fdb2b97d18aac878d99dbdc379a4476a09d9271b68/tangled_up_in_unicode-0.0.6-py3-none-any.whl (3.1MB)\n",
            "\u001b[K     |████████████████████████████████| 3.1MB 8.9MB/s \n",
            "\u001b[?25hRequirement already satisfied: joblib in /usr/local/lib/python3.6/dist-packages (from pandas-profiling==2.*) (0.16.0)\n",
            "Collecting confuse>=1.0.0\n",
            "\u001b[?25l  Downloading https://files.pythonhosted.org/packages/b5/6d/bedc0d1068bd244cee05843313cbec6cebb9f01f925538269bababc6d887/confuse-1.3.0-py2.py3-none-any.whl (64kB)\n",
            "\u001b[K     |████████████████████████████████| 71kB 7.2MB/s \n",
            "\u001b[?25hRequirement already satisfied: numpy>=1.16.0 in /usr/local/lib/python3.6/dist-packages (from pandas-profiling==2.*) (1.18.5)\n",
            "Collecting phik>=0.9.10\n",
            "\u001b[?25l  Downloading https://files.pythonhosted.org/packages/01/5a/7ef1c04ce62cd72f900c06298dc2385840550d5c653a0dbc19109a5477e6/phik-0.10.0-py3-none-any.whl (599kB)\n",
            "\u001b[K     |████████████████████████████████| 604kB 30.4MB/s \n",
            "\u001b[?25hRequirement already satisfied: seaborn>=0.10.1 in /usr/local/lib/python3.6/dist-packages (from pandas-profiling==2.*) (0.10.1)\n",
            "Requirement already satisfied: missingno>=0.4.2 in /usr/local/lib/python3.6/dist-packages (from pandas-profiling==2.*) (0.4.2)\n",
            "Requirement already satisfied: ipywidgets>=7.5.1 in /usr/local/lib/python3.6/dist-packages (from pandas-profiling==2.*) (7.5.1)\n",
            "Collecting visions[type_image_path]==0.5.0\n",
            "\u001b[?25l  Downloading https://files.pythonhosted.org/packages/26/e3/9416e94e767d59a86edcbcb8e1c8f42874d272c3b343676074879e9db0e0/visions-0.5.0-py3-none-any.whl (64kB)\n",
            "\u001b[K     |████████████████████████████████| 71kB 7.2MB/s \n",
            "\u001b[?25hCollecting tqdm>=4.43.0\n",
            "\u001b[?25l  Downloading https://files.pythonhosted.org/packages/73/d5/f220e0c69b2f346b5649b66abebb391df1a00a59997a7ccf823325bd7a3e/tqdm-4.49.0-py2.py3-none-any.whl (69kB)\n",
            "\u001b[K     |████████████████████████████████| 71kB 7.6MB/s \n",
            "\u001b[?25hRequirement already satisfied: attrs>=19.3.0 in /usr/local/lib/python3.6/dist-packages (from pandas-profiling==2.*) (20.2.0)\n",
            "Requirement already satisfied: pandas!=1.0.0,!=1.0.1,!=1.0.2,!=1.1.0,>=0.25.3 in /usr/local/lib/python3.6/dist-packages (from pandas-profiling==2.*) (1.0.5)\n",
            "Requirement already satisfied: scipy>=1.4.1 in /usr/local/lib/python3.6/dist-packages (from pandas-profiling==2.*) (1.4.1)\n",
            "Collecting htmlmin>=0.1.12\n",
            "  Downloading https://files.pythonhosted.org/packages/b3/e7/fcd59e12169de19f0131ff2812077f964c6b960e7c09804d30a7bf2ab461/htmlmin-0.1.12.tar.gz\n",
            "Requirement already satisfied: chardet<4,>=3.0.2 in /usr/local/lib/python3.6/dist-packages (from requests>=2.23.0->pandas-profiling==2.*) (3.0.4)\n",
            "Requirement already satisfied: certifi>=2017.4.17 in /usr/local/lib/python3.6/dist-packages (from requests>=2.23.0->pandas-profiling==2.*) (2020.6.20)\n",
            "Requirement already satisfied: idna<3,>=2.5 in /usr/local/lib/python3.6/dist-packages (from requests>=2.23.0->pandas-profiling==2.*) (2.10)\n",
            "Requirement already satisfied: urllib3!=1.25.0,!=1.25.1,<1.26,>=1.21.1 in /usr/local/lib/python3.6/dist-packages (from requests>=2.23.0->pandas-profiling==2.*) (1.24.3)\n",
            "Requirement already satisfied: MarkupSafe>=0.23 in /usr/local/lib/python3.6/dist-packages (from jinja2>=2.11.1->pandas-profiling==2.*) (1.1.1)\n",
            "Requirement already satisfied: python-dateutil>=2.1 in /usr/local/lib/python3.6/dist-packages (from matplotlib>=3.2.0->pandas-profiling==2.*) (2.8.1)\n",
            "Requirement already satisfied: pyparsing!=2.0.4,!=2.1.2,!=2.1.6,>=2.0.1 in /usr/local/lib/python3.6/dist-packages (from matplotlib>=3.2.0->pandas-profiling==2.*) (2.4.7)\n",
            "Requirement already satisfied: kiwisolver>=1.0.1 in /usr/local/lib/python3.6/dist-packages (from matplotlib>=3.2.0->pandas-profiling==2.*) (1.2.0)\n",
            "Requirement already satisfied: cycler>=0.10 in /usr/local/lib/python3.6/dist-packages (from matplotlib>=3.2.0->pandas-profiling==2.*) (0.10.0)\n",
            "Requirement already satisfied: pyyaml in /usr/local/lib/python3.6/dist-packages (from confuse>=1.0.0->pandas-profiling==2.*) (3.13)\n",
            "Requirement already satisfied: numba>=0.38.1 in /usr/local/lib/python3.6/dist-packages (from phik>=0.9.10->pandas-profiling==2.*) (0.48.0)\n",
            "Requirement already satisfied: ipykernel>=4.5.1 in /usr/local/lib/python3.6/dist-packages (from ipywidgets>=7.5.1->pandas-profiling==2.*) (4.10.1)\n",
            "Requirement already satisfied: nbformat>=4.2.0 in /usr/local/lib/python3.6/dist-packages (from ipywidgets>=7.5.1->pandas-profiling==2.*) (5.0.7)\n",
            "Requirement already satisfied: widgetsnbextension~=3.5.0 in /usr/local/lib/python3.6/dist-packages (from ipywidgets>=7.5.1->pandas-profiling==2.*) (3.5.1)\n",
            "Requirement already satisfied: ipython>=4.0.0; python_version >= \"3.3\" in /usr/local/lib/python3.6/dist-packages (from ipywidgets>=7.5.1->pandas-profiling==2.*) (5.5.0)\n",
            "Requirement already satisfied: traitlets>=4.3.1 in /usr/local/lib/python3.6/dist-packages (from ipywidgets>=7.5.1->pandas-profiling==2.*) (4.3.3)\n",
            "Requirement already satisfied: networkx>=2.4 in /usr/local/lib/python3.6/dist-packages (from visions[type_image_path]==0.5.0->pandas-profiling==2.*) (2.5)\n",
            "Requirement already satisfied: Pillow; extra == \"type_image_path\" in /usr/local/lib/python3.6/dist-packages (from visions[type_image_path]==0.5.0->pandas-profiling==2.*) (7.0.0)\n",
            "Collecting imagehash; extra == \"type_image_path\"\n",
            "\u001b[?25l  Downloading https://files.pythonhosted.org/packages/1a/5d/cc81830be3c4705a46cdbca74439b67f1017881383ba0127c41c4cecb7b3/ImageHash-4.1.0.tar.gz (291kB)\n",
            "\u001b[K     |████████████████████████████████| 296kB 25.1MB/s \n",
            "\u001b[?25hRequirement already satisfied: pytz>=2017.2 in /usr/local/lib/python3.6/dist-packages (from pandas!=1.0.0,!=1.0.1,!=1.0.2,!=1.1.0,>=0.25.3->pandas-profiling==2.*) (2018.9)\n",
            "Requirement already satisfied: six>=1.5 in /usr/local/lib/python3.6/dist-packages (from python-dateutil>=2.1->matplotlib>=3.2.0->pandas-profiling==2.*) (1.15.0)\n",
            "Requirement already satisfied: llvmlite<0.32.0,>=0.31.0dev0 in /usr/local/lib/python3.6/dist-packages (from numba>=0.38.1->phik>=0.9.10->pandas-profiling==2.*) (0.31.0)\n",
            "Requirement already satisfied: setuptools in /usr/local/lib/python3.6/dist-packages (from numba>=0.38.1->phik>=0.9.10->pandas-profiling==2.*) (50.3.0)\n",
            "Requirement already satisfied: jupyter-client in /usr/local/lib/python3.6/dist-packages (from ipykernel>=4.5.1->ipywidgets>=7.5.1->pandas-profiling==2.*) (5.3.5)\n",
            "Requirement already satisfied: tornado>=4.0 in /usr/local/lib/python3.6/dist-packages (from ipykernel>=4.5.1->ipywidgets>=7.5.1->pandas-profiling==2.*) (5.1.1)\n",
            "Requirement already satisfied: jupyter-core in /usr/local/lib/python3.6/dist-packages (from nbformat>=4.2.0->ipywidgets>=7.5.1->pandas-profiling==2.*) (4.6.3)\n",
            "Requirement already satisfied: jsonschema!=2.5.0,>=2.4 in /usr/local/lib/python3.6/dist-packages (from nbformat>=4.2.0->ipywidgets>=7.5.1->pandas-profiling==2.*) (2.6.0)\n",
            "Requirement already satisfied: ipython-genutils in /usr/local/lib/python3.6/dist-packages (from nbformat>=4.2.0->ipywidgets>=7.5.1->pandas-profiling==2.*) (0.2.0)\n",
            "Requirement already satisfied: notebook>=4.4.1 in /usr/local/lib/python3.6/dist-packages (from widgetsnbextension~=3.5.0->ipywidgets>=7.5.1->pandas-profiling==2.*) (5.3.1)\n",
            "Requirement already satisfied: pygments in /usr/local/lib/python3.6/dist-packages (from ipython>=4.0.0; python_version >= \"3.3\"->ipywidgets>=7.5.1->pandas-profiling==2.*) (2.6.1)\n",
            "Requirement already satisfied: decorator in /usr/local/lib/python3.6/dist-packages (from ipython>=4.0.0; python_version >= \"3.3\"->ipywidgets>=7.5.1->pandas-profiling==2.*) (4.4.2)\n",
            "Requirement already satisfied: pickleshare in /usr/local/lib/python3.6/dist-packages (from ipython>=4.0.0; python_version >= \"3.3\"->ipywidgets>=7.5.1->pandas-profiling==2.*) (0.7.5)\n",
            "Requirement already satisfied: simplegeneric>0.8 in /usr/local/lib/python3.6/dist-packages (from ipython>=4.0.0; python_version >= \"3.3\"->ipywidgets>=7.5.1->pandas-profiling==2.*) (0.8.1)\n",
            "Requirement already satisfied: pexpect; sys_platform != \"win32\" in /usr/local/lib/python3.6/dist-packages (from ipython>=4.0.0; python_version >= \"3.3\"->ipywidgets>=7.5.1->pandas-profiling==2.*) (4.8.0)\n",
            "Requirement already satisfied: prompt-toolkit<2.0.0,>=1.0.4 in /usr/local/lib/python3.6/dist-packages (from ipython>=4.0.0; python_version >= \"3.3\"->ipywidgets>=7.5.1->pandas-profiling==2.*) (1.0.18)\n",
            "Requirement already satisfied: PyWavelets in /usr/local/lib/python3.6/dist-packages (from imagehash; extra == \"type_image_path\"->visions[type_image_path]==0.5.0->pandas-profiling==2.*) (1.1.1)\n",
            "Requirement already satisfied: pyzmq>=13 in /usr/local/lib/python3.6/dist-packages (from jupyter-client->ipykernel>=4.5.1->ipywidgets>=7.5.1->pandas-profiling==2.*) (19.0.2)\n",
            "Requirement already satisfied: nbconvert in /usr/local/lib/python3.6/dist-packages (from notebook>=4.4.1->widgetsnbextension~=3.5.0->ipywidgets>=7.5.1->pandas-profiling==2.*) (5.6.1)\n",
            "Requirement already satisfied: Send2Trash in /usr/local/lib/python3.6/dist-packages (from notebook>=4.4.1->widgetsnbextension~=3.5.0->ipywidgets>=7.5.1->pandas-profiling==2.*) (1.5.0)\n",
            "Requirement already satisfied: terminado>=0.8.1 in /usr/local/lib/python3.6/dist-packages (from notebook>=4.4.1->widgetsnbextension~=3.5.0->ipywidgets>=7.5.1->pandas-profiling==2.*) (0.8.3)\n",
            "Requirement already satisfied: ptyprocess>=0.5 in /usr/local/lib/python3.6/dist-packages (from pexpect; sys_platform != \"win32\"->ipython>=4.0.0; python_version >= \"3.3\"->ipywidgets>=7.5.1->pandas-profiling==2.*) (0.6.0)\n",
            "Requirement already satisfied: wcwidth in /usr/local/lib/python3.6/dist-packages (from prompt-toolkit<2.0.0,>=1.0.4->ipython>=4.0.0; python_version >= \"3.3\"->ipywidgets>=7.5.1->pandas-profiling==2.*) (0.2.5)\n",
            "Requirement already satisfied: bleach in /usr/local/lib/python3.6/dist-packages (from nbconvert->notebook>=4.4.1->widgetsnbextension~=3.5.0->ipywidgets>=7.5.1->pandas-profiling==2.*) (3.1.5)\n",
            "Requirement already satisfied: entrypoints>=0.2.2 in /usr/local/lib/python3.6/dist-packages (from nbconvert->notebook>=4.4.1->widgetsnbextension~=3.5.0->ipywidgets>=7.5.1->pandas-profiling==2.*) (0.3)\n",
            "Requirement already satisfied: pandocfilters>=1.4.1 in /usr/local/lib/python3.6/dist-packages (from nbconvert->notebook>=4.4.1->widgetsnbextension~=3.5.0->ipywidgets>=7.5.1->pandas-profiling==2.*) (1.4.2)\n",
            "Requirement already satisfied: defusedxml in /usr/local/lib/python3.6/dist-packages (from nbconvert->notebook>=4.4.1->widgetsnbextension~=3.5.0->ipywidgets>=7.5.1->pandas-profiling==2.*) (0.6.0)\n",
            "Requirement already satisfied: testpath in /usr/local/lib/python3.6/dist-packages (from nbconvert->notebook>=4.4.1->widgetsnbextension~=3.5.0->ipywidgets>=7.5.1->pandas-profiling==2.*) (0.4.4)\n",
            "Requirement already satisfied: mistune<2,>=0.8.1 in /usr/local/lib/python3.6/dist-packages (from nbconvert->notebook>=4.4.1->widgetsnbextension~=3.5.0->ipywidgets>=7.5.1->pandas-profiling==2.*) (0.8.4)\n",
            "Requirement already satisfied: webencodings in /usr/local/lib/python3.6/dist-packages (from bleach->nbconvert->notebook>=4.4.1->widgetsnbextension~=3.5.0->ipywidgets>=7.5.1->pandas-profiling==2.*) (0.5.1)\n",
            "Requirement already satisfied: packaging in /usr/local/lib/python3.6/dist-packages (from bleach->nbconvert->notebook>=4.4.1->widgetsnbextension~=3.5.0->ipywidgets>=7.5.1->pandas-profiling==2.*) (20.4)\n",
            "Building wheels for collected packages: htmlmin, imagehash\n",
            "  Building wheel for htmlmin (setup.py) ... \u001b[?25l\u001b[?25hdone\n",
            "  Created wheel for htmlmin: filename=htmlmin-0.1.12-cp36-none-any.whl size=27085 sha256=12375a24ef5423dc051bc0ca6a76852c34563617834223a25f958dfab9a86048\n",
            "  Stored in directory: /root/.cache/pip/wheels/43/07/ac/7c5a9d708d65247ac1f94066cf1db075540b85716c30255459\n",
            "  Building wheel for imagehash (setup.py) ... \u001b[?25l\u001b[?25hdone\n",
            "  Created wheel for imagehash: filename=ImageHash-4.1.0-py2.py3-none-any.whl size=291991 sha256=bd4b60deabab5bc242343415d1686d32f4a7cccc7c221139d980002af5cbd157\n",
            "  Stored in directory: /root/.cache/pip/wheels/07/1c/dc/6831446f09feb8cc199ec73a0f2f0703253f6ae013a22f4be9\n",
            "Successfully built htmlmin imagehash\n",
            "Installing collected packages: tangled-up-in-unicode, confuse, phik, imagehash, visions, tqdm, htmlmin, pandas-profiling\n",
            "  Found existing installation: tqdm 4.41.1\n",
            "    Uninstalling tqdm-4.41.1:\n",
            "      Successfully uninstalled tqdm-4.41.1\n",
            "  Found existing installation: pandas-profiling 1.4.1\n",
            "    Uninstalling pandas-profiling-1.4.1:\n",
            "      Successfully uninstalled pandas-profiling-1.4.1\n",
            "Successfully installed confuse-1.3.0 htmlmin-0.1.12 imagehash-4.1.0 pandas-profiling-2.9.0 phik-0.10.0 tangled-up-in-unicode-0.0.6 tqdm-4.49.0 visions-0.5.0\n",
            "Requirement already satisfied: plotly==4.* in /usr/local/lib/python3.6/dist-packages (4.4.1)\n",
            "Requirement already satisfied: retrying>=1.3.3 in /usr/local/lib/python3.6/dist-packages (from plotly==4.*) (1.3.3)\n",
            "Requirement already satisfied: six in /usr/local/lib/python3.6/dist-packages (from plotly==4.*) (1.15.0)\n"
          ],
          "name": "stdout"
        }
      ]
    },
    {
      "cell_type": "markdown",
      "metadata": {
        "colab_type": "text",
        "id": "Q7u1KtsnOi78"
      },
      "source": [
        "# Part 1, Classification: Predict Blood Donations 🚑\n",
        "Our dataset is from a mobile blood donation vehicle in Taiwan. The Blood Transfusion Service Center drives to different universities and collects blood as part of a blood drive.\n",
        "\n",
        "The goal is to predict whether the donor made a donation in March 2007, using information about each donor's history.\n",
        "\n",
        "Good data-driven systems for tracking and predicting donations and supply needs can improve the entire supply chain, making sure that more patients get the blood transfusions they need."
      ]
    },
    {
      "cell_type": "code",
      "metadata": {
        "colab_type": "code",
        "id": "gJzpgv-fO4rh",
        "colab": {}
      },
      "source": [
        "import pandas as pd\n",
        "\n",
        "donors = pd.read_csv('https://archive.ics.uci.edu/ml/machine-learning-databases/blood-transfusion/transfusion.data')\n",
        "assert donors.shape == (748,5)\n",
        "\n",
        "donors = donors.rename(columns={\n",
        "    'Recency (months)': 'months_since_last_donation', \n",
        "    'Frequency (times)': 'number_of_donations', \n",
        "    'Monetary (c.c. blood)': 'total_volume_donated', \n",
        "    'Time (months)': 'months_since_first_donation', \n",
        "    'whether he/she donated blood in March 2007': 'made_donation_in_march_2007'\n",
        "})"
      ],
      "execution_count": 4,
      "outputs": []
    },
    {
      "cell_type": "markdown",
      "metadata": {
        "colab_type": "text",
        "id": "oU4oE0LJMG7X"
      },
      "source": [
        "Notice that the majority class (did not donate blood in March 2007) occurs about 3/4 of the time. \n",
        "\n",
        "This is the accuracy score for the \"majority class baseline\" (the accuracy score we'd get by just guessing the majority class every time)."
      ]
    },
    {
      "cell_type": "code",
      "metadata": {
        "colab_type": "code",
        "id": "TgRp5slvLzJs",
        "colab": {
          "base_uri": "https://localhost:8080/",
          "height": 68
        },
        "outputId": "85dc2adb-f889-440e-945c-d25b2808eab6"
      },
      "source": [
        "donors['made_donation_in_march_2007'].value_counts(normalize=True)"
      ],
      "execution_count": 5,
      "outputs": [
        {
          "output_type": "execute_result",
          "data": {
            "text/plain": [
              "0    0.762032\n",
              "1    0.237968\n",
              "Name: made_donation_in_march_2007, dtype: float64"
            ]
          },
          "metadata": {
            "tags": []
          },
          "execution_count": 5
        }
      ]
    },
    {
      "cell_type": "code",
      "metadata": {
        "id": "y6Y5A6PG3BeU",
        "colab_type": "code",
        "colab": {
          "base_uri": "https://localhost:8080/",
          "height": 283
        },
        "outputId": "b78ae635-6617-46db-ce13-d413414f181f"
      },
      "source": [
        "donors['made_donation_in_march_2007'].value_counts(normalize=True).plot(kind='bar', )"
      ],
      "execution_count": 6,
      "outputs": [
        {
          "output_type": "execute_result",
          "data": {
            "text/plain": [
              "<matplotlib.axes._subplots.AxesSubplot at 0x7fec7b9d9c88>"
            ]
          },
          "metadata": {
            "tags": []
          },
          "execution_count": 6
        },
        {
          "output_type": "display_data",
          "data": {
            "image/png": "[encoded data removed]",
            "text/plain": [
              "<Figure size 432x288 with 1 Axes>"
            ]
          },
          "metadata": {
            "tags": [],
            "needs_background": "light"
          }
        }
      ]
    },
    {
      "cell_type": "code",
      "metadata": {
        "id": "OtiFWfHQXAlF",
        "colab_type": "code",
        "colab": {}
      },
      "source": [
        "###Data Exploration\n",
        "import numpy as np\n",
        "import plotly as py"
      ],
      "execution_count": 7,
      "outputs": []
    },
    {
      "cell_type": "code",
      "metadata": {
        "id": "tkd7-1kQXnyF",
        "colab_type": "code",
        "colab": {
          "base_uri": "https://localhost:8080/",
          "height": 85
        },
        "outputId": "c06a5c9e-9a85-429a-edf2-b2f7a50b00dd"
      },
      "source": [
        "donors.columns"
      ],
      "execution_count": 8,
      "outputs": [
        {
          "output_type": "execute_result",
          "data": {
            "text/plain": [
              "Index(['months_since_last_donation', 'number_of_donations',\n",
              "       'total_volume_donated', 'months_since_first_donation',\n",
              "       'made_donation_in_march_2007'],\n",
              "      dtype='object')"
            ]
          },
          "metadata": {
            "tags": []
          },
          "execution_count": 8
        }
      ]
    },
    {
      "cell_type": "code",
      "metadata": {
        "id": "2EpUic_uXyR4",
        "colab_type": "code",
        "colab": {
          "base_uri": "https://localhost:8080/",
          "height": 204
        },
        "outputId": "a2a6d067-9d1e-46d7-c949-5c0dbe27aa06"
      },
      "source": [
        "donors.head()"
      ],
      "execution_count": 9,
      "outputs": [
        {
          "output_type": "execute_result",
          "data": {
            "text/html": [
              "<div>\n",
              "<style scoped>\n",
              "    .dataframe tbody tr th:only-of-type {\n",
              "        vertical-align: middle;\n",
              "    }\n",
              "\n",
              "    .dataframe tbody tr th {\n",
              "        vertical-align: top;\n",
              "    }\n",
              "\n",
              "    .dataframe thead th {\n",
              "        text-align: right;\n",
              "    }\n",
              "</style>\n",
              "<table border=\"1\" class=\"dataframe\">\n",
              "  <thead>\n",
              "    <tr style=\"text-align: right;\">\n",
              "      <th></th>\n",
              "      <th>months_since_last_donation</th>\n",
              "      <th>number_of_donations</th>\n",
              "      <th>total_volume_donated</th>\n",
              "      <th>months_since_first_donation</th>\n",
              "      <th>made_donation_in_march_2007</th>\n",
              "    </tr>\n",
              "  </thead>\n",
              "  <tbody>\n",
              "    <tr>\n",
              "      <th>0</th>\n",
              "      <td>2</td>\n",
              "      <td>50</td>\n",
              "      <td>12500</td>\n",
              "      <td>98</td>\n",
              "      <td>1</td>\n",
              "    </tr>\n",
              "    <tr>\n",
              "      <th>1</th>\n",
              "      <td>0</td>\n",
              "      <td>13</td>\n",
              "      <td>3250</td>\n",
              "      <td>28</td>\n",
              "      <td>1</td>\n",
              "    </tr>\n",
              "    <tr>\n",
              "      <th>2</th>\n",
              "      <td>1</td>\n",
              "      <td>16</td>\n",
              "      <td>4000</td>\n",
              "      <td>35</td>\n",
              "      <td>1</td>\n",
              "    </tr>\n",
              "    <tr>\n",
              "      <th>3</th>\n",
              "      <td>2</td>\n",
              "      <td>20</td>\n",
              "      <td>5000</td>\n",
              "      <td>45</td>\n",
              "      <td>1</td>\n",
              "    </tr>\n",
              "    <tr>\n",
              "      <th>4</th>\n",
              "      <td>1</td>\n",
              "      <td>24</td>\n",
              "      <td>6000</td>\n",
              "      <td>77</td>\n",
              "      <td>0</td>\n",
              "    </tr>\n",
              "  </tbody>\n",
              "</table>\n",
              "</div>"
            ],
            "text/plain": [
              "   months_since_last_donation  ...  made_donation_in_march_2007\n",
              "0                           2  ...                            1\n",
              "1                           0  ...                            1\n",
              "2                           1  ...                            1\n",
              "3                           2  ...                            1\n",
              "4                           1  ...                            0\n",
              "\n",
              "[5 rows x 5 columns]"
            ]
          },
          "metadata": {
            "tags": []
          },
          "execution_count": 9
        }
      ]
    },
    {
      "cell_type": "code",
      "metadata": {
        "id": "HB5V_yrYYIyh",
        "colab_type": "code",
        "colab": {
          "base_uri": "https://localhost:8080/",
          "height": 119
        },
        "outputId": "964cedde-6d23-4abd-97a7-72f82a7a1f42"
      },
      "source": [
        "donors.isnull().sum()"
      ],
      "execution_count": 10,
      "outputs": [
        {
          "output_type": "execute_result",
          "data": {
            "text/plain": [
              "months_since_last_donation     0\n",
              "number_of_donations            0\n",
              "total_volume_donated           0\n",
              "months_since_first_donation    0\n",
              "made_donation_in_march_2007    0\n",
              "dtype: int64"
            ]
          },
          "metadata": {
            "tags": []
          },
          "execution_count": 10
        }
      ]
    },
    {
      "cell_type": "code",
      "metadata": {
        "id": "jXpfRsPQYZ45",
        "colab_type": "code",
        "colab": {
          "base_uri": "https://localhost:8080/",
          "height": 204
        },
        "outputId": "722828e5-21f0-40fa-d448-fb324ef13d91"
      },
      "source": [
        "###Looking at the correlation of the different features to each other. \n",
        "donor_corr = donors.corr()\n",
        "donor_corr"
      ],
      "execution_count": 11,
      "outputs": [
        {
          "output_type": "execute_result",
          "data": {
            "text/html": [
              "<div>\n",
              "<style scoped>\n",
              "    .dataframe tbody tr th:only-of-type {\n",
              "        vertical-align: middle;\n",
              "    }\n",
              "\n",
              "    .dataframe tbody tr th {\n",
              "        vertical-align: top;\n",
              "    }\n",
              "\n",
              "    .dataframe thead th {\n",
              "        text-align: right;\n",
              "    }\n",
              "</style>\n",
              "<table border=\"1\" class=\"dataframe\">\n",
              "  <thead>\n",
              "    <tr style=\"text-align: right;\">\n",
              "      <th></th>\n",
              "      <th>months_since_last_donation</th>\n",
              "      <th>number_of_donations</th>\n",
              "      <th>total_volume_donated</th>\n",
              "      <th>months_since_first_donation</th>\n",
              "      <th>made_donation_in_march_2007</th>\n",
              "    </tr>\n",
              "  </thead>\n",
              "  <tbody>\n",
              "    <tr>\n",
              "      <th>months_since_last_donation</th>\n",
              "      <td>1.000000</td>\n",
              "      <td>-0.182745</td>\n",
              "      <td>-0.182745</td>\n",
              "      <td>0.160618</td>\n",
              "      <td>-0.279869</td>\n",
              "    </tr>\n",
              "    <tr>\n",
              "      <th>number_of_donations</th>\n",
              "      <td>-0.182745</td>\n",
              "      <td>1.000000</td>\n",
              "      <td>1.000000</td>\n",
              "      <td>0.634940</td>\n",
              "      <td>0.218633</td>\n",
              "    </tr>\n",
              "    <tr>\n",
              "      <th>total_volume_donated</th>\n",
              "      <td>-0.182745</td>\n",
              "      <td>1.000000</td>\n",
              "      <td>1.000000</td>\n",
              "      <td>0.634940</td>\n",
              "      <td>0.218633</td>\n",
              "    </tr>\n",
              "    <tr>\n",
              "      <th>months_since_first_donation</th>\n",
              "      <td>0.160618</td>\n",
              "      <td>0.634940</td>\n",
              "      <td>0.634940</td>\n",
              "      <td>1.000000</td>\n",
              "      <td>-0.035854</td>\n",
              "    </tr>\n",
              "    <tr>\n",
              "      <th>made_donation_in_march_2007</th>\n",
              "      <td>-0.279869</td>\n",
              "      <td>0.218633</td>\n",
              "      <td>0.218633</td>\n",
              "      <td>-0.035854</td>\n",
              "      <td>1.000000</td>\n",
              "    </tr>\n",
              "  </tbody>\n",
              "</table>\n",
              "</div>"
            ],
            "text/plain": [
              "                             months_since_last_donation  ...  made_donation_in_march_2007\n",
              "months_since_last_donation                     1.000000  ...                    -0.279869\n",
              "number_of_donations                           -0.182745  ...                     0.218633\n",
              "total_volume_donated                          -0.182745  ...                     0.218633\n",
              "months_since_first_donation                    0.160618  ...                    -0.035854\n",
              "made_donation_in_march_2007                   -0.279869  ...                     1.000000\n",
              "\n",
              "[5 rows x 5 columns]"
            ]
          },
          "metadata": {
            "tags": []
          },
          "execution_count": 11
        }
      ]
    },
    {
      "cell_type": "code",
      "metadata": {
        "id": "Q6uNF3R0Yost",
        "colab_type": "code",
        "colab": {
          "base_uri": "https://localhost:8080/",
          "height": 85
        },
        "outputId": "cb01a865-3012-4a21-fb0b-4e537a70cec6"
      },
      "source": [
        "import matplotlib.pyplot as plt\n",
        "import seaborn as sns"
      ],
      "execution_count": 12,
      "outputs": [
        {
          "output_type": "stream",
          "text": [
            "/usr/local/lib/python3.6/dist-packages/statsmodels/tools/_testing.py:19: FutureWarning:\n",
            "\n",
            "pandas.util.testing is deprecated. Use the functions in the public API at pandas.testing instead.\n",
            "\n"
          ],
          "name": "stderr"
        }
      ]
    },
    {
      "cell_type": "code",
      "metadata": {
        "id": "Ct0pCLqtYqnQ",
        "colab_type": "code",
        "colab": {
          "base_uri": "https://localhost:8080/",
          "height": 635
        },
        "outputId": "e85d098d-8344-423f-fdd0-16097e92a4b7"
      },
      "source": [
        "plt.figure(figsize=(12, 8))\n",
        "sns.heatmap(donor_corr);"
      ],
      "execution_count": 13,
      "outputs": [
        {
          "output_type": "display_data",
          "data": {
            "image/png": "[encoded data removed]",
            "text/plain": [
              "<Figure size 864x576 with 2 Axes>"
            ]
          },
          "metadata": {
            "tags": [],
            "needs_background": "light"
          }
        }
      ]
    },
    {
      "cell_type": "code",
      "metadata": {
        "id": "s6Hn8bexZWrG",
        "colab_type": "code",
        "colab": {
          "base_uri": "https://localhost:8080/",
          "height": 119
        },
        "outputId": "1d0225ff-7ac0-4f03-ad45-f433e60d7409"
      },
      "source": [
        "donor_corr['made_donation_in_march_2007'].sort_values(ascending=False)"
      ],
      "execution_count": 14,
      "outputs": [
        {
          "output_type": "execute_result",
          "data": {
            "text/plain": [
              "made_donation_in_march_2007    1.000000\n",
              "number_of_donations            0.218633\n",
              "total_volume_donated           0.218633\n",
              "months_since_first_donation   -0.035854\n",
              "months_since_last_donation    -0.279869\n",
              "Name: made_donation_in_march_2007, dtype: float64"
            ]
          },
          "metadata": {
            "tags": []
          },
          "execution_count": 14
        }
      ]
    },
    {
      "cell_type": "markdown",
      "metadata": {
        "id": "HMfbqxYIZrMu",
        "colab_type": "text"
      },
      "source": [
        "It appears, when taking a look at the correlations between people who made donations in march, and the other features in the dataset, I see that 'number of donations' and 'total volume donated', both have the highest correlation with the target feature. Interestingly, they both are the same value. "
      ]
    },
    {
      "cell_type": "markdown",
      "metadata": {
        "colab_type": "text",
        "id": "P66Fpcq1PYZl"
      },
      "source": [
        "## 1.1. Do train/test split. Arrange data into X features matrix and y target vector\n",
        "\n",
        "Do these steps in either order.\n",
        "\n",
        "Use scikit-learn's train/test split function to split randomly. (You can include 75% of the data in the train set, and hold out 25% for the test set, which is the default.)"
      ]
    },
    {
      "cell_type": "code",
      "metadata": {
        "colab_type": "code",
        "id": "InhicZeZPX8L",
        "colab": {}
      },
      "source": [
        "###Import SKlearn\n",
        "from sklearn.model_selection import train_test_split\n",
        "from sklearn.linear_model import LinearRegression\n",
        "from sklearn import metrics"
      ],
      "execution_count": 15,
      "outputs": []
    },
    {
      "cell_type": "code",
      "metadata": {
        "id": "diL6HQHebAG9",
        "colab_type": "code",
        "colab": {}
      },
      "source": [
        "###Declare target feature\n",
        "y = donors['made_donation_in_march_2007']"
      ],
      "execution_count": 16,
      "outputs": []
    },
    {
      "cell_type": "code",
      "metadata": {
        "id": "5M36ATEsbO7x",
        "colab_type": "code",
        "colab": {}
      },
      "source": [
        "###Declare features\n",
        "x = donors[['number_of_donations','total_volume_donated','months_since_last_donation']]"
      ],
      "execution_count": 17,
      "outputs": []
    },
    {
      "cell_type": "code",
      "metadata": {
        "id": "p987eL-5behh",
        "colab_type": "code",
        "colab": {}
      },
      "source": [
        "###Split data for train and test with test size at 25% of our data\n",
        "x_train, x_test, y_train, y_test = train_test_split(x, y, test_size=0.25, random_state=70)"
      ],
      "execution_count": 18,
      "outputs": []
    },
    {
      "cell_type": "code",
      "metadata": {
        "id": "DzQZmH7ucQ5h",
        "colab_type": "code",
        "colab": {
          "base_uri": "https://localhost:8080/",
          "height": 425
        },
        "outputId": "2cdc8628-ec6a-47ef-cf3b-6e44a5709a00"
      },
      "source": [
        "print(x_train.head())\n",
        "print(y_train.head())\n",
        "print(x_test.head())\n",
        "print(y_test.head())"
      ],
      "execution_count": 19,
      "outputs": [
        {
          "output_type": "stream",
          "text": [
            "     number_of_donations  total_volume_donated  months_since_last_donation\n",
            "253                    3                   750                          11\n",
            "74                     2                   500                           2\n",
            "458                    1                   250                          21\n",
            "523                   10                  2500                           1\n",
            "69                     9                  2250                           1\n",
            "253    1\n",
            "74     1\n",
            "458    0\n",
            "523    1\n",
            "69     0\n",
            "Name: made_donation_in_march_2007, dtype: int64\n",
            "     number_of_donations  total_volume_donated  months_since_last_donation\n",
            "688                    3                   750                          14\n",
            "695                    7                  1750                          17\n",
            "268                    7                  1750                           4\n",
            "531                    4                  1000                           2\n",
            "588                    1                   250                           2\n",
            "688    0\n",
            "695    1\n",
            "268    0\n",
            "531    1\n",
            "588    0\n",
            "Name: made_donation_in_march_2007, dtype: int64\n"
          ],
          "name": "stdout"
        }
      ]
    },
    {
      "cell_type": "markdown",
      "metadata": {
        "colab_type": "text",
        "id": "ln9fqAghRmQT"
      },
      "source": [
        "## 1.2. Use scikit-learn to fit a logistic regression model\n",
        "\n",
        "You may use any number of features"
      ]
    },
    {
      "cell_type": "code",
      "metadata": {
        "colab_type": "code",
        "id": "a2jf_deRRl64",
        "colab": {}
      },
      "source": [
        "###Import LogisticRegression\n",
        "from sklearn.linear_model import LogisticRegression\n",
        "from sklearn.metrics import accuracy_score"
      ],
      "execution_count": 20,
      "outputs": []
    },
    {
      "cell_type": "code",
      "metadata": {
        "id": "OmyGxkGyy-q4",
        "colab_type": "code",
        "colab": {
          "base_uri": "https://localhost:8080/",
          "height": 102
        },
        "outputId": "f1d2ecff-ffda-4e9a-882b-e924087b899f"
      },
      "source": [
        "donors_log_reg = LogisticRegression(solver='lbfgs')\n",
        "donors_log_reg.fit(x_train, y_train)"
      ],
      "execution_count": 21,
      "outputs": [
        {
          "output_type": "execute_result",
          "data": {
            "text/plain": [
              "LogisticRegression(C=1.0, class_weight=None, dual=False, fit_intercept=True,\n",
              "                   intercept_scaling=1, l1_ratio=None, max_iter=100,\n",
              "                   multi_class='auto', n_jobs=None, penalty='l2',\n",
              "                   random_state=None, solver='lbfgs', tol=0.0001, verbose=0,\n",
              "                   warm_start=False)"
            ]
          },
          "metadata": {
            "tags": []
          },
          "execution_count": 21
        }
      ]
    },
    {
      "cell_type": "markdown",
      "metadata": {
        "colab_type": "text",
        "id": "Ah6EhiRVSusy"
      },
      "source": [
        "## 1.3. Report classification metric: accuracy\n",
        "\n",
        "What is your model's accuracy on the test set?\n",
        "\n",
        "Don't worry if your model doesn't beat the majority class baseline. That's okay!\n",
        "\n",
        "_\"The combination of some data and an aching desire for an answer does not ensure that a reasonable answer can be extracted from a given body of data.\"_ —[John Tukey](https://en.wikiquote.org/wiki/John_Tukey)\n",
        "\n",
        "(Also, if we used recall score instead of accuracy score, then your model would almost certainly beat the baseline. We'll discuss how to choose and interpret evaluation metrics throughout this unit.)\n"
      ]
    },
    {
      "cell_type": "code",
      "metadata": {
        "id": "XaLcadBN4QJW",
        "colab_type": "code",
        "colab": {}
      },
      "source": [
        "###Majority Class Baseline Accuracy\n",
        "majority_class = y_train.mode()"
      ],
      "execution_count": 22,
      "outputs": []
    },
    {
      "cell_type": "code",
      "metadata": {
        "id": "JGgWaO314vR6",
        "colab_type": "code",
        "colab": {
          "base_uri": "https://localhost:8080/",
          "height": 34
        },
        "outputId": "e785935b-e4a4-4270-f60e-71483630744a"
      },
      "source": [
        "y_pred = [majority_class] * len(y_train)\n",
        "print(len(y_train))"
      ],
      "execution_count": 23,
      "outputs": [
        {
          "output_type": "stream",
          "text": [
            "561\n"
          ],
          "name": "stdout"
        }
      ]
    },
    {
      "cell_type": "code",
      "metadata": {
        "id": "6rxNZbRU5KRQ",
        "colab_type": "code",
        "colab": {
          "base_uri": "https://localhost:8080/",
          "height": 34
        },
        "outputId": "8c383e07-8422-441c-ace5-25844fd0519d"
      },
      "source": [
        "accuracy_score(y_train, y_pred)"
      ],
      "execution_count": 24,
      "outputs": [
        {
          "output_type": "execute_result",
          "data": {
            "text/plain": [
              "0.7700534759358288"
            ]
          },
          "metadata": {
            "tags": []
          },
          "execution_count": 24
        }
      ]
    },
    {
      "cell_type": "code",
      "metadata": {
        "colab_type": "code",
        "id": "ZfJ2NFsASt9_",
        "colab": {
          "base_uri": "https://localhost:8080/",
          "height": 34
        },
        "outputId": "7283bf56-16df-43f6-9990-cc1481d21451"
      },
      "source": [
        "print('Validation Accuracy', donors_log_reg.score(x_test, y_test))"
      ],
      "execution_count": 25,
      "outputs": [
        {
          "output_type": "stream",
          "text": [
            "Validation Accuracy 0.7486631016042781\n"
          ],
          "name": "stdout"
        }
      ]
    },
    {
      "cell_type": "markdown",
      "metadata": {
        "colab_type": "text",
        "id": "xDmZn3ApOM7t"
      },
      "source": [
        "# Part 2, Regression: Predict home prices in Ames, Iowa 🏠\n",
        "\n",
        "You'll use historical housing data. ***There's a data dictionary at the bottom of the notebook.*** \n",
        "\n",
        "Run this code cell to load the dataset:\n",
        "\n",
        "\n",
        "\n"
      ]
    },
    {
      "cell_type": "code",
      "metadata": {
        "id": "sGL-OdvPJA6e",
        "colab_type": "code",
        "colab": {}
      },
      "source": [
        "from category_encoders import OneHotEncoder as ce\n",
        "from sklearn.linear_model import LinearRegression\n",
        "from sklearn.metrics import mean_absolute_error\n",
        "from sklearn.feature_selection import SelectKBest\n",
        "from sklearn.metrics import mean_squared_error"
      ],
      "execution_count": 26,
      "outputs": []
    },
    {
      "cell_type": "code",
      "metadata": {
        "colab_type": "code",
        "id": "7ptoRG1lu7H4",
        "colab": {}
      },
      "source": [
        "import pandas as pd\n",
        "URL = 'https://drive.google.com/uc?export=download&id=1522WlEW6HFss36roD_Cd9nybqSuiVcCK'\n",
        "homes = pd.read_csv(URL)\n",
        "assert homes.shape == (2904, 47)"
      ],
      "execution_count": 27,
      "outputs": []
    },
    {
      "cell_type": "code",
      "metadata": {
        "id": "ZBUnZxpAB_Pa",
        "colab_type": "code",
        "colab": {
          "base_uri": "https://localhost:8080/",
          "height": 224
        },
        "outputId": "627b80ad-2df4-445d-dd0b-861ef3b549dd"
      },
      "source": [
        "homes.head()"
      ],
      "execution_count": 28,
      "outputs": [
        {
          "output_type": "execute_result",
          "data": {
            "text/html": [
              "<div>\n",
              "<style scoped>\n",
              "    .dataframe tbody tr th:only-of-type {\n",
              "        vertical-align: middle;\n",
              "    }\n",
              "\n",
              "    .dataframe tbody tr th {\n",
              "        vertical-align: top;\n",
              "    }\n",
              "\n",
              "    .dataframe thead th {\n",
              "        text-align: right;\n",
              "    }\n",
              "</style>\n",
              "<table border=\"1\" class=\"dataframe\">\n",
              "  <thead>\n",
              "    <tr style=\"text-align: right;\">\n",
              "      <th></th>\n",
              "      <th>1st_Flr_SF</th>\n",
              "      <th>Bedroom_AbvGr</th>\n",
              "      <th>Bldg_Type</th>\n",
              "      <th>Bsmt_Full_Bath</th>\n",
              "      <th>Bsmt_Half_Bath</th>\n",
              "      <th>Central_Air</th>\n",
              "      <th>Condition_1</th>\n",
              "      <th>Condition_2</th>\n",
              "      <th>Electrical</th>\n",
              "      <th>Exter_Cond</th>\n",
              "      <th>Exter_Qual</th>\n",
              "      <th>Exterior_1st</th>\n",
              "      <th>Exterior_2nd</th>\n",
              "      <th>Foundation</th>\n",
              "      <th>Full_Bath</th>\n",
              "      <th>Functional</th>\n",
              "      <th>Gr_Liv_Area</th>\n",
              "      <th>Half_Bath</th>\n",
              "      <th>Heating</th>\n",
              "      <th>Heating_QC</th>\n",
              "      <th>House_Style</th>\n",
              "      <th>Kitchen_AbvGr</th>\n",
              "      <th>Kitchen_Qual</th>\n",
              "      <th>Land_Contour</th>\n",
              "      <th>Land_Slope</th>\n",
              "      <th>Lot_Area</th>\n",
              "      <th>Lot_Config</th>\n",
              "      <th>Lot_Shape</th>\n",
              "      <th>MS_SubClass</th>\n",
              "      <th>MS_Zoning</th>\n",
              "      <th>Mas_Vnr_Type</th>\n",
              "      <th>Mo_Sold</th>\n",
              "      <th>Neighborhood</th>\n",
              "      <th>Overall_Cond</th>\n",
              "      <th>Overall_Qual</th>\n",
              "      <th>Paved_Drive</th>\n",
              "      <th>Roof_Matl</th>\n",
              "      <th>Roof_Style</th>\n",
              "      <th>SalePrice</th>\n",
              "      <th>Sale_Condition</th>\n",
              "      <th>Sale_Type</th>\n",
              "      <th>Street</th>\n",
              "      <th>TotRms_AbvGrd</th>\n",
              "      <th>Utilities</th>\n",
              "      <th>Year_Built</th>\n",
              "      <th>Year_Remod/Add</th>\n",
              "      <th>Yr_Sold</th>\n",
              "    </tr>\n",
              "  </thead>\n",
              "  <tbody>\n",
              "    <tr>\n",
              "      <th>0</th>\n",
              "      <td>1656</td>\n",
              "      <td>3</td>\n",
              "      <td>1Fam</td>\n",
              "      <td>1.0</td>\n",
              "      <td>0.0</td>\n",
              "      <td>Y</td>\n",
              "      <td>Norm</td>\n",
              "      <td>Norm</td>\n",
              "      <td>SBrkr</td>\n",
              "      <td>TA</td>\n",
              "      <td>TA</td>\n",
              "      <td>BrkFace</td>\n",
              "      <td>Plywood</td>\n",
              "      <td>CBlock</td>\n",
              "      <td>1</td>\n",
              "      <td>Typ</td>\n",
              "      <td>1656</td>\n",
              "      <td>0</td>\n",
              "      <td>GasA</td>\n",
              "      <td>Fa</td>\n",
              "      <td>1Story</td>\n",
              "      <td>1</td>\n",
              "      <td>TA</td>\n",
              "      <td>Lvl</td>\n",
              "      <td>Gtl</td>\n",
              "      <td>31770</td>\n",
              "      <td>Corner</td>\n",
              "      <td>IR1</td>\n",
              "      <td>20</td>\n",
              "      <td>RL</td>\n",
              "      <td>Stone</td>\n",
              "      <td>5</td>\n",
              "      <td>NAmes</td>\n",
              "      <td>5</td>\n",
              "      <td>6</td>\n",
              "      <td>P</td>\n",
              "      <td>CompShg</td>\n",
              "      <td>Hip</td>\n",
              "      <td>215000</td>\n",
              "      <td>Normal</td>\n",
              "      <td>WD</td>\n",
              "      <td>Pave</td>\n",
              "      <td>7</td>\n",
              "      <td>AllPub</td>\n",
              "      <td>1960</td>\n",
              "      <td>1960</td>\n",
              "      <td>2010</td>\n",
              "    </tr>\n",
              "    <tr>\n",
              "      <th>1</th>\n",
              "      <td>896</td>\n",
              "      <td>2</td>\n",
              "      <td>1Fam</td>\n",
              "      <td>0.0</td>\n",
              "      <td>0.0</td>\n",
              "      <td>Y</td>\n",
              "      <td>Feedr</td>\n",
              "      <td>Norm</td>\n",
              "      <td>SBrkr</td>\n",
              "      <td>TA</td>\n",
              "      <td>TA</td>\n",
              "      <td>VinylSd</td>\n",
              "      <td>VinylSd</td>\n",
              "      <td>CBlock</td>\n",
              "      <td>1</td>\n",
              "      <td>Typ</td>\n",
              "      <td>896</td>\n",
              "      <td>0</td>\n",
              "      <td>GasA</td>\n",
              "      <td>TA</td>\n",
              "      <td>1Story</td>\n",
              "      <td>1</td>\n",
              "      <td>TA</td>\n",
              "      <td>Lvl</td>\n",
              "      <td>Gtl</td>\n",
              "      <td>11622</td>\n",
              "      <td>Inside</td>\n",
              "      <td>Reg</td>\n",
              "      <td>20</td>\n",
              "      <td>RH</td>\n",
              "      <td>None</td>\n",
              "      <td>6</td>\n",
              "      <td>NAmes</td>\n",
              "      <td>6</td>\n",
              "      <td>5</td>\n",
              "      <td>Y</td>\n",
              "      <td>CompShg</td>\n",
              "      <td>Gable</td>\n",
              "      <td>105000</td>\n",
              "      <td>Normal</td>\n",
              "      <td>WD</td>\n",
              "      <td>Pave</td>\n",
              "      <td>5</td>\n",
              "      <td>AllPub</td>\n",
              "      <td>1961</td>\n",
              "      <td>1961</td>\n",
              "      <td>2010</td>\n",
              "    </tr>\n",
              "    <tr>\n",
              "      <th>2</th>\n",
              "      <td>1329</td>\n",
              "      <td>3</td>\n",
              "      <td>1Fam</td>\n",
              "      <td>0.0</td>\n",
              "      <td>0.0</td>\n",
              "      <td>Y</td>\n",
              "      <td>Norm</td>\n",
              "      <td>Norm</td>\n",
              "      <td>SBrkr</td>\n",
              "      <td>TA</td>\n",
              "      <td>TA</td>\n",
              "      <td>Wd Sdng</td>\n",
              "      <td>Wd Sdng</td>\n",
              "      <td>CBlock</td>\n",
              "      <td>1</td>\n",
              "      <td>Typ</td>\n",
              "      <td>1329</td>\n",
              "      <td>1</td>\n",
              "      <td>GasA</td>\n",
              "      <td>TA</td>\n",
              "      <td>1Story</td>\n",
              "      <td>1</td>\n",
              "      <td>Gd</td>\n",
              "      <td>Lvl</td>\n",
              "      <td>Gtl</td>\n",
              "      <td>14267</td>\n",
              "      <td>Corner</td>\n",
              "      <td>IR1</td>\n",
              "      <td>20</td>\n",
              "      <td>RL</td>\n",
              "      <td>BrkFace</td>\n",
              "      <td>6</td>\n",
              "      <td>NAmes</td>\n",
              "      <td>6</td>\n",
              "      <td>6</td>\n",
              "      <td>Y</td>\n",
              "      <td>CompShg</td>\n",
              "      <td>Hip</td>\n",
              "      <td>172000</td>\n",
              "      <td>Normal</td>\n",
              "      <td>WD</td>\n",
              "      <td>Pave</td>\n",
              "      <td>6</td>\n",
              "      <td>AllPub</td>\n",
              "      <td>1958</td>\n",
              "      <td>1958</td>\n",
              "      <td>2010</td>\n",
              "    </tr>\n",
              "    <tr>\n",
              "      <th>3</th>\n",
              "      <td>2110</td>\n",
              "      <td>3</td>\n",
              "      <td>1Fam</td>\n",
              "      <td>1.0</td>\n",
              "      <td>0.0</td>\n",
              "      <td>Y</td>\n",
              "      <td>Norm</td>\n",
              "      <td>Norm</td>\n",
              "      <td>SBrkr</td>\n",
              "      <td>TA</td>\n",
              "      <td>Gd</td>\n",
              "      <td>BrkFace</td>\n",
              "      <td>BrkFace</td>\n",
              "      <td>CBlock</td>\n",
              "      <td>2</td>\n",
              "      <td>Typ</td>\n",
              "      <td>2110</td>\n",
              "      <td>1</td>\n",
              "      <td>GasA</td>\n",
              "      <td>Ex</td>\n",
              "      <td>1Story</td>\n",
              "      <td>1</td>\n",
              "      <td>Ex</td>\n",
              "      <td>Lvl</td>\n",
              "      <td>Gtl</td>\n",
              "      <td>11160</td>\n",
              "      <td>Corner</td>\n",
              "      <td>Reg</td>\n",
              "      <td>20</td>\n",
              "      <td>RL</td>\n",
              "      <td>None</td>\n",
              "      <td>4</td>\n",
              "      <td>NAmes</td>\n",
              "      <td>5</td>\n",
              "      <td>7</td>\n",
              "      <td>Y</td>\n",
              "      <td>CompShg</td>\n",
              "      <td>Hip</td>\n",
              "      <td>244000</td>\n",
              "      <td>Normal</td>\n",
              "      <td>WD</td>\n",
              "      <td>Pave</td>\n",
              "      <td>8</td>\n",
              "      <td>AllPub</td>\n",
              "      <td>1968</td>\n",
              "      <td>1968</td>\n",
              "      <td>2010</td>\n",
              "    </tr>\n",
              "    <tr>\n",
              "      <th>4</th>\n",
              "      <td>928</td>\n",
              "      <td>3</td>\n",
              "      <td>1Fam</td>\n",
              "      <td>0.0</td>\n",
              "      <td>0.0</td>\n",
              "      <td>Y</td>\n",
              "      <td>Norm</td>\n",
              "      <td>Norm</td>\n",
              "      <td>SBrkr</td>\n",
              "      <td>TA</td>\n",
              "      <td>TA</td>\n",
              "      <td>VinylSd</td>\n",
              "      <td>VinylSd</td>\n",
              "      <td>PConc</td>\n",
              "      <td>2</td>\n",
              "      <td>Typ</td>\n",
              "      <td>1629</td>\n",
              "      <td>1</td>\n",
              "      <td>GasA</td>\n",
              "      <td>Gd</td>\n",
              "      <td>2Story</td>\n",
              "      <td>1</td>\n",
              "      <td>TA</td>\n",
              "      <td>Lvl</td>\n",
              "      <td>Gtl</td>\n",
              "      <td>13830</td>\n",
              "      <td>Inside</td>\n",
              "      <td>IR1</td>\n",
              "      <td>60</td>\n",
              "      <td>RL</td>\n",
              "      <td>None</td>\n",
              "      <td>3</td>\n",
              "      <td>Gilbert</td>\n",
              "      <td>5</td>\n",
              "      <td>5</td>\n",
              "      <td>Y</td>\n",
              "      <td>CompShg</td>\n",
              "      <td>Gable</td>\n",
              "      <td>189900</td>\n",
              "      <td>Normal</td>\n",
              "      <td>WD</td>\n",
              "      <td>Pave</td>\n",
              "      <td>6</td>\n",
              "      <td>AllPub</td>\n",
              "      <td>1997</td>\n",
              "      <td>1998</td>\n",
              "      <td>2010</td>\n",
              "    </tr>\n",
              "  </tbody>\n",
              "</table>\n",
              "</div>"
            ],
            "text/plain": [
              "   1st_Flr_SF  Bedroom_AbvGr Bldg_Type  ...  Year_Built  Year_Remod/Add Yr_Sold\n",
              "0        1656              3      1Fam  ...        1960            1960    2010\n",
              "1         896              2      1Fam  ...        1961            1961    2010\n",
              "2        1329              3      1Fam  ...        1958            1958    2010\n",
              "3        2110              3      1Fam  ...        1968            1968    2010\n",
              "4         928              3      1Fam  ...        1997            1998    2010\n",
              "\n",
              "[5 rows x 47 columns]"
            ]
          },
          "metadata": {
            "tags": []
          },
          "execution_count": 28
        }
      ]
    },
    {
      "cell_type": "code",
      "metadata": {
        "id": "mNMjkb4qCTZ-",
        "colab_type": "code",
        "colab": {
          "base_uri": "https://localhost:8080/",
          "height": 833
        },
        "outputId": "812a55e2-8075-4659-9409-e8ce51d83f6e"
      },
      "source": [
        "homes.isnull().sum()"
      ],
      "execution_count": 29,
      "outputs": [
        {
          "output_type": "execute_result",
          "data": {
            "text/plain": [
              "1st_Flr_SF        0\n",
              "Bedroom_AbvGr     0\n",
              "Bldg_Type         0\n",
              "Bsmt_Full_Bath    0\n",
              "Bsmt_Half_Bath    0\n",
              "Central_Air       0\n",
              "Condition_1       0\n",
              "Condition_2       0\n",
              "Electrical        0\n",
              "Exter_Cond        0\n",
              "Exter_Qual        0\n",
              "Exterior_1st      0\n",
              "Exterior_2nd      0\n",
              "Foundation        0\n",
              "Full_Bath         0\n",
              "Functional        0\n",
              "Gr_Liv_Area       0\n",
              "Half_Bath         0\n",
              "Heating           0\n",
              "Heating_QC        0\n",
              "House_Style       0\n",
              "Kitchen_AbvGr     0\n",
              "Kitchen_Qual      0\n",
              "Land_Contour      0\n",
              "Land_Slope        0\n",
              "Lot_Area          0\n",
              "Lot_Config        0\n",
              "Lot_Shape         0\n",
              "MS_SubClass       0\n",
              "MS_Zoning         0\n",
              "Mas_Vnr_Type      0\n",
              "Mo_Sold           0\n",
              "Neighborhood      0\n",
              "Overall_Cond      0\n",
              "Overall_Qual      0\n",
              "Paved_Drive       0\n",
              "Roof_Matl         0\n",
              "Roof_Style        0\n",
              "SalePrice         0\n",
              "Sale_Condition    0\n",
              "Sale_Type         0\n",
              "Street            0\n",
              "TotRms_AbvGrd     0\n",
              "Utilities         0\n",
              "Year_Built        0\n",
              "Year_Remod/Add    0\n",
              "Yr_Sold           0\n",
              "dtype: int64"
            ]
          },
          "metadata": {
            "tags": []
          },
          "execution_count": 29
        }
      ]
    },
    {
      "cell_type": "code",
      "metadata": {
        "id": "EBKFekJNCd3R",
        "colab_type": "code",
        "colab": {}
      },
      "source": [
        "homes_corr = homes.corr()"
      ],
      "execution_count": 30,
      "outputs": []
    },
    {
      "cell_type": "code",
      "metadata": {
        "id": "8IcRwq9xCmze",
        "colab_type": "code",
        "colab": {
          "base_uri": "https://localhost:8080/",
          "height": 627
        },
        "outputId": "eb6a342c-2f3d-4834-c0ff-e2fa55dafdfc"
      },
      "source": [
        "homes_corr"
      ],
      "execution_count": 31,
      "outputs": [
        {
          "output_type": "execute_result",
          "data": {
            "text/html": [
              "<div>\n",
              "<style scoped>\n",
              "    .dataframe tbody tr th:only-of-type {\n",
              "        vertical-align: middle;\n",
              "    }\n",
              "\n",
              "    .dataframe tbody tr th {\n",
              "        vertical-align: top;\n",
              "    }\n",
              "\n",
              "    .dataframe thead th {\n",
              "        text-align: right;\n",
              "    }\n",
              "</style>\n",
              "<table border=\"1\" class=\"dataframe\">\n",
              "  <thead>\n",
              "    <tr style=\"text-align: right;\">\n",
              "      <th></th>\n",
              "      <th>1st_Flr_SF</th>\n",
              "      <th>Bedroom_AbvGr</th>\n",
              "      <th>Bsmt_Full_Bath</th>\n",
              "      <th>Bsmt_Half_Bath</th>\n",
              "      <th>Full_Bath</th>\n",
              "      <th>Gr_Liv_Area</th>\n",
              "      <th>Half_Bath</th>\n",
              "      <th>Kitchen_AbvGr</th>\n",
              "      <th>Lot_Area</th>\n",
              "      <th>MS_SubClass</th>\n",
              "      <th>Mo_Sold</th>\n",
              "      <th>Overall_Cond</th>\n",
              "      <th>Overall_Qual</th>\n",
              "      <th>SalePrice</th>\n",
              "      <th>TotRms_AbvGrd</th>\n",
              "      <th>Year_Built</th>\n",
              "      <th>Year_Remod/Add</th>\n",
              "      <th>Yr_Sold</th>\n",
              "    </tr>\n",
              "  </thead>\n",
              "  <tbody>\n",
              "    <tr>\n",
              "      <th>1st_Flr_SF</th>\n",
              "      <td>1.000000</td>\n",
              "      <td>0.103504</td>\n",
              "      <td>0.262002</td>\n",
              "      <td>0.011453</td>\n",
              "      <td>0.369598</td>\n",
              "      <td>0.559269</td>\n",
              "      <td>-0.108080</td>\n",
              "      <td>0.072422</td>\n",
              "      <td>0.323763</td>\n",
              "      <td>-0.246788</td>\n",
              "      <td>0.038717</td>\n",
              "      <td>-0.159271</td>\n",
              "      <td>0.484824</td>\n",
              "      <td>0.625522</td>\n",
              "      <td>0.389427</td>\n",
              "      <td>0.317322</td>\n",
              "      <td>0.244881</td>\n",
              "      <td>-0.011096</td>\n",
              "    </tr>\n",
              "    <tr>\n",
              "      <th>Bedroom_AbvGr</th>\n",
              "      <td>0.103504</td>\n",
              "      <td>1.000000</td>\n",
              "      <td>-0.161262</td>\n",
              "      <td>0.020406</td>\n",
              "      <td>0.358343</td>\n",
              "      <td>0.515283</td>\n",
              "      <td>0.248429</td>\n",
              "      <td>0.240415</td>\n",
              "      <td>0.131601</td>\n",
              "      <td>-0.018295</td>\n",
              "      <td>0.056390</td>\n",
              "      <td>-0.006388</td>\n",
              "      <td>0.066016</td>\n",
              "      <td>0.144901</td>\n",
              "      <td>0.671047</td>\n",
              "      <td>-0.053987</td>\n",
              "      <td>-0.021297</td>\n",
              "      <td>-0.021135</td>\n",
              "    </tr>\n",
              "    <tr>\n",
              "      <th>Bsmt_Full_Bath</th>\n",
              "      <td>0.262002</td>\n",
              "      <td>-0.161262</td>\n",
              "      <td>1.000000</td>\n",
              "      <td>-0.149844</td>\n",
              "      <td>-0.020935</td>\n",
              "      <td>0.057701</td>\n",
              "      <td>-0.035369</td>\n",
              "      <td>-0.020393</td>\n",
              "      <td>0.125163</td>\n",
              "      <td>0.014355</td>\n",
              "      <td>-0.002737</td>\n",
              "      <td>-0.042198</td>\n",
              "      <td>0.168546</td>\n",
              "      <td>0.276769</td>\n",
              "      <td>-0.044031</td>\n",
              "      <td>0.214668</td>\n",
              "      <td>0.136486</td>\n",
              "      <td>0.045575</td>\n",
              "    </tr>\n",
              "    <tr>\n",
              "      <th>Bsmt_Half_Bath</th>\n",
              "      <td>0.011453</td>\n",
              "      <td>0.020406</td>\n",
              "      <td>-0.149844</td>\n",
              "      <td>1.000000</td>\n",
              "      <td>-0.044800</td>\n",
              "      <td>-0.042873</td>\n",
              "      <td>-0.057016</td>\n",
              "      <td>-0.064984</td>\n",
              "      <td>0.027171</td>\n",
              "      <td>-0.003696</td>\n",
              "      <td>0.023707</td>\n",
              "      <td>0.083517</td>\n",
              "      <td>-0.040219</td>\n",
              "      <td>-0.034730</td>\n",
              "      <td>-0.048101</td>\n",
              "      <td>-0.028634</td>\n",
              "      <td>-0.044547</td>\n",
              "      <td>-0.019915</td>\n",
              "    </tr>\n",
              "    <tr>\n",
              "      <th>Full_Bath</th>\n",
              "      <td>0.369598</td>\n",
              "      <td>0.358343</td>\n",
              "      <td>-0.020935</td>\n",
              "      <td>-0.044800</td>\n",
              "      <td>1.000000</td>\n",
              "      <td>0.630029</td>\n",
              "      <td>0.155499</td>\n",
              "      <td>0.170443</td>\n",
              "      <td>0.121190</td>\n",
              "      <td>0.138970</td>\n",
              "      <td>0.044232</td>\n",
              "      <td>-0.212105</td>\n",
              "      <td>0.523776</td>\n",
              "      <td>0.545927</td>\n",
              "      <td>0.528356</td>\n",
              "      <td>0.468618</td>\n",
              "      <td>0.455560</td>\n",
              "      <td>-0.003957</td>\n",
              "    </tr>\n",
              "    <tr>\n",
              "      <th>Gr_Liv_Area</th>\n",
              "      <td>0.559269</td>\n",
              "      <td>0.515283</td>\n",
              "      <td>0.057701</td>\n",
              "      <td>-0.042873</td>\n",
              "      <td>0.630029</td>\n",
              "      <td>1.000000</td>\n",
              "      <td>0.434327</td>\n",
              "      <td>0.116525</td>\n",
              "      <td>0.278829</td>\n",
              "      <td>0.070312</td>\n",
              "      <td>0.043635</td>\n",
              "      <td>-0.115766</td>\n",
              "      <td>0.574431</td>\n",
              "      <td>0.708095</td>\n",
              "      <td>0.807288</td>\n",
              "      <td>0.243151</td>\n",
              "      <td>0.317314</td>\n",
              "      <td>-0.026420</td>\n",
              "    </tr>\n",
              "    <tr>\n",
              "      <th>Half_Bath</th>\n",
              "      <td>-0.108080</td>\n",
              "      <td>0.248429</td>\n",
              "      <td>-0.035369</td>\n",
              "      <td>-0.057016</td>\n",
              "      <td>0.155499</td>\n",
              "      <td>0.434327</td>\n",
              "      <td>1.000000</td>\n",
              "      <td>-0.040391</td>\n",
              "      <td>0.034839</td>\n",
              "      <td>0.175882</td>\n",
              "      <td>-0.004410</td>\n",
              "      <td>-0.087259</td>\n",
              "      <td>0.266532</td>\n",
              "      <td>0.282205</td>\n",
              "      <td>0.347473</td>\n",
              "      <td>0.266079</td>\n",
              "      <td>0.207873</td>\n",
              "      <td>0.002886</td>\n",
              "    </tr>\n",
              "    <tr>\n",
              "      <th>Kitchen_AbvGr</th>\n",
              "      <td>0.072422</td>\n",
              "      <td>0.240415</td>\n",
              "      <td>-0.020393</td>\n",
              "      <td>-0.064984</td>\n",
              "      <td>0.170443</td>\n",
              "      <td>0.116525</td>\n",
              "      <td>-0.040391</td>\n",
              "      <td>1.000000</td>\n",
              "      <td>-0.024624</td>\n",
              "      <td>0.260240</td>\n",
              "      <td>0.038117</td>\n",
              "      <td>-0.083959</td>\n",
              "      <td>-0.159844</td>\n",
              "      <td>-0.120238</td>\n",
              "      <td>0.294340</td>\n",
              "      <td>-0.136594</td>\n",
              "      <td>-0.141325</td>\n",
              "      <td>0.036368</td>\n",
              "    </tr>\n",
              "    <tr>\n",
              "      <th>Lot_Area</th>\n",
              "      <td>0.323763</td>\n",
              "      <td>0.131601</td>\n",
              "      <td>0.125163</td>\n",
              "      <td>0.027171</td>\n",
              "      <td>0.121190</td>\n",
              "      <td>0.278829</td>\n",
              "      <td>0.034839</td>\n",
              "      <td>-0.024624</td>\n",
              "      <td>1.000000</td>\n",
              "      <td>-0.203376</td>\n",
              "      <td>0.004117</td>\n",
              "      <td>-0.034616</td>\n",
              "      <td>0.098892</td>\n",
              "      <td>0.265802</td>\n",
              "      <td>0.211162</td>\n",
              "      <td>0.024609</td>\n",
              "      <td>0.021248</td>\n",
              "      <td>-0.022190</td>\n",
              "    </tr>\n",
              "    <tr>\n",
              "      <th>MS_SubClass</th>\n",
              "      <td>-0.246788</td>\n",
              "      <td>-0.018295</td>\n",
              "      <td>0.014355</td>\n",
              "      <td>-0.003696</td>\n",
              "      <td>0.138970</td>\n",
              "      <td>0.070312</td>\n",
              "      <td>0.175882</td>\n",
              "      <td>0.260240</td>\n",
              "      <td>-0.203376</td>\n",
              "      <td>1.000000</td>\n",
              "      <td>0.001079</td>\n",
              "      <td>-0.068193</td>\n",
              "      <td>0.040691</td>\n",
              "      <td>-0.083644</td>\n",
              "      <td>0.032881</td>\n",
              "      <td>0.037647</td>\n",
              "      <td>0.044437</td>\n",
              "      <td>-0.018376</td>\n",
              "    </tr>\n",
              "    <tr>\n",
              "      <th>Mo_Sold</th>\n",
              "      <td>0.038717</td>\n",
              "      <td>0.056390</td>\n",
              "      <td>-0.002737</td>\n",
              "      <td>0.023707</td>\n",
              "      <td>0.044232</td>\n",
              "      <td>0.043635</td>\n",
              "      <td>-0.004410</td>\n",
              "      <td>0.038117</td>\n",
              "      <td>0.004117</td>\n",
              "      <td>0.001079</td>\n",
              "      <td>1.000000</td>\n",
              "      <td>-0.005914</td>\n",
              "      <td>0.026017</td>\n",
              "      <td>0.030698</td>\n",
              "      <td>0.045089</td>\n",
              "      <td>0.009694</td>\n",
              "      <td>0.013132</td>\n",
              "      <td>-0.155832</td>\n",
              "    </tr>\n",
              "    <tr>\n",
              "      <th>Overall_Cond</th>\n",
              "      <td>-0.159271</td>\n",
              "      <td>-0.006388</td>\n",
              "      <td>-0.042198</td>\n",
              "      <td>0.083517</td>\n",
              "      <td>-0.212105</td>\n",
              "      <td>-0.115766</td>\n",
              "      <td>-0.087259</td>\n",
              "      <td>-0.083959</td>\n",
              "      <td>-0.034616</td>\n",
              "      <td>-0.068193</td>\n",
              "      <td>-0.005914</td>\n",
              "      <td>1.000000</td>\n",
              "      <td>-0.091449</td>\n",
              "      <td>-0.099841</td>\n",
              "      <td>-0.089979</td>\n",
              "      <td>-0.367292</td>\n",
              "      <td>0.051843</td>\n",
              "      <td>0.030152</td>\n",
              "    </tr>\n",
              "    <tr>\n",
              "      <th>Overall_Qual</th>\n",
              "      <td>0.484824</td>\n",
              "      <td>0.066016</td>\n",
              "      <td>0.168546</td>\n",
              "      <td>-0.040219</td>\n",
              "      <td>0.523776</td>\n",
              "      <td>0.574431</td>\n",
              "      <td>0.266532</td>\n",
              "      <td>-0.159844</td>\n",
              "      <td>0.098892</td>\n",
              "      <td>0.040691</td>\n",
              "      <td>0.026017</td>\n",
              "      <td>-0.091449</td>\n",
              "      <td>1.000000</td>\n",
              "      <td>0.799119</td>\n",
              "      <td>0.383980</td>\n",
              "      <td>0.595248</td>\n",
              "      <td>0.567794</td>\n",
              "      <td>-0.018263</td>\n",
              "    </tr>\n",
              "    <tr>\n",
              "      <th>SalePrice</th>\n",
              "      <td>0.625522</td>\n",
              "      <td>0.144901</td>\n",
              "      <td>0.276769</td>\n",
              "      <td>-0.034730</td>\n",
              "      <td>0.545927</td>\n",
              "      <td>0.708095</td>\n",
              "      <td>0.282205</td>\n",
              "      <td>-0.120238</td>\n",
              "      <td>0.265802</td>\n",
              "      <td>-0.083644</td>\n",
              "      <td>0.030698</td>\n",
              "      <td>-0.099841</td>\n",
              "      <td>0.799119</td>\n",
              "      <td>1.000000</td>\n",
              "      <td>0.496314</td>\n",
              "      <td>0.558414</td>\n",
              "      <td>0.532115</td>\n",
              "      <td>-0.027753</td>\n",
              "    </tr>\n",
              "    <tr>\n",
              "      <th>TotRms_AbvGrd</th>\n",
              "      <td>0.389427</td>\n",
              "      <td>0.671047</td>\n",
              "      <td>-0.044031</td>\n",
              "      <td>-0.048101</td>\n",
              "      <td>0.528356</td>\n",
              "      <td>0.807288</td>\n",
              "      <td>0.347473</td>\n",
              "      <td>0.294340</td>\n",
              "      <td>0.211162</td>\n",
              "      <td>0.032881</td>\n",
              "      <td>0.045089</td>\n",
              "      <td>-0.089979</td>\n",
              "      <td>0.383980</td>\n",
              "      <td>0.496314</td>\n",
              "      <td>1.000000</td>\n",
              "      <td>0.113506</td>\n",
              "      <td>0.198428</td>\n",
              "      <td>-0.031408</td>\n",
              "    </tr>\n",
              "    <tr>\n",
              "      <th>Year_Built</th>\n",
              "      <td>0.317322</td>\n",
              "      <td>-0.053987</td>\n",
              "      <td>0.214668</td>\n",
              "      <td>-0.028634</td>\n",
              "      <td>0.468618</td>\n",
              "      <td>0.243151</td>\n",
              "      <td>0.266079</td>\n",
              "      <td>-0.136594</td>\n",
              "      <td>0.024609</td>\n",
              "      <td>0.037647</td>\n",
              "      <td>0.009694</td>\n",
              "      <td>-0.367292</td>\n",
              "      <td>0.595248</td>\n",
              "      <td>0.558414</td>\n",
              "      <td>0.113506</td>\n",
              "      <td>1.000000</td>\n",
              "      <td>0.608666</td>\n",
              "      <td>-0.011959</td>\n",
              "    </tr>\n",
              "    <tr>\n",
              "      <th>Year_Remod/Add</th>\n",
              "      <td>0.244881</td>\n",
              "      <td>-0.021297</td>\n",
              "      <td>0.136486</td>\n",
              "      <td>-0.044547</td>\n",
              "      <td>0.455560</td>\n",
              "      <td>0.317314</td>\n",
              "      <td>0.207873</td>\n",
              "      <td>-0.141325</td>\n",
              "      <td>0.021248</td>\n",
              "      <td>0.044437</td>\n",
              "      <td>0.013132</td>\n",
              "      <td>0.051843</td>\n",
              "      <td>0.567794</td>\n",
              "      <td>0.532115</td>\n",
              "      <td>0.198428</td>\n",
              "      <td>0.608666</td>\n",
              "      <td>1.000000</td>\n",
              "      <td>0.034200</td>\n",
              "    </tr>\n",
              "    <tr>\n",
              "      <th>Yr_Sold</th>\n",
              "      <td>-0.011096</td>\n",
              "      <td>-0.021135</td>\n",
              "      <td>0.045575</td>\n",
              "      <td>-0.019915</td>\n",
              "      <td>-0.003957</td>\n",
              "      <td>-0.026420</td>\n",
              "      <td>0.002886</td>\n",
              "      <td>0.036368</td>\n",
              "      <td>-0.022190</td>\n",
              "      <td>-0.018376</td>\n",
              "      <td>-0.155832</td>\n",
              "      <td>0.030152</td>\n",
              "      <td>-0.018263</td>\n",
              "      <td>-0.027753</td>\n",
              "      <td>-0.031408</td>\n",
              "      <td>-0.011959</td>\n",
              "      <td>0.034200</td>\n",
              "      <td>1.000000</td>\n",
              "    </tr>\n",
              "  </tbody>\n",
              "</table>\n",
              "</div>"
            ],
            "text/plain": [
              "                1st_Flr_SF  Bedroom_AbvGr  ...  Year_Remod/Add   Yr_Sold\n",
              "1st_Flr_SF        1.000000       0.103504  ...        0.244881 -0.011096\n",
              "Bedroom_AbvGr     0.103504       1.000000  ...       -0.021297 -0.021135\n",
              "Bsmt_Full_Bath    0.262002      -0.161262  ...        0.136486  0.045575\n",
              "Bsmt_Half_Bath    0.011453       0.020406  ...       -0.044547 -0.019915\n",
              "Full_Bath         0.369598       0.358343  ...        0.455560 -0.003957\n",
              "Gr_Liv_Area       0.559269       0.515283  ...        0.317314 -0.026420\n",
              "Half_Bath        -0.108080       0.248429  ...        0.207873  0.002886\n",
              "Kitchen_AbvGr     0.072422       0.240415  ...       -0.141325  0.036368\n",
              "Lot_Area          0.323763       0.131601  ...        0.021248 -0.022190\n",
              "MS_SubClass      -0.246788      -0.018295  ...        0.044437 -0.018376\n",
              "Mo_Sold           0.038717       0.056390  ...        0.013132 -0.155832\n",
              "Overall_Cond     -0.159271      -0.006388  ...        0.051843  0.030152\n",
              "Overall_Qual      0.484824       0.066016  ...        0.567794 -0.018263\n",
              "SalePrice         0.625522       0.144901  ...        0.532115 -0.027753\n",
              "TotRms_AbvGrd     0.389427       0.671047  ...        0.198428 -0.031408\n",
              "Year_Built        0.317322      -0.053987  ...        0.608666 -0.011959\n",
              "Year_Remod/Add    0.244881      -0.021297  ...        1.000000  0.034200\n",
              "Yr_Sold          -0.011096      -0.021135  ...        0.034200  1.000000\n",
              "\n",
              "[18 rows x 18 columns]"
            ]
          },
          "metadata": {
            "tags": []
          },
          "execution_count": 31
        }
      ]
    },
    {
      "cell_type": "code",
      "metadata": {
        "id": "1QbmJDx-CucJ",
        "colab_type": "code",
        "colab": {
          "base_uri": "https://localhost:8080/",
          "height": 560
        },
        "outputId": "088e2c8d-e44a-44c6-e27b-065dea319f77"
      },
      "source": [
        "plt.figure(figsize=(12, 8))\n",
        "sns.heatmap(homes_corr);"
      ],
      "execution_count": 32,
      "outputs": [
        {
          "output_type": "display_data",
          "data": {
            "image/png": "[encoded data removed]",
            "text/plain": [
              "<Figure size 864x576 with 2 Axes>"
            ]
          },
          "metadata": {
            "tags": [],
            "needs_background": "light"
          }
        }
      ]
    },
    {
      "cell_type": "code",
      "metadata": {
        "id": "iNuAABLaDMP9",
        "colab_type": "code",
        "colab": {
          "base_uri": "https://localhost:8080/",
          "height": 340
        },
        "outputId": "10c408f0-ecce-48be-a457-914faa46a292"
      },
      "source": [
        "###This helps me decide which numerical features make the most sense to use. \n",
        "homes_corr['SalePrice'].sort_values(ascending=False)"
      ],
      "execution_count": 33,
      "outputs": [
        {
          "output_type": "execute_result",
          "data": {
            "text/plain": [
              "SalePrice         1.000000\n",
              "Overall_Qual      0.799119\n",
              "Gr_Liv_Area       0.708095\n",
              "1st_Flr_SF        0.625522\n",
              "Year_Built        0.558414\n",
              "Full_Bath         0.545927\n",
              "Year_Remod/Add    0.532115\n",
              "TotRms_AbvGrd     0.496314\n",
              "Half_Bath         0.282205\n",
              "Bsmt_Full_Bath    0.276769\n",
              "Lot_Area          0.265802\n",
              "Bedroom_AbvGr     0.144901\n",
              "Mo_Sold           0.030698\n",
              "Yr_Sold          -0.027753\n",
              "Bsmt_Half_Bath   -0.034730\n",
              "MS_SubClass      -0.083644\n",
              "Overall_Cond     -0.099841\n",
              "Kitchen_AbvGr    -0.120238\n",
              "Name: SalePrice, dtype: float64"
            ]
          },
          "metadata": {
            "tags": []
          },
          "execution_count": 33
        }
      ]
    },
    {
      "cell_type": "code",
      "metadata": {
        "id": "Xu38u93mOiYR",
        "colab_type": "code",
        "colab": {}
      },
      "source": [
        "corr_home = homes_corr['SalePrice'].sort_values(ascending=False)"
      ],
      "execution_count": 34,
      "outputs": []
    },
    {
      "cell_type": "code",
      "metadata": {
        "id": "YfSmY5Sjzwa8",
        "colab_type": "code",
        "colab": {
          "base_uri": "https://localhost:8080/",
          "height": 340
        },
        "outputId": "04b95587-ee75-482b-8320-9708d905edc8"
      },
      "source": [
        "### This is displaying the correlation between the these features (numerical)\n",
        "### and the target 'SalePrice'\n",
        "list_corrs=corr_home.to_list\n",
        "list_corrs"
      ],
      "execution_count": 35,
      "outputs": [
        {
          "output_type": "execute_result",
          "data": {
            "text/plain": [
              "<bound method IndexOpsMixin.tolist of SalePrice         1.000000\n",
              "Overall_Qual      0.799119\n",
              "Gr_Liv_Area       0.708095\n",
              "1st_Flr_SF        0.625522\n",
              "Year_Built        0.558414\n",
              "Full_Bath         0.545927\n",
              "Year_Remod/Add    0.532115\n",
              "TotRms_AbvGrd     0.496314\n",
              "Half_Bath         0.282205\n",
              "Bsmt_Full_Bath    0.276769\n",
              "Lot_Area          0.265802\n",
              "Bedroom_AbvGr     0.144901\n",
              "Mo_Sold           0.030698\n",
              "Yr_Sold          -0.027753\n",
              "Bsmt_Half_Bath   -0.034730\n",
              "MS_SubClass      -0.083644\n",
              "Overall_Cond     -0.099841\n",
              "Kitchen_AbvGr    -0.120238\n",
              "Name: SalePrice, dtype: float64>"
            ]
          },
          "metadata": {
            "tags": []
          },
          "execution_count": 35
        }
      ]
    },
    {
      "cell_type": "code",
      "metadata": {
        "id": "h1j37T_IMyEL",
        "colab_type": "code",
        "colab": {
          "base_uri": "https://localhost:8080/",
          "height": 542
        },
        "outputId": "b9fe9c0f-8c4e-4971-cc48-05cc477e9b7e"
      },
      "source": [
        "fig = px.scatter(homes, x='Gr_Liv_Area',y='SalePrice',trendline='ols')\n",
        "fig.show()"
      ],
      "execution_count": 36,
      "outputs": [
        {
          "output_type": "display_data",
          "data": {
            "text/html": [
              "<html>\n",
              "<head><meta charset=\"utf-8\" /></head>\n",
              "<body>\n",
              "    <div>\n",
              "            <script src=\"https://cdnjs.cloudflare.com/ajax/libs/mathjax/2.7.5/MathJax.js?config=TeX-AMS-MML_SVG\"></script><script type=\"text/javascript\">if (window.MathJax) {MathJax.Hub.Config({SVG: {font: \"STIX-Web\"}});}</script>\n",
              "                <script type=\"text/javascript\">window.PlotlyConfig = {MathJaxConfig: 'local'};</script>\n",
              "        <script src=\"https://cdn.plot.ly/plotly-latest.min.js\"></script>    \n",
              "            <div id=\"d6f61444-bf9d-44c8-a4a7-80ffeb71f3b8\" class=\"plotly-graph-div\" style=\"height:525px; width:100%;\"></div>\n",
              "            <script type=\"text/javascript\">\n",
              "                \n",
              "                    window.PLOTLYENV=window.PLOTLYENV || {};\n",
              "                    \n",
              "                if (document.getElementById(\"d6f61444-bf9d-44c8-a4a7-80ffeb71f3b8\")) {\n",
              "                    Plotly.newPlot(\n",
              "                        'd6f61444-bf9d-44c8-a4a7-80ffeb71f3b8',\n",
              "                        [{\"hoverlabel\": {\"namelength\": 0}, \"hovertemplate\": \"Gr_Liv_Area=%{x}<br>SalePrice=%{y}\", \"legendgroup\": \"\", \"marker\": {\"color\": \"#636efa\", \"symbol\": \"circle\"}, \"mode\": \"markers\", \"name\": \"\", \"showlegend\": false, \"type\": \"scattergl\", \"x\": [1656, 896, 1329, 2110, 1629, 1604, 1338, 1280, 1616, 1804, 1655, 1187, 1465, 1341, 1502, 3279, 1752, 1856, 864, 2073, 1844, 1173, 1674, 1004, 1078, 1056, 882, 864, 1337, 987, 1092, 1092, 1069, 1456, 836, 1456, 2334, 1704, 1940, 1544, 1541, 1698, 1822, 1535, 2364, 1358, 2696, 2250, 1752, 1370, 1626, 1324, 1145, 1269, 1374, 1733, 1430, 2035, 2599, 2475, 1720, 2622, 2270, 1839, 3238, 1595, 1218, 1547, 1566, 1947, 1468, 2084, 1659, 2110, 923, 1845, 918, 752, 1744, 1097, 1564, 1012, 1902, 1155, 894, 900, 1040, 1040, 1494, 1923, 2349, 2225, 1488, 1680, 1200, 1200, 1200, 1236, 1478, 1573, 1512, 1416, 1080, 1418, 1848, 788, 1226, 1479, 1492, 1829, 2495, 1610, 1891, 1714, 1381, 1645, 1232, 1328, 1225, 1209, 1510, 1775, 1152, 1054, 1728, 1078, 2461, 1556, 858, 1306, 1063, 1520, 1268, 1128, 2274, 2207, 1888, 1604, 1480, 1143, 1700, 1314, 1194, 1188, 1264, 1206, 1580, 1337, 1064, 972, 988, 1057, 985, 827, 1086, 936, 1458, 1056, 1287, 2978, 1224, 1246, 1385, 900, 1116, 1175, 1395, 1839, 1844, 1140, 936, 1028, 1347, 1605, 747, 804, 1316, 1251, 1633, 1245, 832, 720, 1566, 1652, 2268, 2256, 1236, 1363, 2290, 1470, 1612, 2068, 765, 1132, 1196, 1453, 1416, 1040, 1536, 1068, 1710, 1962, 1560, 1324, 816, 1092, 1812, 2403, 1675, 1224, 1392, 919, 1884, 1680, 1020, 1832, 1768, 1039, 1392, 912, 1060, 892, 1352, 864, 1373, 1440, 1386, 2260, 1483, 756, 1067, 1524, 1981, 1610, 835, 1074, 1144, 1531, 1172, 1212, 1508, 1298, 930, 1732, 1433, 1802, 1949, 996, 1694, 1208, 1226, 1222, 3222, 1445, 1052, 965, 1692, 1682, 1026, 1392, 894, 876, 1978, 1601, 1829, 2098, 1661, 848, 848, 1668, 1484, 1414, 640, 992, 1664, 1196, 1120, 1096, 1117, 960, 1121, 1487, 924, 1526, 1296, 1647, 864, 1691, 856, 2650, 1666, 2447, 2133, 2177, 2340, 1902, 1652, 1034, 1191, 1801, 1154, 540, 1107, 1128, 1178, 1044, 952, 1646, 1916, 1285, 1560, 1034, 2048, 1687, 1346, 1214, 1444, 1968, 1894, 1908, 2018, 1264, 1430, 1824, 1344, 1092, 945, 1112, 1092, 630, 1092, 1092, 874, 1188, 833, 2432, 1274, 1479, 1803, 1797, 882, 1434, 2704, 1608, 2283, 1628, 1746, 1474, 2522, 1659, 1478, 1734, 1382, 1718, 1636, 1571, 1470, 1516, 1190, 1593, 1481, 1167, 1983, 1442, 1360, 2234, 2046, 1530, 1934, 2353, 1586, 1411, 1602, 2050, 1671, 2673, 1472, 1707, 2524, 1601, 1370, 1868, 1884, 1935, 1874, 1811, 1621, 1116, 1193, 1350, 2119, 1792, 1002, 1026, 1180, 1050, 864, 864, 864, 864, 864, 987, 1365, 1302, 987, 987, 1302, 958, 1548, 1456, 1055, 1322, 1456, 1548, 1441, 1456, 836, 892, 1120, 1718, 2772, 3140, 2402, 1652, 1600, 2042, 2690, 2184, 2020, 2020, 2296, 2674, 2822, 1736, 1782, 2520, 1717, 1743, 1713, 1531, 1808, 2224, 1836, 1629, 1760, 1502, 2392, 2452, 2400, 1606, 1358, 1306, 1306, 1358, 1314, 2492, 2200, 1884, 1456, 1712, 1324, 1405, 1626, 1456, 1490, 1484, 1560, 1555, 1569, 1555, 1504, 1220, 1145, 1432, 2267, 1374, 1630, 1419, 1594, 1489, 1342, 1314, 2256, 2054, 1374, 1800, 1514, 1430, 2312, 1675, 2060, 1430, 2365, 2794, 2687, 2450, 2612, 2344, 2063, 2646, 2061, 2232, 2448, 1850, 1468, 1696, 1658, 1578, 1702, 1432, 1971, 2490, 1852, 1590, 1218, 1314, 1402, 1530, 1766, 1448, 2007, 1795, 1953, 1550, 1836, 1662, 2094, 1221, 1553, 1653, 1218, 1141, 1158, 1812, 1512, 1114, 1114, 1114, 1450, 2122, 1844, 1434, 1730, 1217, 1332, 1540, 1400, 1882, 841, 784, 980, 980, 864, 864, 1020, 912, 1144, 864, 912, 2014, 1755, 3005, 1224, 1224, 1726, 1256, 1471, 1512, 1452, 1739, 1694, 1226, 1740, 2499, 1620, 1556, 1442, 1489, 2090, 2067, 1395, 2640, 1724, 1336, 1216, 2288, 1334, 1680, 1665, 864, 1568, 925, 2061, 1320, 1342, 894, 864, 864, 1362, 1728, 1776, 1516, 1313, 1292, 1154, 2140, 1445, 1041, 1576, 960, 708, 1203, 1505, 1691, 1644, 1050, 1668, 1113, 1584, 1453, 1394, 1567, 1986, 2142, 1392, 1738, 1144, 1478, 1329, 988, 1632, 1215, 1202, 1382, 1200, 1382, 1297, 1866, 1062, 1319, 1112, 1005, 1363, 793, 1031, 1210, 1699, 1527, 1200, 972, 792, 1656, 1352, 1039, 792, 1078, 2377, 1690, 599, 1374, 846, 725, 2544, 1380, 1040, 2634, 951, 1105, 1306, 1478, 1142, 1268, 1040, 1133, 1040, 1904, 1041, 1339, 732, 1183, 1148, 1461, 1495, 1806, 941, 1045, 894, 1224, 1230, 1378, 1944, 1131, 1306, 1464, 1558, 2372, 1701, 1960, 1389, 1447, 936, 1328, 1387, 861, 612, 968, 886, 792, 1452, 1510, 1284, 2138, 2640, 2007, 1288, 1742, 816, 1482, 1022, 1869, 1480, 1521, 720, 797, 1576, 1432, 1548, 1654, 952, 1324, 1176, 1348, 1412, 1142, 904, 1301, 1539, 1573, 800, 875, 995, 1582, 1072, 2134, 2019, 1768, 1826, 1944, 2229, 2128, 1930, 1208, 1427, 1864, 1666, 892, 1403, 704, 1200, 1200, 1152, 904, 1369, 1112, 1464, 1121, 1683, 1052, 899, 1034, 858, 860, 1092, 1774, 1138, 2071, 660, 1788, 1473, 1229, 861, 1867, 1733, 1383, 1689, 1073, 1276, 1639, 672, 1089, 845, 1049, 1716, 1258, 1510, 1061, 1338, 2132, 2196, 1775, 1879, 2020, 2016, 1535, 1224, 2228, 1535, 1535, 2240, 1229, 1513, 2787, 2787, 2787, 1680, 1718, 1630, 1720, 1468, 1768, 1838, 1800, 1604, 1290, 1254, 1232, 1498, 1422, 1644, 1759, 2126, 1040, 990, 1764, 1661, 1463, 1097, 990, 1779, 1501, 1431, 1772, 1660, 1573, 1840, 1430, 1444, 1492, 1040, 907, 914, 1040, 864, 1268, 864, 894, 768, 768, 1611, 2184, 1788, 1872, 2153, 1870, 1513, 1504, 1828, 1417, 2034, 1716, 1212, 1630, 848, 848, 1602, 1728, 1500, 1476, 1396, 1126, 1486, 816, 1922, 1426, 1149, 1125, 1698, 1072, 698, 876, 1368, 1529, 864, 944, 1678, 1560, 960, 1196, 1298, 1604, 1268, 1520, 438, 1489, 3082, 1242, 1981, 1232, 1608, 1135, 1913, 1477, 1228, 2080, 1567, 1494, 1308, 1273, 964, 1343, 2480, 1112, 1564, 1561, 1523, 1152, 1906, 1032, 1229, 1229, 1229, 1982, 2365, 1680, 1344, 2168, 1192, 1526, 572, 1648, 810, 2052, 2149, 1710, 1961, 926, 1287, 1734, 1217, 1595, 1344, 2036, 1620, 1692, 2036, 1641, 1466, 1412, 2237, 1479, 1296, 2014, 1838, 1978, 1008, 1771, 1204, 1224, 988, 874, 630, 1404, 630, 1344, 1092, 796, 1091, 1110, 833, 883, 1362, 1287, 1567, 1632, 1414, 2117, 2112, 1604, 1470, 1604, 1638, 1636, 1384, 1446, 1593, 1682, 1337, 1280, 1604, 1633, 1658, 1895, 1709, 1228, 1337, 2500, 2504, 1884, 1474, 1710, 1488, 2093, 1688, 1422, 1260, 2064, 1782, 2872, 1211, 1126, 2044, 1308, 2840, 1523, 1444, 1964, 1178, 2340, 1792, 1054, 936, 864, 864, 1337, 987, 987, 987, 987, 987, 987, 1302, 1069, 1456, 1055, 892, 1932, 2332, 2084, 2713, 1582, 1710, 2464, 1950, 2748, 2790, 2331, 2088, 2332, 2470, 2668, 2046, 1575, 2649, 2690, 1866, 1702, 1367, 1518, 1684, 1800, 1342, 1342, 1626, 1626, 1358, 1455, 1576, 1504, 1266, 1246, 1515, 1593, 1166, 1456, 1720, 1986, 1358, 1792, 1892, 1490, 2322, 1651, 2199, 2630, 2198, 2172, 2006, 2125, 2501, 2113, 2418, 2197, 2127, 1987, 1580, 1933, 1574, 1578, 1506, 1563, 1428, 1861, 1874, 1372, 1372, 1768, 1992, 1958, 2078, 1660, 1218, 1728, 1080, 1696, 1663, 1175, 1114, 1114, 1640, 1162, 1609, 1680, 1679, 1657, 1677, 1737, 1294, 1710, 1617, 1199, 984, 912, 864, 890, 864, 912, 1430, 1641, 2683, 2786, 1391, 1250, 1245, 1200, 1392, 1392, 1501, 1549, 1638, 1310, 1419, 1557, 1709, 1252, 1404, 1789, 1586, 1607, 2393, 1288, 1239, 1719, 1232, 2944, 1671, 1682, 1427, 1740, 1258, 1620, 1625, 2614, 1464, 912, 925, 1728, 1728, 1656, 1670, 2715, 1876, 1632, 999, 1978, 1014, 907, 952, 1128, 1425, 1165, 1136, 1092, 1265, 1350, 1114, 1053, 1252, 1100, 1118, 720, 729, 1077, 906, 1496, 1252, 1337, 1661, 1036, 1820, 1362, 1144, 1537, 1431, 1988, 1098, 1144, 1283, 1176, 1440, 1261, 1570, 1196, 1392, 1080, 1104, 882, 1152, 950, 1790, 952, 773, 1764, 1216, 1824, 869, 1159, 1558, 672, 1436, 1294, 1716, 1044, 1312, 1253, 1081, 2069, 910, 876, 1048, 1507, 1256, 1027, 1269, 1320, 984, 832, 1278, 1800, 1588, 825, 1796, 1611, 1117, 1133, 764, 1539, 1323, 1360, 2792, 672, 1456, 1594, 2082, 1656, 1740, 1027, 1436, 899, 1080, 789, 1122, 1499, 407, 928, 901, 1588, 3493, 1627, 1416, 1450, 1344, 1017, 2350, 2058, 1540, 1378, 1912, 1484, 2358, 1111, 2775, 1086, 2495, 984, 1795, 882, 1093, 1143, 1668, 935, 1738, 784, 1210, 1290, 1672, 949, 1158, 1497, 1342, 1013, 1216, 1136, 808, 1573, 2009, 1902, 1774, 1362, 520, 1285, 1848, 1820, 1716, 1505, 838, 1984, 1666, 1609, 768, 1536, 1969, 1308, 1040, 1236, 1406, 825, 1198, 759, 1344, 1469, 1054, 1211, 1271, 1588, 1355, 1075, 1040, 1096, 904, 992, 894, 1034, 1073, 1126, 1258, 1140, 1006, 1228, 960, 1188, 1383, 1252, 1601, 672, 1721, 1350, 904, 1291, 2022, 1524, 1363, 1663, 1357, 1079, 1094, 2358, 1518, 1674, 2108, 1509, 864, 1269, 1367, 1347, 1164, 1096, 1111, 2329, 2814, 1626, 2200, 2037, 1356, 1615, 2276, 1766, 2097, 1511, 1643, 1688, 990, 1099, 990, 1418, 1771, 1652, 1790, 1724, 1479, 1494, 1792, 1823, 1786, 938, 985, 1174, 1026, 1076, 1558, 924, 864, 780, 1795, 1865, 2161, 1852, 2031, 2263, 1947, 1786, 2290, 1768, 2327, 1640, 1764, 1908, 848, 848, 1493, 1838, 1536, 1710, 1445, 1436, 1582, 1234, 1564, 1361, 1456, 848, 848, 848, 848, 796, 2200, 1092, 1256, 1033, 1127, 996, 1181, 1656, 1117, 1398, 1132, 5642, 1072, 1152, 1152, 1440, 1152, 784, 1053, 1137, 930, 1200, 1470, 1393, 1204, 1292, 864, 864, 1716, 1482, 2192, 1694, 1424, 1964, 2601, 1920, 1316, 2555, 1680, 1264, 790, 1512, 1639, 1603, 1502, 1660, 1938, 1374, 1091, 1873, 3447, 1954, 2161, 1898, 1640, 1032, 1556, 919, 1090, 796, 816, 778, 1200, 1656, 912, 1955, 733, 1361, 1317, 1049, 894, 864, 1652, 1648, 1646, 1646, 2032, 1689, 1820, 1118, 1279, 1872, 1689, 1786, 1501, 2898, 1537, 1646, 1780, 1442, 1612, 1495, 1651, 1256, 1509, 1440, 1675, 2262, 1728, 1964, 1344, 1344, 1092, 1189, 1200, 1040, 1304, 1475, 988, 988, 1160, 1092, 630, 988, 816, 923, 816, 816, 845, 1750, 889, 1968, 1836, 1587, 1277, 2223, 2217, 1733, 1572, 1470, 1600, 1384, 1652, 1694, 1714, 1553, 1253, 2299, 1187, 1472, 1482, 1642, 1128, 1088, 2090, 1179, 1321, 1922, 2541, 2338, 1424, 1612, 1419, 2234, 2042, 1440, 1284, 1868, 1479, 1664, 1930, 1969, 2030, 1032, 1177, 1725, 1353, 1620, 1220, 1484, 1743, 1935, 1324, 1877, 1109, 981, 1479, 1422, 914, 950, 872, 858, 914, 864, 767, 1337, 1337, 1092, 1218, 1218, 1302, 1365, 958, 1548, 1055, 988, 1816, 1828, 1694, 1694, 1734, 2122, 2121, 2656, 2550, 2046, 2172, 2552, 1973, 2643, 1634, 1976, 2758, 2290, 2152, 2473, 2100, 2161, 1802, 2956, 2468, 2385, 2374, 1818, 1614, 1721, 1828, 1362, 1302, 1302, 1362, 1554, 1554, 1370, 1577, 1561, 1869, 1324, 1405, 1536, 1484, 1458, 1495, 1746, 1326, 1456, 1302, 1340, 1412, 1504, 1456, 1258, 1258, 1402, 1589, 1266, 1530, 1119, 1374, 1959, 1525, 1720, 1948, 1690, 1995, 1647, 1430, 1320, 1690, 1644, 4476, 2551, 2285, 2633, 3078, 2582, 2385, 4316, 2013, 2398, 2520, 2531, 3228, 2202, 2538, 1369, 1542, 1905, 1464, 1534, 1966, 1636, 1795, 1726, 1689, 1588, 1538, 1496, 1506, 1694, 1977, 1830, 1338, 1335, 1792, 1588, 1959, 2610, 1656, 1761, 1584, 1685, 2443, 2466, 1100, 1143, 1094, 1486, 1721, 1820, 1349, 1494, 1575, 1266, 884, 2020, 894, 970, 1057, 999, 1120, 1696, 1040, 988, 902, 2503, 2167, 1037, 1701, 1055, 2810, 2872, 1378, 1151, 1565, 1352, 1352, 1250, 1501, 1458, 1512, 1573, 1525, 1102, 1441, 1950, 1358, 2048, 2362, 1494, 2362, 1432, 1437, 1295, 1855, 1262, 2497, 2620, 1929, 1152, 2411, 1082, 1295, 1610, 1594, 2075, 1680, 1093, 1242, 1052, 1107, 1214, 1073, 1344, 1728, 1224, 1422, 958, 1065, 1138, 912, 1074, 882, 1187, 964, 894, 1200, 1042, 1302, 2154, 1374, 1652, 1429, 1327, 1224, 932, 908, 334, 666, 670, 808, 1977, 1150, 1920, 1376, 1644, 1560, 1280, 1254, 912, 1524, 2380, 936, 1008, 1053, 1056, 1442, 1056, 1244, 1144, 1721, 922, 1048, 1657, 1411, 1216, 1154, 1560, 948, 1040, 1008, 925, 1360, 1540, 925, 928, 1647, 924, 1544, 893, 1728, 3086, 1034, 882, 1281, 968, 1534, 691, 1651, 888, 952, 2080, 924, 1082, 1846, 988, 1238, 864, 1134, 1040, 1170, 1242, 1377, 1800, 925, 1851, 1812, 864, 936, 960, 1432, 1296, 1022, 936, 967, 1047, 1072, 1174, 1183, 1131, 1141, 960, 1798, 866, 968, 1772, 1642, 1472, 1232, 2337, 1650, 2210, 1358, 2454, 2291, 1616, 1559, 2554, 1248, 968, 1382, 1060, 1435, 1167, 1635, 1274, 1232, 1218, 884, 1409, 1322, 1426, 1281, 1513, 854, 1367, 986, 2264, 1824, 1376, 1316, 1396, 1344, 2526, 1173, 1214, 1818, 1108, 2294, 1355, 1375, 1952, 2180, 1315, 1111, 1196, 1382, 1889, 840, 1484, 2267, 3086, 1134, 1282, 999, 1452, 1005, 1029, 1020, 1040, 913, 894, 948, 868, 897, 943, 955, 894, 1285, 912, 1375, 2654, 1416, 1302, 1299, 1176, 998, 1824, 1522, 2060, 1325, 1630, 1242, 2422, 2158, 1626, 864, 943, 1440, 605, 1038, 1342, 1480, 1362, 1340, 1822, 1442, 2243, 2730, 2127, 1982, 1958, 2696, 2828, 1651, 2140, 1494, 1316, 1651, 2574, 1274, 1456, 1240, 1208, 1546, 1500, 1270, 1795, 1314, 2062, 1873, 2144, 1953, 2087, 1743, 1022, 990, 1200, 1308, 1796, 990, 1097, 990, 1786, 1873, 1753, 1690, 1842, 1479, 1668, 894, 1025, 1009, 1040, 907, 879, 882, 969, 864, 875, 2000, 2169, 1673, 1459, 1932, 1729, 2452, 1592, 2439, 1992, 1668, 2090, 848, 1341, 1928, 1337, 1476, 1797, 1422, 1190, 1330, 1491, 1536, 1214, 936, 1088, 960, 1351, 1179, 816, 1044, 1113, 2233, 1125, 1090, 1408, 5095, 4676, 1072, 960, 1152, 948, 1195, 774, 865, 894, 1346, 768, 864, 948, 3395, 2592, 1502, 789, 1422, 1298, 1768, 1098, 1436, 1426, 1461, 1646, 694, 1250, 954, 1958, 2002, 1718, 1226, 2624, 3194, 1755, 1991, 1355, 2727, 2320, 1839, 1740, 2259, 1560, 1488, 1045, 1680, 1020, 1696, 2726, 1517, 1215, 803, 1601, 1123, 1828, 816, 1012, 1077, 1558, 845, 1991, 1073, 1001, 1625, 1625, 1299, 912, 1080, 1392, 1409, 1478, 918, 1026, 1501, 1502, 1328, 2279, 1689, 1484, 1571, 1646, 1240, 1717, 1756, 1312, 1146, 1922, 1491, 1629, 2486, 1572, 1776, 1824, 2482, 1120, 2034, 936, 1040, 1632, 1622, 1060, 1142, 1092, 992, 1092, 1092, 630, 1092, 1062, 1008, 1356, 1676, 1432, 796, 768, 1608, 845, 1178, 816, 816, 974, 887, 1293, 1024, 1797, 1390, 1851, 1525, 2236, 1671, 1498, 1776, 1511, 2462, 1670, 2064, 1801, 2212, 2021, 2687, 1169, 1501, 1632, 1204, 1767, 1742, 2798, 3390, 2473, 2868, 2576, 2698, 2795, 2945, 2320, 1056, 1714, 1826, 2000, 1621, 2183, 2263, 1574, 1102, 1872, 1857, 1686, 2784, 1552, 1083, 2318, 1875, 1074, 1664, 1309, 1103, 1096, 864, 858, 874, 1419, 1092, 1365, 987, 1030, 1218, 1218, 948, 1092, 987, 1069, 1387, 900, 1055, 1456, 1980, 2589, 2596, 1618, 1740, 1868, 1850, 2376, 2452, 2206, 2098, 2091, 2324, 2389, 2358, 1944, 1970, 1792, 1780, 1792, 2728, 1904, 1914, 1364, 1565, 1368, 1368, 1686, 1666, 1405, 1316, 1456, 1492, 1496, 1863, 1326, 1456, 2373, 1492, 1364, 1557, 1456, 1511, 1414, 1548, 1248, 1142, 1506, 1567, 1500, 1838, 1509, 1414, 1598, 1936, 1509, 1664, 1889, 1886, 1671, 2322, 2291, 2392, 1976, 2234, 3627, 2855, 1924, 2263, 2726, 3500, 2494, 2526, 2799, 1964, 2097, 1660, 1616, 1504, 1278, 2640, 1489, 1939, 1553, 1716, 1576, 1262, 1266, 1301, 1142, 1400, 1131, 1141, 1158, 1686, 1585, 1837, 1603, 1731, 1398, 1217, 1320, 1056, 965, 988, 1728, 1654, 1211, 1212, 984, 909, 925, 1024, 935, 912, 1236, 941, 2646, 2417, 2826, 2520, 2295, 1624, 1143, 1247, 1200, 1223, 1223, 1200, 1524, 1452, 1382, 1080, 1694, 1568, 1494, 1208, 1235, 1036, 1226, 1226, 1842, 1193, 1920, 2156, 1416, 2654, 1790, 1334, 1164, 980, 1051, 1770, 976, 1052, 898, 1051, 1141, 1200, 1993, 1050, 864, 1712, 1565, 1251, 1488, 1440, 1095, 1053, 1248, 816, 1008, 1043, 1230, 869, 747, 1252, 1433, 1624, 1216, 2136, 1578, 1728, 936, 1584, 1246, 1235, 2157, 1128, 3112, 1008, 1190, 1144, 1364, 1383, 1336, 1370, 1092, 1124, 1236, 943, 1050, 1375, 1008, 1575, 1145, 1005, 1056, 884, 2039, 1384, 2640, 1312, 1310, 713, 833, 1073, 715, 720, 1130, 1595, 1760, 1214, 2414, 1466, 1324, 1086, 1146, 1734, 1207, 912, 1194, 864, 816, 1773, 1472, 2448, 1600, 1521, 1192, 1040, 1040, 1040, 1040, 1040, 1040, 1556, 1150, 1150, 1348, 999, 1045, 864, 1025, 2014, 1328, 1668, 1657, 1416, 1641, 1428, 1004, 813, 1951, 1032, 844, 1750, 864, 1118, 1376, 960, 1566, 492, 1182, 1163, 840, 1928, 1774, 1768, 2104, 1440, 1690, 1368, 1762, 1200, 3608, 1248, 960, 1020, 788, 1577, 1827, 1664, 1118, 1176, 1344, 1162, 1015, 912, 1576, 1324, 1103, 616, 1048, 816, 2486, 960, 1635, 693, 1430, 1330, 819, 1376, 1360, 1077, 754, 984, 1422, 1921, 1640, 1352, 1032, 879, 1073, 1382, 1296, 1068, 1064, 1320, 934, 1059, 1159, 1400, 1458, 1721, 1040, 1967, 1949, 1920, 1803, 1779, 872, 960, 1437, 1830, 1000, 2287, 810, 894, 1700, 1453, 1350, 1150, 2008, 2201, 2009, 3672, 1560, 1488, 1057, 1855, 1609, 1148, 1124, 1456, 1298, 2559, 1911, 1440, 1876, 1208, 1220, 1294, 1614, 1498, 1962, 1846, 1734, 1590, 1809, 1614, 1596, 1915, 1582, 988, 1533, 1388, 914, 1100, 1499, 1425, 990, 1525, 1494, 1588, 1749, 1779, 1861, 1776, 1541, 954, 1388, 1282, 971, 864, 894, 864, 1320, 1989, 1762, 1755, 1358, 1787, 1909, 1654, 2214, 2049, 1939, 1995, 2097, 1836, 848, 848, 1919, 1390, 1948, 1700, 1737, 1611, 1552, 1720, 1336, 1500, 1456, 1310, 1436, 1466, 1220, 1012, 980, 1176, 1724, 2314, 1072, 1072, 1072, 1709, 1709, 1709, 1709, 1708, 936, 1338, 1669, 1184, 1221, 864, 1482, 1250, 1414, 2230, 498, 1273, 1928, 1595, 1551, 1340, 1479, 1784, 1510, 1522, 1636, 1802, 1465, 1288, 1717, 1550, 1517, 1717, 1180, 2057, 1671, 2345, 1609, 1801, 1811, 1647, 2315, 1336, 1844, 976, 1285, 672, 641, 951, 1638, 1336, 729, 480, 1396, 936, 1778, 1646, 1625, 1664, 1491, 1004, 1210, 1959, 2519, 1295, 1650, 1707, 1137, 1339, 2514, 1403, 1800, 1960, 2028, 1838, 1600, 1368, 1216, 1337, 1140, 1304, 1475, 2521, 874, 1652, 630, 1092, 1360, 630, 1092, 1092, 1092, 1092, 1728, 1728, 1126, 1224, 1003, 902, 970, 1389, 2000], \"xaxis\": \"x\", \"y\": [215000, 105000, 172000, 244000, 189900, 195500, 213500, 191500, 236500, 189000, 175900, 185000, 180400, 171500, 212000, 538000, 164000, 394432, 141000, 210000, 190000, 170000, 216000, 149000, 149900, 142000, 126000, 115000, 184000, 96000, 105500, 88000, 127500, 149900, 120000, 146000, 376162, 306000, 395192, 290941, 220000, 275000, 259000, 214000, 611657, 224000, 500000, 320000, 319900, 205000, 175500, 199500, 160000, 192000, 184500, 185088, 180000, 222500, 333168, 355000, 260400, 325000, 290000, 221000, 410000, 221500, 204500, 215200, 262500, 254900, 271500, 233000, 181000, 205000, 143000, 189000, 99500, 125000, 194500, 152000, 171000, 67500, 112000, 148000, 138500, 122000, 133000, 127000, 169000, 190000, 362500, 285000, 260000, 190000, 155000, 151000, 149500, 152000, 222000, 177500, 177000, 155000, 147110, 267916, 254000, 155000, 206000, 130500, 230000, 218500, 243500, 205000, 212500, 196500, 197500, 171000, 142250, 143000, 128950, 159000, 178900, 136300, 180500, 137500, 84900, 142125, 197600, 172500, 116500, 76500, 128000, 153000, 132000, 178000, 154300, 180000, 190000, 135000, 214000, 136000, 165500, 145000, 148000, 142000, 167500, 108538, 159500, 108000, 135000, 122500, 119000, 109000, 105000, 107500, 144900, 129000, 97500, 144000, 162000, 242000, 132000, 154000, 166000, 134800, 160000, 148000, 192000, 155000, 80400, 96500, 109500, 115000, 143000, 107400, 80000, 119000, 130000, 119000, 129000, 100000, 12789, 105900, 150000, 139000, 240000, 76500, 149700, 125500, 122500, 140750, 128500, 209500, 87000, 134000, 128000, 132000, 139900, 123900, 138400, 109500, 140000, 149500, 159900, 122000, 110000, 55000, 140000, 244400, 173000, 107500, 100000, 95000, 93369, 114900, 94000, 136000, 136500, 131500, 121500, 125000, 154000, 137900, 158000, 137250, 160250, 163000, 158900, 328000, 270000, 85000, 128000, 260000, 230000, 124000, 83000, 144500, 129000, 127000, 128000, 186000, 308030, 114000, 84900, 178000, 270000, 218000, 236000, 147000, 245350, 206000, 198900, 187000, 320000, 138500, 155000, 159000, 191000, 200500, 150000, 161750, 128200, 127000, 318000, 272000, 237000, 240000, 224900, 143750, 143000, 232000, 213000, 185500, 84900, 155891, 100000, 144000, 64000, 125200, 107000, 90000, 140000, 113000, 80000, 144500, 104000, 128000, 58500, 127000, 126000, 160000, 100000, 169000, 257500, 215000, 266500, 335000, 203135, 185000, 162500, 289000, 125500, 82000, 110000, 68400, 102776, 55993, 50138, 246000, 254900, 190000, 201000, 169900, 170000, 160000, 220000, 179781, 174000, 269500, 214900, 202900, 378500, 169000, 173500, 139000, 166500, 83500, 119500, 85000, 76000, 75500, 88250, 85500, 130000, 157900, 149900, 159000, 136000, 161000, 285000, 231000, 124500, 157000, 345000, 189500, 270000, 189000, 377500, 168500, 375000, 278000, 240000, 239500, 177500, 185000, 191000, 178000, 185000, 181316, 166000, 178000, 174000, 173000, 225000, 180500, 187500, 501837, 372500, 260000, 185000, 260000, 181000, 82500, 215000, 154000, 200000, 249000, 187500, 184000, 278000, 157000, 152000, 197500, 240900, 263435, 220000, 235000, 213000, 167900, 158000, 165000, 158000, 136000, 148500, 156000, 128000, 143000, 76500, 120500, 124500, 97000, 130000, 111000, 125000, 112000, 97000, 118000, 119500, 143750, 146000, 148500, 123000, 147000, 137900, 147000, 148500, 138000, 128500, 100000, 148800, 337500, 462000, 485000, 555000, 325000, 256300, 253293, 398800, 335000, 404000, 402861, 451950, 610000, 582933, 360000, 296000, 409900, 255500, 335000, 274900, 300000, 324000, 350000, 280000, 284000, 269500, 233170, 386250, 445000, 290000, 255900, 213000, 196000, 184500, 212500, 230000, 552000, 382500, 320000, 248500, 286500, 254000, 173000, 173000, 184000, 167800, 174000, 174000, 174000, 175900, 192500, 181000, 180000, 160200, 188500, 200000, 170000, 189500, 184100, 195500, 192000, 178000, 207500, 236000, 244000, 167000, 179000, 190000, 156000, 245000, 181000, 214000, 168000, 337000, 403000, 327000, 340000, 336000, 265000, 315000, 260000, 260000, 263550, 402000, 248000, 244600, 275000, 257500, 287090, 275500, 245000, 253000, 468000, 252678, 210000, 208300, 229456, 229800, 250000, 370878, 238500, 310000, 270000, 252000, 241000, 264500, 291000, 263000, 185000, 234500, 209000, 159000, 152000, 143500, 193000, 203000, 159000, 142000, 153000, 224243, 220000, 257000, 189000, 171500, 120000, 145000, 184000, 162000, 160000, 82000, 76000, 110000, 135000, 141000, 122000, 124100, 129000, 131400, 62383, 123000, 275000, 235000, 280750, 164500, 173733, 222000, 195000, 172500, 180000, 156000, 172500, 318750, 211500, 241600, 180500, 150000, 154000, 185000, 185750, 200000, 206000, 162000, 256900, 197900, 163000, 113000, 230000, 167900, 213250, 227000, 130000, 143000, 117500, 168500, 172500, 161500, 141500, 118000, 127500, 140000, 177625, 110000, 167000, 153000, 145100, 154000, 177500, 158000, 124500, 174500, 122000, 82500, 110000, 149500, 175000, 167000, 128900, 140000, 147000, 124000, 187500, 159000, 256000, 205000, 193500, 110000, 104900, 150000, 156500, 176000, 149500, 139000, 155000, 120000, 153000, 144000, 176000, 153000, 135000, 131000, 123000, 126000, 115000, 164900, 113000, 145500, 102900, 95000, 152500, 129900, 132000, 99900, 135000, 149000, 114000, 109500, 125000, 142900, 156500, 59000, 105000, 106000, 78500, 190000, 154000, 163000, 200000, 143500, 135000, 153000, 157500, 113500, 133000, 92900, 128500, 90000, 138000, 128000, 139000, 118900, 138000, 132500, 133500, 135000, 144750, 145000, 127000, 109500, 115000, 110000, 128900, 103500, 66500, 130000, 129000, 150000, 107500, 94550, 124500, 135000, 103000, 93000, 129500, 93000, 80000, 45000, 37900, 91300, 99500, 113000, 87500, 110000, 106000, 265979, 160000, 119000, 168000, 58500, 143000, 85000, 124900, 119000, 146500, 34900, 44000, 223500, 149000, 205000, 137000, 121000, 128000, 134900, 117000, 132500, 93000, 119000, 100000, 141500, 133000, 60000, 105000, 115000, 150000, 126500, 214500, 167500, 155000, 155000, 179900, 104000, 62500, 149000, 103000, 123000, 97500, 135000, 70000, 116000, 88750, 179000, 179000, 159900, 61000, 103600, 63000, 175000, 139000, 172500, 113500, 130000, 149900, 134900, 137000, 139000, 165000, 148000, 165000, 63900, 161500, 143000, 135000, 82500, 190000, 139600, 122000, 127500, 121500, 60000, 154400, 113000, 125000, 84000, 139500, 131000, 105000, 108000, 162000, 156500, 316600, 271900, 213000, 239900, 239500, 131000, 118964, 153337, 147983, 118858, 118858, 142953, 148325, 113722, 269500, 269500, 269500, 323262, 297000, 295493, 332000, 239900, 212000, 272500, 239000, 220000, 200000, 221800, 194500, 237000, 173000, 275000, 233500, 185000, 152000, 143000, 231500, 212000, 207000, 145000, 138000, 197900, 204000, 192000, 200000, 195000, 227000, 230000, 187100, 203000, 201000, 124000, 140000, 134900, 150500, 136500, 143500, 133500, 123000, 133900, 133000, 250000, 254750, 236500, 261500, 313000, 211000, 220000, 203000, 279500, 210000, 219500, 191000, 178000, 213000, 144000, 140000, 293200, 190000, 190000, 173500, 170000, 108000, 167000, 100000, 198500, 159500, 127000, 125000, 320000, 145500, 118000, 85000, 120000, 98000, 99900, 82000, 119900, 103500, 112000, 110000, 122000, 117000, 160000, 159434, 60000, 139500, 197000, 105000, 135000, 147500, 137450, 155000, 177000, 145000, 137000, 234000, 205000, 177500, 160000, 155000, 163500, 154900, 205000, 144800, 174500, 193000, 158000, 158500, 224000, 115000, 137000, 121000, 124000, 208000, 315000, 222000, 147000, 123000, 78000, 85000, 75000, 230000, 57625, 251000, 239686, 240000, 215000, 156450, 173000, 126000, 173000, 152000, 137500, 375000, 315500, 224500, 410000, 316500, 201000, 175000, 204000, 213500, 220000, 170000, 315000, 425000, 139500, 115000, 162000, 165000, 91000, 130000, 86000, 160000, 80000, 97000, 88000, 131900, 131250, 165500, 112000, 149000, 143000, 130000, 196000, 173000, 176500, 237500, 206900, 187500, 165000, 195500, 192000, 173000, 177900, 175000, 286000, 247900, 180000, 180000, 181000, 183000, 188000, 194500, 185000, 189000, 188500, 355000, 325000, 387000, 115000, 334000, 133000, 215000, 226500, 175500, 181900, 235000, 220000, 272000, 161000, 175000, 185000, 146900, 292500, 180000, 159900, 205000, 157000, 306000, 133000, 151000, 111900, 123000, 111250, 181000, 103400, 100000, 100500, 106000, 85400, 89500, 111750, 140000, 143000, 148500, 110000, 394617, 426000, 385000, 446261, 317500, 372402, 417500, 383000, 390000, 460000, 379000, 250000, 316000, 615000, 412500, 284000, 284000, 421250, 370000, 336860, 367294, 192000, 274000, 266000, 370967, 234250, 219500, 155000, 154000, 207000, 195000, 219990, 191000, 159895, 187687, 179000, 193000, 190000, 176000, 188000, 213000, 217300, 186500, 226750, 184000, 225000, 185900, 284500, 315000, 250000, 291000, 350000, 279500, 290000, 350000, 341000, 287500, 271000, 301500, 235128, 214000, 232000, 240000, 264132, 245000, 227680, 257000, 297900, 212700, 250580, 226700, 250000, 250000, 339750, 256000, 230348, 207500, 141000, 188000, 192500, 146000, 159000, 155000, 173000, 170000, 182000, 163000, 193500, 189000, 190500, 175000, 179200, 187000, 193000, 153900, 128000, 144000, 135000, 115000, 119916, 142000, 192000, 140000, 290000, 372500, 196000, 171900, 178000, 165000, 146000, 146000, 179400, 172900, 300000, 285000, 290000, 305000, 328900, 160000, 170000, 223000, 170000, 200000, 345000, 245500, 217500, 324000, 162500, 150000, 290000, 174000, 183000, 150000, 145000, 215000, 140500, 240000, 141000, 147000, 135000, 145000, 142600, 135000, 170000, 299800, 185000, 173000, 178400, 176000, 98000, 109008, 135750, 155000, 180500, 174900, 140000, 145000, 179900, 168500, 140000, 145500, 142000, 141000, 153000, 72500, 52000, 118000, 87000, 141500, 119000, 141500, 165500, 112900, 201800, 163000, 139950, 174000, 165000, 227000, 135000, 124000, 140000, 136500, 185000, 163000, 166800, 139000, 166000, 136000, 133000, 116000, 137500, 130000, 180000, 139000, 110000, 100000, 118500, 146000, 89900, 114000, 140000, 86900, 139000, 106250, 171000, 139000, 186000, 157000, 148000, 242000, 116000, 94000, 98300, 127000, 159000, 125900, 155000, 138000, 112500, 105500, 127500, 130000, 150000, 109500, 140000, 167900, 136870, 143000, 73000, 157500, 122600, 111000, 256000, 64000, 139500, 118000, 200000, 119164, 122250, 120000, 155000, 78000, 95000, 115000, 147000, 140000, 46500, 112500, 107900, 65000, 295000, 139500, 153900, 132000, 98000, 114000, 130000, 129500, 129400, 161000, 163000, 128000, 122000, 116900, 325000, 55000, 184000, 110000, 131500, 97000, 115500, 138000, 108000, 79500, 153000, 109500, 124000, 106900, 164900, 119000, 120000, 157000, 105000, 113000, 115000, 123000, 81300, 162900, 150000, 123500, 129900, 128000, 68500, 127000, 207000, 184000, 162500, 145000, 130000, 160000, 161000, 127500, 93850, 136000, 141000, 120000, 127500, 127000, 89500, 125000, 79900, 85000, 82375, 135000, 124000, 134000, 135000, 134432, 127500, 148000, 129500, 157500, 109900, 145000, 130000, 153000, 120000, 152000, 108959, 95541, 80000, 149350, 144900, 185000, 165000, 235000, 140000, 108000, 145000, 152400, 144000, 173000, 192000, 245000, 241500, 256000, 177000, 125600, 155000, 240000, 260000, 185000, 235000, 159900, 99600, 134500, 119000, 107500, 125000, 79000, 95000, 262280, 260000, 226500, 225000, 229000, 177439, 248500, 475000, 395039, 228000, 225000, 195000, 200000, 155000, 144000, 145000, 226001, 215700, 207500, 193000, 188000, 191000, 221000, 231500, 235000, 223500, 130250, 149900, 158000, 147000, 143195, 163000, 110000, 127000, 124900, 230000, 235000, 230500, 230000, 222500, 287000, 274000, 300000, 255900, 224900, 240000, 183000, 207000, 210000, 136500, 145000, 208900, 185000, 214000, 208500, 186500, 210000, 185900, 179900, 218836, 193000, 189000, 149300, 141000, 149000, 144500, 85000, 145900, 123000, 147500, 165000, 135000, 108000, 137500, 165400, 147000, 160500, 176000, 160000, 148000, 82000, 82000, 118000, 82500, 91900, 120000, 96000, 99000, 130500, 135000, 135500, 100000, 108000, 98000, 67000, 135900, 140000, 179500, 136500, 168000, 130000, 189000, 161900, 145000, 191000, 177000, 147500, 91000, 231000, 115000, 138000, 149000, 188700, 198000, 110000, 104000, 257076, 381000, 311500, 263400, 236500, 224000, 116500, 151000, 126000, 120000, 55000, 120500, 120500, 119000, 126000, 99500, 165500, 13100, 89000, 40000, 80900, 81000, 65000, 392500, 294464, 250000, 275000, 300000, 271000, 213000, 171000, 171500, 100000, 228500, 228950, 241500, 287000, 294000, 293077, 264966, 172500, 218689, 150000, 184000, 180000, 175000, 232500, 195000, 305000, 298751, 370000, 209200, 206300, 146000, 160500, 173000, 124000, 115000, 129500, 105000, 94900, 152500, 98000, 81000, 113000, 128500, 119500, 130500, 138000, 134500, 160000, 137500, 172000, 103000, 167300, 167000, 244000, 268000, 225000, 168000, 177000, 169000, 161500, 251000, 160000, 180000, 178750, 176000, 204000, 160000, 160000, 163900, 168000, 154204, 170000, 207500, 182000, 212000, 377426, 349265, 591587, 155000, 319900, 392000, 441929, 455000, 182900, 174000, 178000, 176000, 213000, 192000, 190000, 195000, 148000, 151500, 197000, 192350, 152000, 170000, 175000, 175000, 197900, 174000, 178900, 139000, 143250, 184000, 155000, 133000, 119500, 123000, 110000, 128000, 120500, 133000, 155000, 177000, 113500, 113000, 113700, 106000, 122500, 128000, 155000, 142500, 129250, 356000, 314813, 318000, 322400, 318000, 345474, 415298, 492000, 338931, 450000, 280000, 479069, 395000, 380000, 250000, 440000, 418000, 500067, 260116, 317000, 319500, 325624, 372000, 342000, 354000, 350000, 285000, 281500, 245700, 232698, 250000, 194700, 204000, 200000, 207000, 209500, 209500, 202500, 280000, 277500, 318061, 221370, 200000, 176000, 178900, 168165, 171925, 198444, 203000, 179540, 176485, 181134, 156932, 166000, 177594, 173500, 172500, 194201, 226500, 185485, 259000, 188500, 175000, 215000, 206580, 183500, 211000, 181000, 219500, 175000, 170000, 162000, 187000, 185000, 745000, 384500, 248000, 466500, 410000, 322500, 252000, 755000, 269790, 315750, 290000, 290000, 430000, 263000, 330000, 213133, 260261, 320000, 282922, 215000, 419005, 255000, 147000, 311872, 248328, 227000, 260000, 225000, 249000, 307000, 250000, 221300, 208900, 210400, 255000, 212109, 270000, 303477, 249700, 227875, 261329, 253000, 265000, 340000, 146000, 147000, 149000, 181000, 201000, 191750, 179000, 215000, 179200, 128000, 144000, 144000, 120750, 132500, 132000, 132500, 129000, 143900, 145000, 128500, 125500, 300000, 294000, 129000, 171000, 147000, 302000, 285000, 214000, 166000, 193800, 208900, 194000, 164700, 176500, 176000, 168500, 177000, 177000, 148800, 174000, 239000, 204000, 301000, 312500, 279700, 255000, 194000, 218000, 213750, 187000, 181500, 373000, 190000, 226000, 143450, 240050, 162500, 164000, 185000, 188500, 255000, 136905, 158500, 175500, 127000, 127000, 143000, 156000, 144000, 119000, 103000, 139900, 151500, 126500, 145000, 120000, 124000, 106500, 140500, 137500, 117600, 163500, 161000, 158000, 224500, 147000, 200000, 181900, 150750, 101800, 124000, 138500, 39300, 64500, 64000, 112000, 165000, 144000, 137000, 105000, 146500, 126000, 175000, 158500, 114500, 144000, 129000, 141000, 131000, 142100, 139000, 157900, 139400, 150000, 120000, 174850, 116000, 135000, 163500, 130000, 129500, 142000, 128600, 125000, 136000, 134500, 127000, 130000, 115000, 116900, 132000, 153000, 112500, 138000, 135000, 156000, 301600, 109000, 103200, 128500, 64500, 148000, 86000, 172000, 120000, 128500, 135000, 122900, 119200, 143000, 119000, 102000, 129000, 135000, 152000, 140000, 152000, 156500, 141000, 99000, 187000, 169500, 125500, 130000, 103000, 132000, 127500, 89500, 140000, 99900, 100000, 130000, 135000, 120000, 89471, 85000, 108500, 137000, 110500, 100000, 184900, 145000, 125000, 114000, 90000, 144100, 117500, 124500, 185000, 133900, 152000, 153500, 159500, 87000, 104500, 110000, 136500, 128250, 144000, 210000, 135000, 128000, 131000, 113000, 126000, 132000, 131750, 132500, 137500, 132000, 127500, 102000, 200000, 180500, 165000, 90000, 153575, 140000, 136000, 113000, 117000, 169500, 139400, 202500, 127000, 141000, 212300, 161000, 99500, 101000, 109900, 128500, 122000, 87000, 50000, 219000, 200500, 126000, 108500, 130000, 158450, 115400, 118500, 165000, 123000, 129000, 125000, 108000, 119900, 115000, 134500, 127000, 129000, 143500, 129000, 187000, 158000, 112000, 165250, 150000, 137000, 89500, 302000, 182000, 211000, 216000, 130000, 109900, 255000, 243000, 154000, 118000, 80000, 150000, 86000, 130000, 125000, 136500, 96000, 120000, 228500, 179900, 225000, 301000, 238000, 228500, 220000, 383970, 424870, 250000, 360000, 279500, 200141, 246500, 276000, 203000, 155835, 194000, 195400, 217000, 212999, 175900, 191000, 176432, 277000, 207000, 277000, 240000, 187500, 279000, 139500, 126000, 177500, 175000, 211000, 146000, 147900, 123600, 204750, 235500, 217000, 190550, 217500, 226000, 180000, 131000, 153500, 160000, 134900, 130000, 120000, 112500, 122000, 127000, 117000, 305900, 228500, 270000, 192000, 213000, 200000, 267000, 228000, 275000, 211000, 285000, 240000, 131500, 246900, 219500, 185000, 179400, 213500, 179600, 173500, 167840, 168675, 167000, 140000, 118500, 110000, 94750, 122000, 110000, 118500, 133500, 148000, 141000, 155000, 157000, 171500, 183850, 184750, 140000, 131750, 61500, 111000, 98500, 79000, 108500, 110000, 112000, 125000, 79275, 119000, 200000, 150000, 165000, 96500, 136500, 146500, 175000, 148500, 141500, 189950, 135000, 164000, 90350, 139000, 119750, 145000, 145000, 238000, 153500, 239000, 359100, 188000, 220000, 140000, 315000, 259500, 257500, 219500, 217000, 201000, 215000, 123900, 170000, 200000, 198000, 315000, 115000, 141000, 87000, 129850, 100000, 150909, 75200, 118400, 67000, 152000, 68104, 119600, 140000, 124900, 375000, 235000, 183500, 156000, 134000, 215000, 245000, 210000, 148000, 143000, 244000, 330000, 170000, 257000, 231713, 265900, 239000, 248900, 174000, 187500, 204000, 180500, 187500, 282000, 178000, 270000, 279900, 186700, 283463, 392000, 281213, 147000, 130000, 140000, 132250, 143000, 168000, 129900, 134000, 85500, 106500, 93900, 75000, 84500, 75190, 146800, 153500, 188000, 196000, 157000, 138000, 129500, 80000, 129500, 135000, 124500, 139000, 93500, 124500, 149900, 157500, 169000, 252000, 192100, 183500, 222000, 170000, 187500, 202000, 185000, 320000, 240000, 250000, 239900, 309000, 274725, 270000, 183500, 165600, 176500, 130000, 239000, 275000, 457347, 545224, 356383, 556581, 361919, 535000, 401179, 438780, 169000, 145000, 318000, 319000, 470000, 202500, 229000, 235000, 190000, 169000, 241500, 188900, 207500, 250000, 179900, 172000, 294323, 184500, 153500, 162900, 181000, 155000, 138800, 116050, 88000, 97500, 190000, 105500, 125500, 83000, 116000, 91500, 118000, 89000, 108000, 94500, 146300, 145000, 123000, 137500, 144000, 315000, 412083, 342643, 252000, 293000, 415000, 326000, 325300, 309000, 300000, 275500, 338500, 345000, 298236, 329900, 360000, 281000, 372397, 378000, 374000, 437154, 275000, 279000, 185850, 282500, 202500, 202665, 332200, 310090, 171750, 169990, 170440, 169985, 179665, 219210, 174190, 172785, 258000, 185101, 210250, 234000, 215000, 246990, 178740, 225000, 167240, 156820, 213490, 264561, 246578, 192140, 183200, 178000, 201490, 230500, 180000, 172400, 215000, 199900, 173000, 287602, 230000, 348000, 286000, 300000, 625000, 405000, 280000, 258000, 350000, 584500, 321000, 290000, 315000, 252000, 423000, 290000, 232000, 199000, 198600, 405749, 232600, 266000, 186500, 200825, 197000, 185000, 176000, 187750, 139500, 186800, 132000, 142500, 158000, 184000, 184900, 187000, 175900, 248500, 172000, 151000, 150000, 107000, 119900, 129500, 125000, 119500, 144000, 151000, 126000, 116000, 133500, 120875, 137000, 124000, 135000, 129200, 260000, 260000, 334000, 310000, 268000, 262000, 176400, 197000, 151000, 147400, 149900, 144152, 166000, 183900, 165000, 139000, 200000, 221000, 270000, 165000, 214000, 188000, 190000, 170000, 385000, 146500, 170000, 262500, 179900, 250000, 165150, 164500, 140000, 135500, 142000, 155000, 157500, 138500, 140000, 124400, 158000, 146000, 190000, 136500, 129900, 145000, 185900, 160000, 167000, 157500, 140000, 150000, 151500, 129800, 137000, 137000, 121600, 85500, 79900, 127000, 161000, 146500, 135000, 137900, 133000, 137000, 121000, 119000, 172000, 98600, 226000, 118000, 235000, 135000, 132500, 143000, 132000, 145250, 162000, 148000, 141000, 153000, 134450, 135960, 156000, 140000, 139500, 155000, 127000, 133500, 125000, 142000, 167000, 159000, 180000, 127000, 112000, 99800, 117000, 108480, 68000, 86900, 120000, 155500, 80000, 105000, 160000, 170000, 160000, 159950, 165000, 159000, 147000, 115000, 159500, 120000, 129900, 183000, 157500, 277500, 207500, 147500, 135000, 109500, 109900, 133700, 81400, 87500, 93500, 119000, 141000, 146000, 155000, 134500, 120000, 105000, 124000, 169000, 107000, 135000, 111500, 156500, 178000, 139900, 105000, 110000, 111500, 108000, 111500, 124000, 105000, 116000, 96900, 135500, 139000, 61500, 120000, 126175, 64000, 137000, 87000, 163000, 155000, 79000, 144000, 114504, 157000, 125000, 475000, 93500, 125000, 64500, 100000, 140200, 202500, 159000, 119900, 114500, 115000, 75000, 88000, 80500, 149000, 110000, 110500, 89000, 113000, 109000, 220000, 129000, 117000, 52500, 107000, 116500, 72000, 119500, 125500, 91000, 84500, 90000, 137500, 150000, 131000, 130000, 125000, 80000, 157000, 148000, 90000, 154500, 153600, 164500, 132000, 142500, 158000, 149500, 165000, 180000, 160500, 156500, 157000, 172500, 155000, 170000, 105000, 145000, 168000, 278000, 164000, 225000, 130000, 142500, 148400, 190000, 146000, 128000, 225000, 274970, 235000, 415000, 182000, 135000, 137000, 136900, 149900, 123500, 93000, 91500, 180000, 209000, 215000, 224500, 229800, 183600, 194000, 193879, 221500, 204900, 239799, 233555, 260000, 294900, 209700, 225000, 181000, 220000, 190000, 180000, 280000, 158900, 148000, 145000, 187000, 193000, 156000, 235000, 217000, 214000, 196000, 217000, 200000, 192500, 205000, 132500, 157500, 174000, 128500, 128500, 149900, 119900, 137000, 255000, 222000, 214000, 220000, 275000, 197000, 230000, 268500, 210900, 227000, 237000, 274300, 216837, 133000, 155900, 233230, 207000, 195000, 200000, 203160, 195800, 212900, 196500, 198000, 173900, 163990, 164990, 98000, 149900, 102000, 127500, 127500, 119900, 196500, 229000, 145000, 140000, 142500, 134000, 130000, 130000, 137500, 130000, 97900, 92000, 107000, 81000, 104900, 115000, 125000, 116000, 83000, 118500, 35000, 121000, 160000, 140000, 137000, 128000, 160000, 138887, 149000, 102000, 167000, 200100, 131000, 112000, 140000, 195000, 230000, 194000, 137500, 250000, 218000, 239000, 199500, 210000, 230000, 217500, 257000, 157000, 223000, 102000, 145400, 72000, 85000, 106500, 139000, 108000, 51689, 35311, 115000, 78000, 375000, 300000, 242500, 145000, 209000, 135000, 148000, 171000, 335000, 230000, 250764, 228000, 176000, 180000, 250000, 202000, 312500, 320000, 369900, 359900, 81500, 215000, 164000, 153500, 84500, 104500, 127000, 151400, 126500, 146500, 73000, 79400, 140000, 92000, 87550, 79500, 90500, 71000, 150900, 188000, 160000, 131000, 142500, 131000, 132000, 170000, 188000], \"yaxis\": \"y\"}, {\"hoverlabel\": {\"namelength\": 0}, \"hovertemplate\": \"<b>OLS trendline</b><br>SalePrice = 111.987632 * Gr_Liv_Area + 12642.605990<br>R<sup>2</sup>=0.501399<br><br>Gr_Liv_Area=%{x}<br>SalePrice=%{y} <b>(trend)</b>\", \"legendgroup\": \"\", \"marker\": {\"color\": \"#636efa\", \"symbol\": \"circle\"}, \"mode\": \"lines\", \"name\": \"\", \"showlegend\": false, \"type\": \"scattergl\", \"x\": [334, 407, 438, 480, 492, 498, 520, 540, 572, 599, 605, 612, 616, 630, 630, 630, 630, 630, 630, 630, 640, 641, 660, 666, 670, 672, 672, 672, 672, 672, 691, 693, 694, 698, 704, 708, 713, 715, 720, 720, 720, 720, 725, 729, 729, 732, 733, 747, 747, 752, 754, 756, 759, 764, 765, 767, 768, 768, 768, 768, 768, 773, 774, 778, 780, 784, 784, 784, 788, 788, 789, 789, 790, 792, 792, 792, 793, 796, 796, 796, 796, 797, 800, 803, 804, 808, 808, 810, 810, 813, 816, 816, 816, 816, 816, 816, 816, 816, 816, 816, 816, 816, 816, 816, 819, 825, 825, 827, 832, 832, 833, 833, 833, 835, 836, 836, 838, 840, 840, 841, 844, 845, 845, 845, 845, 846, 848, 848, 848, 848, 848, 848, 848, 848, 848, 848, 848, 848, 848, 854, 856, 858, 858, 858, 858, 860, 861, 861, 864, 864, 864, 864, 864, 864, 864, 864, 864, 864, 864, 864, 864, 864, 864, 864, 864, 864, 864, 864, 864, 864, 864, 864, 864, 864, 864, 864, 864, 864, 864, 864, 864, 864, 864, 864, 864, 864, 864, 864, 864, 865, 866, 868, 869, 869, 872, 872, 874, 874, 874, 874, 875, 875, 876, 876, 876, 879, 879, 882, 882, 882, 882, 882, 882, 882, 883, 884, 884, 884, 886, 887, 888, 889, 890, 892, 892, 892, 892, 893, 894, 894, 894, 894, 894, 894, 894, 894, 894, 894, 894, 894, 894, 894, 894, 896, 897, 898, 899, 899, 900, 900, 900, 901, 902, 902, 904, 904, 904, 904, 906, 907, 907, 907, 908, 909, 910, 912, 912, 912, 912, 912, 912, 912, 912, 912, 912, 912, 912, 912, 912, 913, 914, 914, 914, 914, 918, 918, 919, 919, 922, 923, 923, 924, 924, 924, 924, 925, 925, 925, 925, 925, 925, 926, 928, 928, 930, 930, 932, 934, 935, 935, 936, 936, 936, 936, 936, 936, 936, 936, 936, 936, 936, 936, 938, 941, 941, 943, 943, 943, 944, 945, 948, 948, 948, 948, 948, 949, 950, 950, 951, 951, 952, 952, 952, 952, 952, 954, 954, 955, 958, 958, 958, 960, 960, 960, 960, 960, 960, 960, 960, 960, 960, 960, 960, 964, 964, 965, 965, 967, 968, 968, 968, 968, 969, 970, 970, 971, 972, 972, 974, 976, 976, 980, 980, 980, 980, 981, 984, 984, 984, 984, 984, 985, 985, 986, 987, 987, 987, 987, 987, 987, 987, 987, 987, 987, 987, 987, 988, 988, 988, 988, 988, 988, 988, 988, 988, 988, 988, 990, 990, 990, 990, 990, 990, 990, 990, 992, 992, 992, 995, 996, 996, 998, 999, 999, 999, 999, 1000, 1001, 1002, 1003, 1004, 1004, 1004, 1005, 1005, 1005, 1006, 1008, 1008, 1008, 1008, 1008, 1008, 1008, 1009, 1012, 1012, 1012, 1013, 1014, 1015, 1017, 1020, 1020, 1020, 1020, 1020, 1022, 1022, 1022, 1024, 1024, 1025, 1025, 1026, 1026, 1026, 1026, 1027, 1027, 1028, 1029, 1030, 1031, 1032, 1032, 1032, 1032, 1032, 1033, 1034, 1034, 1034, 1034, 1034, 1036, 1036, 1037, 1038, 1039, 1039, 1040, 1040, 1040, 1040, 1040, 1040, 1040, 1040, 1040, 1040, 1040, 1040, 1040, 1040, 1040, 1040, 1040, 1040, 1040, 1040, 1040, 1040, 1040, 1040, 1040, 1041, 1041, 1042, 1043, 1044, 1044, 1044, 1045, 1045, 1045, 1047, 1048, 1048, 1048, 1049, 1049, 1050, 1050, 1050, 1050, 1051, 1051, 1052, 1052, 1052, 1052, 1053, 1053, 1053, 1053, 1054, 1054, 1054, 1055, 1055, 1055, 1055, 1055, 1056, 1056, 1056, 1056, 1056, 1056, 1056, 1057, 1057, 1057, 1059, 1060, 1060, 1060, 1061, 1062, 1062, 1063, 1064, 1064, 1065, 1067, 1068, 1068, 1069, 1069, 1069, 1072, 1072, 1072, 1072, 1072, 1072, 1072, 1072, 1073, 1073, 1073, 1073, 1073, 1073, 1074, 1074, 1074, 1075, 1076, 1077, 1077, 1077, 1078, 1078, 1078, 1079, 1080, 1080, 1080, 1080, 1080, 1080, 1081, 1082, 1082, 1083, 1086, 1086, 1086, 1088, 1088, 1089, 1090, 1090, 1091, 1091, 1092, 1092, 1092, 1092, 1092, 1092, 1092, 1092, 1092, 1092, 1092, 1092, 1092, 1092, 1092, 1092, 1092, 1092, 1092, 1092, 1092, 1092, 1092, 1092, 1092, 1092, 1093, 1093, 1094, 1094, 1095, 1096, 1096, 1096, 1096, 1097, 1097, 1097, 1098, 1098, 1099, 1100, 1100, 1100, 1102, 1102, 1103, 1103, 1104, 1105, 1107, 1107, 1108, 1109, 1110, 1111, 1111, 1111, 1112, 1112, 1112, 1112, 1113, 1113, 1114, 1114, 1114, 1114, 1114, 1114, 1116, 1116, 1117, 1117, 1117, 1118, 1118, 1118, 1118, 1119, 1120, 1120, 1120, 1120, 1121, 1121, 1122, 1123, 1124, 1124, 1125, 1125, 1126, 1126, 1126, 1126, 1127, 1128, 1128, 1128, 1128, 1128, 1130, 1131, 1131, 1131, 1132, 1132, 1133, 1133, 1134, 1134, 1135, 1136, 1136, 1137, 1137, 1138, 1138, 1140, 1140, 1140, 1141, 1141, 1141, 1141, 1142, 1142, 1142, 1142, 1142, 1143, 1143, 1143, 1143, 1144, 1144, 1144, 1144, 1144, 1144, 1144, 1145, 1145, 1145, 1146, 1146, 1148, 1148, 1149, 1150, 1150, 1150, 1150, 1151, 1152, 1152, 1152, 1152, 1152, 1152, 1152, 1152, 1152, 1154, 1154, 1154, 1155, 1158, 1158, 1158, 1159, 1159, 1160, 1162, 1162, 1163, 1164, 1164, 1165, 1166, 1167, 1167, 1169, 1170, 1172, 1173, 1173, 1174, 1174, 1175, 1175, 1176, 1176, 1176, 1176, 1176, 1177, 1178, 1178, 1178, 1179, 1179, 1180, 1180, 1181, 1182, 1183, 1183, 1184, 1187, 1187, 1187, 1188, 1188, 1188, 1189, 1190, 1190, 1190, 1191, 1192, 1192, 1193, 1193, 1194, 1194, 1195, 1196, 1196, 1196, 1196, 1196, 1198, 1199, 1200, 1200, 1200, 1200, 1200, 1200, 1200, 1200, 1200, 1200, 1200, 1200, 1200, 1200, 1200, 1200, 1200, 1202, 1203, 1204, 1204, 1204, 1206, 1207, 1208, 1208, 1208, 1208, 1208, 1209, 1210, 1210, 1210, 1211, 1211, 1211, 1212, 1212, 1212, 1214, 1214, 1214, 1214, 1214, 1215, 1215, 1216, 1216, 1216, 1216, 1216, 1216, 1217, 1217, 1217, 1218, 1218, 1218, 1218, 1218, 1218, 1218, 1218, 1218, 1220, 1220, 1220, 1220, 1221, 1221, 1222, 1223, 1223, 1224, 1224, 1224, 1224, 1224, 1224, 1224, 1224, 1224, 1224, 1225, 1226, 1226, 1226, 1226, 1226, 1226, 1228, 1228, 1228, 1229, 1229, 1229, 1229, 1229, 1230, 1230, 1232, 1232, 1232, 1232, 1232, 1232, 1234, 1235, 1235, 1236, 1236, 1236, 1236, 1236, 1238, 1239, 1240, 1240, 1242, 1242, 1242, 1242, 1244, 1245, 1245, 1246, 1246, 1246, 1247, 1248, 1248, 1248, 1248, 1250, 1250, 1250, 1250, 1251, 1251, 1252, 1252, 1252, 1252, 1252, 1253, 1253, 1254, 1254, 1256, 1256, 1256, 1256, 1258, 1258, 1258, 1258, 1258, 1260, 1261, 1262, 1262, 1264, 1264, 1264, 1265, 1266, 1266, 1266, 1266, 1268, 1268, 1268, 1268, 1269, 1269, 1269, 1270, 1271, 1273, 1273, 1274, 1274, 1274, 1276, 1277, 1278, 1278, 1279, 1280, 1280, 1280, 1281, 1281, 1282, 1282, 1283, 1284, 1284, 1285, 1285, 1285, 1285, 1287, 1287, 1287, 1288, 1288, 1288, 1290, 1290, 1291, 1292, 1292, 1293, 1294, 1294, 1294, 1295, 1295, 1295, 1296, 1296, 1296, 1296, 1297, 1298, 1298, 1298, 1298, 1299, 1299, 1301, 1301, 1302, 1302, 1302, 1302, 1302, 1302, 1302, 1302, 1302, 1304, 1304, 1306, 1306, 1306, 1306, 1306, 1308, 1308, 1308, 1308, 1309, 1310, 1310, 1310, 1312, 1312, 1312, 1313, 1314, 1314, 1314, 1314, 1314, 1315, 1316, 1316, 1316, 1316, 1316, 1317, 1319, 1320, 1320, 1320, 1320, 1320, 1320, 1321, 1322, 1322, 1323, 1324, 1324, 1324, 1324, 1324, 1324, 1324, 1324, 1325, 1326, 1326, 1327, 1328, 1328, 1328, 1328, 1329, 1329, 1330, 1330, 1332, 1334, 1334, 1335, 1336, 1336, 1336, 1336, 1336, 1337, 1337, 1337, 1337, 1337, 1337, 1337, 1337, 1337, 1337, 1338, 1338, 1338, 1338, 1339, 1339, 1340, 1340, 1340, 1341, 1341, 1342, 1342, 1342, 1342, 1342, 1342, 1343, 1344, 1344, 1344, 1344, 1344, 1344, 1344, 1344, 1344, 1344, 1344, 1346, 1346, 1347, 1347, 1348, 1348, 1349, 1350, 1350, 1350, 1350, 1351, 1352, 1352, 1352, 1352, 1352, 1353, 1355, 1355, 1355, 1356, 1356, 1357, 1358, 1358, 1358, 1358, 1358, 1358, 1358, 1358, 1360, 1360, 1360, 1360, 1360, 1361, 1361, 1362, 1362, 1362, 1362, 1362, 1362, 1362, 1363, 1363, 1363, 1364, 1364, 1364, 1365, 1365, 1365, 1367, 1367, 1367, 1368, 1368, 1368, 1368, 1368, 1369, 1369, 1370, 1370, 1370, 1370, 1372, 1372, 1373, 1374, 1374, 1374, 1374, 1374, 1374, 1374, 1375, 1375, 1375, 1376, 1376, 1376, 1376, 1377, 1378, 1378, 1378, 1380, 1381, 1382, 1382, 1382, 1382, 1382, 1382, 1382, 1383, 1383, 1383, 1384, 1384, 1384, 1385, 1386, 1387, 1387, 1388, 1388, 1389, 1389, 1390, 1390, 1391, 1392, 1392, 1392, 1392, 1392, 1392, 1392, 1392, 1393, 1394, 1395, 1395, 1396, 1396, 1396, 1398, 1398, 1400, 1400, 1400, 1402, 1402, 1403, 1403, 1404, 1404, 1405, 1405, 1405, 1406, 1408, 1409, 1409, 1411, 1411, 1412, 1412, 1412, 1414, 1414, 1414, 1414, 1414, 1416, 1416, 1416, 1416, 1416, 1416, 1417, 1418, 1418, 1419, 1419, 1419, 1419, 1422, 1422, 1422, 1422, 1422, 1422, 1422, 1424, 1424, 1425, 1425, 1426, 1426, 1426, 1427, 1427, 1428, 1428, 1429, 1430, 1430, 1430, 1430, 1430, 1430, 1430, 1430, 1431, 1431, 1432, 1432, 1432, 1432, 1432, 1432, 1433, 1433, 1434, 1434, 1435, 1436, 1436, 1436, 1436, 1436, 1437, 1437, 1440, 1440, 1440, 1440, 1440, 1440, 1440, 1440, 1440, 1441, 1441, 1442, 1442, 1442, 1442, 1442, 1444, 1444, 1444, 1445, 1445, 1445, 1446, 1447, 1448, 1450, 1450, 1452, 1452, 1452, 1452, 1453, 1453, 1453, 1455, 1456, 1456, 1456, 1456, 1456, 1456, 1456, 1456, 1456, 1456, 1456, 1456, 1456, 1456, 1456, 1456, 1456, 1456, 1456, 1456, 1458, 1458, 1458, 1458, 1459, 1461, 1461, 1463, 1464, 1464, 1464, 1464, 1465, 1465, 1466, 1466, 1466, 1468, 1468, 1468, 1469, 1470, 1470, 1470, 1470, 1470, 1471, 1472, 1472, 1472, 1472, 1473, 1474, 1474, 1475, 1475, 1476, 1476, 1477, 1478, 1478, 1478, 1478, 1478, 1479, 1479, 1479, 1479, 1479, 1479, 1479, 1479, 1480, 1480, 1480, 1481, 1482, 1482, 1482, 1482, 1483, 1484, 1484, 1484, 1484, 1484, 1484, 1484, 1486, 1486, 1487, 1488, 1488, 1488, 1488, 1488, 1489, 1489, 1489, 1489, 1490, 1490, 1491, 1491, 1491, 1492, 1492, 1492, 1492, 1493, 1494, 1494, 1494, 1494, 1494, 1494, 1494, 1494, 1495, 1495, 1495, 1496, 1496, 1496, 1497, 1498, 1498, 1498, 1499, 1499, 1500, 1500, 1500, 1500, 1501, 1501, 1501, 1501, 1501, 1501, 1502, 1502, 1502, 1502, 1502, 1504, 1504, 1504, 1504, 1504, 1505, 1505, 1506, 1506, 1506, 1507, 1508, 1509, 1509, 1509, 1509, 1510, 1510, 1510, 1510, 1511, 1511, 1511, 1512, 1512, 1512, 1512, 1512, 1513, 1513, 1513, 1514, 1515, 1516, 1516, 1517, 1517, 1518, 1518, 1520, 1520, 1521, 1521, 1522, 1522, 1523, 1523, 1524, 1524, 1524, 1524, 1525, 1525, 1525, 1525, 1526, 1526, 1527, 1529, 1530, 1530, 1530, 1531, 1531, 1533, 1534, 1534, 1535, 1535, 1535, 1535, 1536, 1536, 1536, 1536, 1536, 1537, 1537, 1538, 1539, 1539, 1540, 1540, 1540, 1541, 1541, 1542, 1544, 1544, 1546, 1547, 1548, 1548, 1548, 1548, 1548, 1549, 1550, 1550, 1551, 1552, 1552, 1553, 1553, 1553, 1554, 1554, 1555, 1555, 1556, 1556, 1556, 1556, 1557, 1557, 1558, 1558, 1558, 1558, 1559, 1560, 1560, 1560, 1560, 1560, 1560, 1560, 1560, 1561, 1561, 1563, 1564, 1564, 1564, 1565, 1565, 1565, 1566, 1566, 1566, 1567, 1567, 1567, 1567, 1568, 1568, 1569, 1570, 1571, 1571, 1572, 1572, 1573, 1573, 1573, 1573, 1573, 1574, 1574, 1575, 1575, 1575, 1576, 1576, 1576, 1576, 1576, 1577, 1577, 1578, 1578, 1578, 1580, 1580, 1582, 1582, 1582, 1582, 1584, 1584, 1584, 1585, 1586, 1586, 1587, 1588, 1588, 1588, 1588, 1588, 1588, 1589, 1590, 1590, 1592, 1593, 1593, 1593, 1594, 1594, 1594, 1595, 1595, 1595, 1595, 1596, 1598, 1600, 1600, 1600, 1600, 1601, 1601, 1601, 1601, 1602, 1602, 1603, 1603, 1604, 1604, 1604, 1604, 1604, 1604, 1604, 1605, 1606, 1607, 1608, 1608, 1608, 1609, 1609, 1609, 1609, 1610, 1610, 1610, 1611, 1611, 1611, 1612, 1612, 1612, 1614, 1614, 1614, 1615, 1616, 1616, 1616, 1617, 1618, 1620, 1620, 1620, 1620, 1621, 1621, 1622, 1624, 1624, 1625, 1625, 1625, 1625, 1626, 1626, 1626, 1626, 1626, 1626, 1627, 1628, 1629, 1629, 1629, 1630, 1630, 1630, 1630, 1632, 1632, 1632, 1632, 1632, 1633, 1633, 1634, 1635, 1635, 1636, 1636, 1636, 1636, 1638, 1638, 1638, 1639, 1639, 1640, 1640, 1640, 1640, 1641, 1641, 1641, 1642, 1642, 1643, 1644, 1644, 1644, 1644, 1645, 1646, 1646, 1646, 1646, 1646, 1646, 1646, 1647, 1647, 1647, 1647, 1648, 1648, 1650, 1650, 1651, 1651, 1651, 1651, 1651, 1652, 1652, 1652, 1652, 1652, 1652, 1652, 1652, 1653, 1654, 1654, 1654, 1655, 1656, 1656, 1656, 1656, 1656, 1656, 1656, 1657, 1657, 1657, 1658, 1658, 1659, 1659, 1660, 1660, 1660, 1660, 1661, 1661, 1661, 1662, 1663, 1663, 1664, 1664, 1664, 1664, 1664, 1664, 1665, 1666, 1666, 1666, 1666, 1668, 1668, 1668, 1668, 1668, 1668, 1669, 1670, 1670, 1671, 1671, 1671, 1671, 1671, 1672, 1673, 1674, 1674, 1675, 1675, 1675, 1676, 1677, 1678, 1679, 1680, 1680, 1680, 1680, 1680, 1680, 1680, 1680, 1680, 1682, 1682, 1682, 1683, 1684, 1685, 1686, 1686, 1686, 1687, 1688, 1688, 1689, 1689, 1689, 1689, 1689, 1690, 1690, 1690, 1690, 1690, 1691, 1691, 1692, 1692, 1694, 1694, 1694, 1694, 1694, 1694, 1694, 1694, 1696, 1696, 1696, 1696, 1698, 1698, 1699, 1700, 1700, 1700, 1701, 1701, 1702, 1702, 1704, 1707, 1707, 1708, 1709, 1709, 1709, 1709, 1709, 1709, 1710, 1710, 1710, 1710, 1710, 1710, 1712, 1712, 1713, 1714, 1714, 1714, 1716, 1716, 1716, 1716, 1716, 1716, 1717, 1717, 1717, 1717, 1718, 1718, 1718, 1718, 1719, 1720, 1720, 1720, 1720, 1720, 1721, 1721, 1721, 1721, 1721, 1724, 1724, 1724, 1725, 1726, 1726, 1728, 1728, 1728, 1728, 1728, 1728, 1728, 1728, 1728, 1728, 1728, 1728, 1728, 1729, 1730, 1731, 1732, 1733, 1733, 1733, 1734, 1734, 1734, 1734, 1734, 1736, 1737, 1737, 1738, 1738, 1739, 1740, 1740, 1740, 1740, 1740, 1742, 1742, 1743, 1743, 1743, 1744, 1746, 1746, 1749, 1750, 1750, 1752, 1752, 1753, 1755, 1755, 1755, 1756, 1759, 1760, 1760, 1761, 1762, 1762, 1764, 1764, 1764, 1766, 1766, 1767, 1768, 1768, 1768, 1768, 1768, 1768, 1768, 1770, 1771, 1771, 1772, 1772, 1773, 1774, 1774, 1774, 1775, 1775, 1776, 1776, 1776, 1776, 1778, 1779, 1779, 1779, 1780, 1780, 1782, 1782, 1784, 1786, 1786, 1786, 1786, 1787, 1788, 1788, 1789, 1790, 1790, 1790, 1792, 1792, 1792, 1792, 1792, 1792, 1792, 1795, 1795, 1795, 1795, 1795, 1796, 1796, 1797, 1797, 1797, 1798, 1800, 1800, 1800, 1800, 1800, 1800, 1801, 1801, 1801, 1802, 1802, 1802, 1803, 1803, 1804, 1806, 1808, 1809, 1811, 1811, 1812, 1812, 1812, 1816, 1818, 1818, 1820, 1820, 1820, 1820, 1822, 1822, 1823, 1824, 1824, 1824, 1824, 1824, 1826, 1826, 1827, 1828, 1828, 1828, 1828, 1829, 1829, 1830, 1830, 1832, 1836, 1836, 1836, 1836, 1837, 1838, 1838, 1838, 1838, 1838, 1839, 1839, 1839, 1840, 1842, 1842, 1844, 1844, 1844, 1844, 1845, 1846, 1846, 1848, 1848, 1850, 1850, 1851, 1851, 1852, 1852, 1855, 1855, 1856, 1857, 1861, 1861, 1863, 1864, 1865, 1866, 1866, 1867, 1868, 1868, 1868, 1869, 1869, 1870, 1872, 1872, 1872, 1873, 1873, 1873, 1874, 1874, 1875, 1876, 1876, 1877, 1879, 1882, 1884, 1884, 1884, 1884, 1886, 1888, 1889, 1889, 1891, 1892, 1894, 1895, 1898, 1902, 1902, 1902, 1904, 1904, 1905, 1906, 1908, 1908, 1909, 1911, 1912, 1913, 1914, 1915, 1916, 1919, 1920, 1920, 1920, 1920, 1921, 1922, 1922, 1922, 1923, 1924, 1928, 1928, 1928, 1929, 1930, 1930, 1932, 1932, 1933, 1934, 1935, 1935, 1936, 1938, 1939, 1939, 1940, 1944, 1944, 1944, 1947, 1947, 1948, 1948, 1949, 1949, 1950, 1950, 1951, 1952, 1953, 1953, 1954, 1955, 1958, 1958, 1958, 1959, 1959, 1959, 1960, 1960, 1961, 1962, 1962, 1964, 1964, 1964, 1964, 1966, 1967, 1968, 1968, 1969, 1969, 1970, 1971, 1973, 1976, 1976, 1977, 1977, 1978, 1978, 1978, 1980, 1981, 1981, 1982, 1982, 1983, 1984, 1986, 1986, 1987, 1988, 1989, 1991, 1991, 1992, 1992, 1993, 1995, 1995, 2000, 2000, 2000, 2002, 2006, 2007, 2007, 2008, 2009, 2009, 2013, 2014, 2014, 2014, 2016, 2018, 2019, 2020, 2020, 2020, 2020, 2021, 2022, 2028, 2030, 2031, 2032, 2034, 2034, 2035, 2036, 2036, 2037, 2039, 2042, 2042, 2044, 2046, 2046, 2046, 2048, 2048, 2049, 2050, 2052, 2054, 2057, 2058, 2060, 2060, 2061, 2061, 2062, 2063, 2064, 2064, 2067, 2068, 2069, 2071, 2073, 2075, 2078, 2080, 2080, 2082, 2084, 2084, 2087, 2088, 2090, 2090, 2090, 2091, 2093, 2094, 2097, 2097, 2097, 2098, 2098, 2100, 2104, 2108, 2110, 2110, 2112, 2113, 2117, 2119, 2121, 2122, 2122, 2125, 2126, 2127, 2127, 2128, 2132, 2133, 2134, 2136, 2138, 2140, 2140, 2142, 2144, 2149, 2152, 2153, 2154, 2156, 2157, 2158, 2161, 2161, 2161, 2167, 2168, 2169, 2172, 2172, 2177, 2180, 2183, 2184, 2184, 2192, 2196, 2197, 2198, 2199, 2200, 2200, 2200, 2201, 2202, 2206, 2207, 2210, 2212, 2214, 2217, 2223, 2224, 2225, 2228, 2229, 2230, 2232, 2233, 2234, 2234, 2234, 2236, 2237, 2240, 2243, 2250, 2256, 2256, 2259, 2260, 2262, 2263, 2263, 2263, 2264, 2267, 2267, 2268, 2270, 2274, 2276, 2279, 2283, 2285, 2287, 2288, 2290, 2290, 2290, 2291, 2291, 2294, 2295, 2296, 2299, 2312, 2314, 2315, 2318, 2320, 2320, 2322, 2322, 2324, 2327, 2329, 2331, 2332, 2332, 2334, 2337, 2338, 2340, 2340, 2344, 2345, 2349, 2350, 2353, 2358, 2358, 2358, 2362, 2362, 2364, 2365, 2365, 2372, 2373, 2374, 2376, 2377, 2380, 2385, 2385, 2389, 2392, 2392, 2393, 2398, 2400, 2402, 2403, 2411, 2414, 2417, 2418, 2422, 2432, 2439, 2443, 2447, 2448, 2448, 2450, 2452, 2452, 2452, 2454, 2461, 2462, 2464, 2466, 2468, 2470, 2473, 2473, 2475, 2480, 2482, 2486, 2486, 2490, 2492, 2494, 2495, 2495, 2497, 2499, 2500, 2501, 2503, 2504, 2514, 2519, 2520, 2520, 2520, 2521, 2522, 2524, 2526, 2526, 2531, 2538, 2541, 2544, 2550, 2551, 2552, 2554, 2555, 2559, 2574, 2576, 2582, 2589, 2592, 2596, 2599, 2601, 2610, 2612, 2614, 2620, 2622, 2624, 2630, 2633, 2634, 2640, 2640, 2640, 2640, 2643, 2646, 2646, 2649, 2650, 2654, 2654, 2656, 2668, 2673, 2674, 2683, 2687, 2687, 2690, 2690, 2696, 2696, 2698, 2704, 2713, 2715, 2726, 2726, 2727, 2728, 2730, 2748, 2758, 2772, 2775, 2784, 2786, 2787, 2787, 2787, 2790, 2792, 2794, 2795, 2798, 2799, 2810, 2814, 2822, 2826, 2828, 2840, 2855, 2868, 2872, 2872, 2898, 2944, 2945, 2956, 2978, 3005, 3078, 3082, 3086, 3086, 3112, 3140, 3194, 3222, 3228, 3238, 3279, 3390, 3395, 3447, 3493, 3500, 3608, 3627, 3672, 4316, 4476, 4676, 5095, 5642], \"xaxis\": \"x\", \"y\": [50046.47516418815, 58221.57231904393, 61693.18891905118, 66396.6694738997, 67740.5210609993, 68412.44685454908, 70876.17476423165, 73115.92740939761, 76699.53164166317, 79723.19771263721, 80395.12350618701, 81179.0369319951, 81626.98746102829, 83194.81431264446, 83194.81431264446, 83194.81431264446, 83194.81431264446, 83194.81431264446, 83194.81431264446, 83194.81431264446, 84314.69063522745, 84426.67826748574, 86554.44328039342, 87226.3690739432, 87674.3196029764, 87898.294867493, 87898.294867493, 87898.294867493, 87898.294867493, 87898.294867493, 90026.05988040066, 90250.03514491726, 90362.02277717556, 90809.97330620875, 91481.89909975854, 91929.84962879174, 92489.78779008322, 92713.76305459983, 93273.70121589131, 93273.70121589131, 93273.70121589131, 93273.70121589131, 93833.6393771828, 94281.589906216, 94281.589906216, 94617.55280299089, 94729.54043524919, 96297.36728686537, 96297.36728686537, 96857.30544815685, 97081.28071267346, 97305.25597719006, 97641.21887396494, 98201.15703525644, 98313.14466751473, 98537.11993203133, 98649.10756428963, 98649.10756428963, 98649.10756428963, 98649.10756428963, 98649.10756428963, 99209.04572558112, 99321.03335783942, 99768.98388687262, 99992.95915138921, 100440.90968042241, 100440.90968042241, 100440.90968042241, 100888.8602094556, 100888.8602094556, 101000.8478417139, 101000.8478417139, 101112.8354739722, 101336.8107384888, 101336.8107384888, 101336.8107384888, 101448.79837074708, 101784.76126752199, 101784.76126752199, 101784.76126752199, 101784.76126752199, 101896.74889978029, 102232.71179655517, 102568.67469333007, 102680.66232558838, 103128.61285462156, 103128.61285462156, 103352.58811913816, 103352.58811913816, 103688.55101591305, 104024.51391268795, 104024.51391268795, 104024.51391268795, 104024.51391268795, 104024.51391268795, 104024.51391268795, 104024.51391268795, 104024.51391268795, 104024.51391268795, 104024.51391268795, 104024.51391268795, 104024.51391268795, 104024.51391268795, 104024.51391268795, 104360.47680946285, 105032.40260301264, 105032.40260301264, 105256.37786752923, 105816.31602882073, 105816.31602882073, 105928.30366107903, 105928.30366107903, 105928.30366107903, 106152.27892559562, 106264.26655785392, 106264.26655785392, 106488.24182237052, 106712.21708688712, 106712.21708688712, 106824.2047191454, 107160.1676159203, 107272.1552481786, 107272.1552481786, 107272.1552481786, 107272.1552481786, 107384.1428804369, 107608.11814495349, 107608.11814495349, 107608.11814495349, 107608.11814495349, 107608.11814495349, 107608.11814495349, 107608.11814495349, 107608.11814495349, 107608.11814495349, 107608.11814495349, 107608.11814495349, 107608.11814495349, 107608.11814495349, 108280.0439385033, 108504.01920301988, 108727.99446753648, 108727.99446753648, 108727.99446753648, 108727.99446753648, 108951.96973205308, 109063.95736431138, 109063.95736431138, 109399.92026108627, 109399.92026108627, 109399.92026108627, 109399.92026108627, 109399.92026108627, 109399.92026108627, 109399.92026108627, 109399.92026108627, 109399.92026108627, 109399.92026108627, 109399.92026108627, 109399.92026108627, 109399.92026108627, 109399.92026108627, 109399.92026108627, 109399.92026108627, 109399.92026108627, 109399.92026108627, 109399.92026108627, 109399.92026108627, 109399.92026108627, 109399.92026108627, 109399.92026108627, 109399.92026108627, 109399.92026108627, 109399.92026108627, 109399.92026108627, 109399.92026108627, 109399.92026108627, 109399.92026108627, 109399.92026108627, 109399.92026108627, 109399.92026108627, 109399.92026108627, 109399.92026108627, 109399.92026108627, 109399.92026108627, 109399.92026108627, 109399.92026108627, 109399.92026108627, 109399.92026108627, 109511.90789334457, 109623.89552560287, 109847.87079011947, 109959.85842237776, 109959.85842237776, 110295.82131915266, 110295.82131915266, 110519.79658366926, 110519.79658366926, 110519.79658366926, 110519.79658366926, 110631.78421592756, 110631.78421592756, 110743.77184818585, 110743.77184818585, 110743.77184818585, 111079.73474496075, 111079.73474496075, 111415.69764173565, 111415.69764173565, 111415.69764173565, 111415.69764173565, 111415.69764173565, 111415.69764173565, 111415.69764173565, 111527.68527399393, 111639.67290625224, 111639.67290625224, 111639.67290625224, 111863.64817076884, 111975.63580302714, 112087.62343528544, 112199.61106754374, 112311.59869980202, 112535.57396431862, 112535.57396431862, 112535.57396431862, 112535.57396431862, 112647.56159657692, 112759.54922883523, 112759.54922883523, 112759.54922883523, 112759.54922883523, 112759.54922883523, 112759.54922883523, 112759.54922883523, 112759.54922883523, 112759.54922883523, 112759.54922883523, 112759.54922883523, 112759.54922883523, 112759.54922883523, 112759.54922883523, 112759.54922883523, 112983.52449335181, 113095.51212561011, 113207.49975786841, 113319.48739012671, 113319.48739012671, 113431.47502238501, 113431.47502238501, 113431.47502238501, 113543.46265464331, 113655.45028690161, 113655.45028690161, 113879.4255514182, 113879.4255514182, 113879.4255514182, 113879.4255514182, 114103.4008159348, 114215.3884481931, 114215.3884481931, 114215.3884481931, 114327.3760804514, 114439.3637127097, 114551.35134496799, 114775.32660948459, 114775.32660948459, 114775.32660948459, 114775.32660948459, 114775.32660948459, 114775.32660948459, 114775.32660948459, 114775.32660948459, 114775.32660948459, 114775.32660948459, 114775.32660948459, 114775.32660948459, 114775.32660948459, 114775.32660948459, 114887.31424174289, 114999.30187400119, 114999.30187400119, 114999.30187400119, 114999.30187400119, 115447.25240303438, 115447.25240303438, 115559.24003529268, 115559.24003529268, 115895.20293206758, 116007.19056432588, 116007.19056432588, 116119.17819658417, 116119.17819658417, 116119.17819658417, 116119.17819658417, 116231.16582884247, 116231.16582884247, 116231.16582884247, 116231.16582884247, 116231.16582884247, 116231.16582884247, 116343.15346110077, 116567.12872561737, 116567.12872561737, 116791.10399013397, 116791.10399013397, 117015.07925465055, 117239.05451916716, 117351.04215142546, 117351.04215142546, 117463.02978368376, 117463.02978368376, 117463.02978368376, 117463.02978368376, 117463.02978368376, 117463.02978368376, 117463.02978368376, 117463.02978368376, 117463.02978368376, 117463.02978368376, 117463.02978368376, 117463.02978368376, 117687.00504820034, 118022.96794497524, 118022.96794497524, 118246.94320949184, 118246.94320949184, 118246.94320949184, 118358.93084175015, 118470.91847400843, 118806.88137078333, 118806.88137078333, 118806.88137078333, 118806.88137078333, 118806.88137078333, 118918.86900304163, 119030.85663529993, 119030.85663529993, 119142.84426755823, 119142.84426755823, 119254.83189981652, 119254.83189981652, 119254.83189981652, 119254.83189981652, 119254.83189981652, 119478.80716433312, 119478.80716433312, 119590.79479659142, 119926.75769336632, 119926.75769336632, 119926.75769336632, 120150.73295788291, 120150.73295788291, 120150.73295788291, 120150.73295788291, 120150.73295788291, 120150.73295788291, 120150.73295788291, 120150.73295788291, 120150.73295788291, 120150.73295788291, 120150.73295788291, 120150.73295788291, 120598.68348691611, 120598.68348691611, 120710.67111917441, 120710.67111917441, 120934.646383691, 121046.6340159493, 121046.6340159493, 121046.6340159493, 121046.6340159493, 121158.6216482076, 121270.6092804659, 121270.6092804659, 121382.5969127242, 121494.5845449825, 121494.5845449825, 121718.55980949909, 121942.53507401569, 121942.53507401569, 122390.48560304887, 122390.48560304887, 122390.48560304887, 122390.48560304887, 122502.47323530717, 122838.43613208208, 122838.43613208208, 122838.43613208208, 122838.43613208208, 122838.43613208208, 122950.42376434038, 122950.42376434038, 123062.41139659866, 123174.39902885696, 123174.39902885696, 123174.39902885696, 123174.39902885696, 123174.39902885696, 123174.39902885696, 123174.39902885696, 123174.39902885696, 123174.39902885696, 123174.39902885696, 123174.39902885696, 123174.39902885696, 123286.38666111526, 123286.38666111526, 123286.38666111526, 123286.38666111526, 123286.38666111526, 123286.38666111526, 123286.38666111526, 123286.38666111526, 123286.38666111526, 123286.38666111526, 123286.38666111526, 123510.36192563186, 123510.36192563186, 123510.36192563186, 123510.36192563186, 123510.36192563186, 123510.36192563186, 123510.36192563186, 123510.36192563186, 123734.33719014846, 123734.33719014846, 123734.33719014846, 124070.30008692335, 124182.28771918165, 124182.28771918165, 124406.26298369825, 124518.25061595655, 124518.25061595655, 124518.25061595655, 124518.25061595655, 124630.23824821484, 124742.22588047314, 124854.21351273144, 124966.20114498974, 125078.18877724804, 125078.18877724804, 125078.18877724804, 125190.17640950634, 125190.17640950634, 125190.17640950634, 125302.16404176464, 125526.13930628123, 125526.13930628123, 125526.13930628123, 125526.13930628123, 125526.13930628123, 125526.13930628123, 125526.13930628123, 125638.12693853953, 125974.08983531443, 125974.08983531443, 125974.08983531443, 126086.07746757273, 126198.06509983102, 126310.05273208932, 126534.02799660592, 126869.99089338082, 126869.99089338082, 126869.99089338082, 126869.99089338082, 126869.99089338082, 127093.9661578974, 127093.9661578974, 127093.9661578974, 127317.941422414, 127317.941422414, 127429.9290546723, 127429.9290546723, 127541.9166869306, 127541.9166869306, 127541.9166869306, 127541.9166869306, 127653.9043191889, 127653.9043191889, 127765.89195144719, 127877.8795837055, 127989.8672159638, 128101.8548482221, 128213.8424804804, 128213.8424804804, 128213.8424804804, 128213.8424804804, 128213.8424804804, 128325.8301127387, 128437.817744997, 128437.817744997, 128437.817744997, 128437.817744997, 128437.817744997, 128661.79300951358, 128661.79300951358, 128773.78064177188, 128885.76827403018, 128997.75590628848, 128997.75590628848, 129109.74353854678, 129109.74353854678, 129109.74353854678, 129109.74353854678, 129109.74353854678, 129109.74353854678, 129109.74353854678, 129109.74353854678, 129109.74353854678, 129109.74353854678, 129109.74353854678, 129109.74353854678, 129109.74353854678, 129109.74353854678, 129109.74353854678, 129109.74353854678, 129109.74353854678, 129109.74353854678, 129109.74353854678, 129109.74353854678, 129109.74353854678, 129109.74353854678, 129109.74353854678, 129109.74353854678, 129109.74353854678, 129221.73117080508, 129221.73117080508, 129333.71880306337, 129445.70643532167, 129557.69406757997, 129557.69406757997, 129557.69406757997, 129669.68169983827, 129669.68169983827, 129669.68169983827, 129893.65696435487, 130005.64459661317, 130005.64459661317, 130005.64459661317, 130117.63222887146, 130117.63222887146, 130229.61986112976, 130229.61986112976, 130229.61986112976, 130229.61986112976, 130341.60749338806, 130341.60749338806, 130453.59512564636, 130453.59512564636, 130453.59512564636, 130453.59512564636, 130565.58275790466, 130565.58275790466, 130565.58275790466, 130565.58275790466, 130677.57039016296, 130677.57039016296, 130677.57039016296, 130789.55802242126, 130789.55802242126, 130789.55802242126, 130789.55802242126, 130789.55802242126, 130901.54565467955, 130901.54565467955, 130901.54565467955, 130901.54565467955, 130901.54565467955, 130901.54565467955, 130901.54565467955, 131013.53328693785, 131013.53328693785, 131013.53328693785, 131237.50855145446, 131349.49618371273, 131349.49618371273, 131349.49618371273, 131461.48381597106, 131573.47144822933, 131573.47144822933, 131685.45908048764, 131797.44671274594, 131797.44671274594, 131909.43434500424, 132133.40960952084, 132245.39724177914, 132245.39724177914, 132357.3848740374, 132357.3848740374, 132357.3848740374, 132693.34777081234, 132693.34777081234, 132693.34777081234, 132693.34777081234, 132693.34777081234, 132693.34777081234, 132693.34777081234, 132693.34777081234, 132805.3354030706, 132805.3354030706, 132805.3354030706, 132805.3354030706, 132805.3354030706, 132805.3354030706, 132917.32303532894, 132917.32303532894, 132917.32303532894, 133029.3106675872, 133141.2982998455, 133253.2859321038, 133253.2859321038, 133253.2859321038, 133365.2735643621, 133365.2735643621, 133365.2735643621, 133477.2611966204, 133589.2488288787, 133589.2488288787, 133589.2488288787, 133589.2488288787, 133589.2488288787, 133589.2488288787, 133701.236461137, 133813.2240933953, 133813.2240933953, 133925.21172565361, 134261.1746224285, 134261.1746224285, 134261.1746224285, 134485.1498869451, 134485.1498869451, 134597.13751920342, 134709.1251514617, 134709.1251514617, 134821.11278372, 134821.11278372, 134933.1004159783, 134933.1004159783, 134933.1004159783, 134933.1004159783, 134933.1004159783, 134933.1004159783, 134933.1004159783, 134933.1004159783, 134933.1004159783, 134933.1004159783, 134933.1004159783, 134933.1004159783, 134933.1004159783, 134933.1004159783, 134933.1004159783, 134933.1004159783, 134933.1004159783, 134933.1004159783, 134933.1004159783, 134933.1004159783, 134933.1004159783, 134933.1004159783, 134933.1004159783, 134933.1004159783, 134933.1004159783, 134933.1004159783, 135045.0880482366, 135045.0880482366, 135157.0756804949, 135157.0756804949, 135269.0633127532, 135381.0509450115, 135381.0509450115, 135381.0509450115, 135381.0509450115, 135493.03857726976, 135493.03857726976, 135493.03857726976, 135605.0262095281, 135605.0262095281, 135717.01384178636, 135829.0014740447, 135829.0014740447, 135829.0014740447, 136052.9767385613, 136052.9767385613, 136164.96437081957, 136164.96437081957, 136276.95200307787, 136388.93963533617, 136612.91489985277, 136612.91489985277, 136724.90253211107, 136836.89016436937, 136948.87779662767, 137060.86542888597, 137060.86542888597, 137060.86542888597, 137172.85306114424, 137172.85306114424, 137172.85306114424, 137172.85306114424, 137284.84069340257, 137284.84069340257, 137396.82832566084, 137396.82832566084, 137396.82832566084, 137396.82832566084, 137396.82832566084, 137396.82832566084, 137620.80359017744, 137620.80359017744, 137732.79122243577, 137732.79122243577, 137732.79122243577, 137844.77885469404, 137844.77885469404, 137844.77885469404, 137844.77885469404, 137956.76648695234, 138068.75411921064, 138068.75411921064, 138068.75411921064, 138068.75411921064, 138180.74175146894, 138180.74175146894, 138292.72938372724, 138404.71701598555, 138516.70464824385, 138516.70464824385, 138628.69228050212, 138628.69228050212, 138740.67991276045, 138740.67991276045, 138740.67991276045, 138740.67991276045, 138852.66754501872, 138964.65517727705, 138964.65517727705, 138964.65517727705, 138964.65517727705, 138964.65517727705, 139188.63044179365, 139300.61807405192, 139300.61807405192, 139300.61807405192, 139412.60570631022, 139412.60570631022, 139524.59333856852, 139524.59333856852, 139636.58097082682, 139636.58097082682, 139748.56860308512, 139860.55623534342, 139860.55623534342, 139972.54386760172, 139972.54386760172, 140084.53149986002, 140084.53149986002, 140308.5067643766, 140308.5067643766, 140308.5067643766, 140420.49439663492, 140420.49439663492, 140420.49439663492, 140420.49439663492, 140532.4820288932, 140532.4820288932, 140532.4820288932, 140532.4820288932, 140532.4820288932, 140644.46966115152, 140644.46966115152, 140644.46966115152, 140644.46966115152, 140756.4572934098, 140756.4572934098, 140756.4572934098, 140756.4572934098, 140756.4572934098, 140756.4572934098, 140756.4572934098, 140868.44492566813, 140868.44492566813, 140868.44492566813, 140980.4325579264, 140980.4325579264, 141204.407822443, 141204.407822443, 141316.3954547013, 141428.3830869596, 141428.3830869596, 141428.3830869596, 141428.3830869596, 141540.3707192179, 141652.3583514762, 141652.3583514762, 141652.3583514762, 141652.3583514762, 141652.3583514762, 141652.3583514762, 141652.3583514762, 141652.3583514762, 141652.3583514762, 141876.3336159928, 141876.3336159928, 141876.3336159928, 141988.32124825107, 142324.284145026, 142324.284145026, 142324.284145026, 142436.27177728427, 142436.27177728427, 142548.25940954257, 142772.23467405917, 142772.23467405917, 142884.22230631748, 142996.20993857578, 142996.20993857578, 143108.19757083408, 143220.18520309235, 143332.17283535068, 143332.17283535068, 143556.14809986728, 143668.13573212555, 143892.11099664215, 144004.09862890045, 144004.09862890045, 144116.08626115875, 144116.08626115875, 144228.07389341705, 144228.07389341705, 144340.06152567535, 144340.06152567535, 144340.06152567535, 144340.06152567535, 144340.06152567535, 144452.04915793365, 144564.03679019195, 144564.03679019195, 144564.03679019195, 144676.02442245025, 144676.02442245025, 144788.01205470855, 144788.01205470855, 144899.99968696685, 145011.98731922515, 145123.97495148345, 145123.97495148345, 145235.96258374173, 145571.92548051663, 145571.92548051663, 145571.92548051663, 145683.91311277493, 145683.91311277493, 145683.91311277493, 145795.90074503323, 145907.88837729153, 145907.88837729153, 145907.88837729153, 146019.87600954983, 146131.86364180813, 146131.86364180813, 146243.85127406643, 146243.85127406643, 146355.83890632473, 146355.83890632473, 146467.82653858303, 146579.81417084133, 146579.81417084133, 146579.81417084133, 146579.81417084133, 146579.81417084133, 146803.7894353579, 146915.7770676162, 147027.7646998745, 147027.7646998745, 147027.7646998745, 147027.7646998745, 147027.7646998745, 147027.7646998745, 147027.7646998745, 147027.7646998745, 147027.7646998745, 147027.7646998745, 147027.7646998745, 147027.7646998745, 147027.7646998745, 147027.7646998745, 147027.7646998745, 147027.7646998745, 147027.7646998745, 147251.7399643911, 147363.7275966494, 147475.7152289077, 147475.7152289077, 147475.7152289077, 147699.6904934243, 147811.6781256826, 147923.6657579409, 147923.6657579409, 147923.6657579409, 147923.6657579409, 147923.6657579409, 148035.6533901992, 148147.6410224575, 148147.6410224575, 148147.6410224575, 148259.62865471578, 148259.62865471578, 148259.62865471578, 148371.61628697408, 148371.61628697408, 148371.61628697408, 148595.59155149068, 148595.59155149068, 148595.59155149068, 148595.59155149068, 148595.59155149068, 148707.57918374898, 148707.57918374898, 148819.56681600728, 148819.56681600728, 148819.56681600728, 148819.56681600728, 148819.56681600728, 148819.56681600728, 148931.55444826558, 148931.55444826558, 148931.55444826558, 149043.54208052388, 149043.54208052388, 149043.54208052388, 149043.54208052388, 149043.54208052388, 149043.54208052388, 149043.54208052388, 149043.54208052388, 149043.54208052388, 149267.51734504048, 149267.51734504048, 149267.51734504048, 149267.51734504048, 149379.50497729878, 149379.50497729878, 149491.49260955708, 149603.48024181538, 149603.48024181538, 149715.46787407369, 149715.46787407369, 149715.46787407369, 149715.46787407369, 149715.46787407369, 149715.46787407369, 149715.46787407369, 149715.46787407369, 149715.46787407369, 149715.46787407369, 149827.45550633196, 149939.44313859026, 149939.44313859026, 149939.44313859026, 149939.44313859026, 149939.44313859026, 149939.44313859026, 150163.41840310686, 150163.41840310686, 150163.41840310686, 150275.40603536516, 150275.40603536516, 150275.40603536516, 150275.40603536516, 150275.40603536516, 150387.39366762346, 150387.39366762346, 150611.36893214006, 150611.36893214006, 150611.36893214006, 150611.36893214006, 150611.36893214006, 150611.36893214006, 150835.34419665666, 150947.33182891496, 150947.33182891496, 151059.31946117326, 151059.31946117326, 151059.31946117326, 151059.31946117326, 151059.31946117326, 151283.29472568986, 151395.28235794813, 151507.26999020643, 151507.26999020643, 151731.24525472304, 151731.24525472304, 151731.24525472304, 151731.24525472304, 151955.22051923964, 152067.20815149794, 152067.20815149794, 152179.19578375624, 152179.19578375624, 152179.19578375624, 152291.18341601454, 152403.17104827284, 152403.17104827284, 152403.17104827284, 152403.17104827284, 152627.14631278944, 152627.14631278944, 152627.14631278944, 152627.14631278944, 152739.13394504774, 152739.13394504774, 152851.12157730604, 152851.12157730604, 152851.12157730604, 152851.12157730604, 152851.12157730604, 152963.1092095643, 152963.1092095643, 153075.0968418226, 153075.0968418226, 153299.0721063392, 153299.0721063392, 153299.0721063392, 153299.0721063392, 153523.0473708558, 153523.0473708558, 153523.0473708558, 153523.0473708558, 153523.0473708558, 153747.0226353724, 153859.0102676307, 153970.99789988901, 153970.99789988901, 154194.97316440562, 154194.97316440562, 154194.97316440562, 154306.96079666392, 154418.94842892222, 154418.94842892222, 154418.94842892222, 154418.94842892222, 154642.9236934388, 154642.9236934388, 154642.9236934388, 154642.9236934388, 154754.9113256971, 154754.9113256971, 154754.9113256971, 154866.8989579554, 154978.8865902137, 155202.8618547303, 155202.8618547303, 155314.8494869886, 155314.8494869886, 155314.8494869886, 155538.8247515052, 155650.8123837635, 155762.8000160218, 155762.8000160218, 155874.7876482801, 155986.7752805384, 155986.7752805384, 155986.7752805384, 156098.76291279666, 156098.76291279666, 156210.75054505497, 156210.75054505497, 156322.73817731327, 156434.72580957157, 156434.72580957157, 156546.71344182987, 156546.71344182987, 156546.71344182987, 156546.71344182987, 156770.68870634647, 156770.68870634647, 156770.68870634647, 156882.67633860477, 156882.67633860477, 156882.67633860477, 157106.65160312137, 157106.65160312137, 157218.63923537967, 157330.62686763797, 157330.62686763797, 157442.61449989627, 157554.60213215454, 157554.60213215454, 157554.60213215454, 157666.58976441284, 157666.58976441284, 157666.58976441284, 157778.57739667114, 157778.57739667114, 157778.57739667114, 157778.57739667114, 157890.56502892944, 158002.55266118774, 158002.55266118774, 158002.55266118774, 158002.55266118774, 158114.54029344604, 158114.54029344604, 158338.51555796264, 158338.51555796264, 158450.50319022094, 158450.50319022094, 158450.50319022094, 158450.50319022094, 158450.50319022094, 158450.50319022094, 158450.50319022094, 158450.50319022094, 158450.50319022094, 158674.47845473755, 158674.47845473755, 158898.45371925415, 158898.45371925415, 158898.45371925415, 158898.45371925415, 158898.45371925415, 159122.42898377072, 159122.42898377072, 159122.42898377072, 159122.42898377072, 159234.41661602902, 159346.40424828732, 159346.40424828732, 159346.40424828732, 159570.37951280392, 159570.37951280392, 159570.37951280392, 159682.36714506222, 159794.35477732052, 159794.35477732052, 159794.35477732052, 159794.35477732052, 159794.35477732052, 159906.34240957882, 160018.33004183712, 160018.33004183712, 160018.33004183712, 160018.33004183712, 160018.33004183712, 160130.31767409542, 160354.29293861202, 160466.28057087032, 160466.28057087032, 160466.28057087032, 160466.28057087032, 160466.28057087032, 160466.28057087032, 160578.26820312862, 160690.2558353869, 160690.2558353869, 160802.2434676452, 160914.2310999035, 160914.2310999035, 160914.2310999035, 160914.2310999035, 160914.2310999035, 160914.2310999035, 160914.2310999035, 160914.2310999035, 161026.2187321618, 161138.2063644201, 161138.2063644201, 161250.1939966784, 161362.1816289367, 161362.1816289367, 161362.1816289367, 161362.1816289367, 161474.169261195, 161474.169261195, 161586.1568934533, 161586.1568934533, 161810.1321579699, 162034.1074224865, 162034.1074224865, 162146.0950547448, 162258.08268700307, 162258.08268700307, 162258.08268700307, 162258.08268700307, 162258.08268700307, 162370.07031926137, 162370.07031926137, 162370.07031926137, 162370.07031926137, 162370.07031926137, 162370.07031926137, 162370.07031926137, 162370.07031926137, 162370.07031926137, 162370.07031926137, 162482.05795151967, 162482.05795151967, 162482.05795151967, 162482.05795151967, 162594.04558377797, 162594.04558377797, 162706.03321603627, 162706.03321603627, 162706.03321603627, 162818.02084829457, 162818.02084829457, 162930.00848055287, 162930.00848055287, 162930.00848055287, 162930.00848055287, 162930.00848055287, 162930.00848055287, 163041.99611281118, 163153.98374506948, 163153.98374506948, 163153.98374506948, 163153.98374506948, 163153.98374506948, 163153.98374506948, 163153.98374506948, 163153.98374506948, 163153.98374506948, 163153.98374506948, 163153.98374506948, 163377.95900958608, 163377.95900958608, 163489.94664184438, 163489.94664184438, 163601.93427410268, 163601.93427410268, 163713.92190636098, 163825.90953861925, 163825.90953861925, 163825.90953861925, 163825.90953861925, 163937.89717087755, 164049.88480313585, 164049.88480313585, 164049.88480313585, 164049.88480313585, 164049.88480313585, 164161.87243539415, 164385.84769991075, 164385.84769991075, 164385.84769991075, 164497.83533216905, 164497.83533216905, 164609.82296442735, 164721.81059668565, 164721.81059668565, 164721.81059668565, 164721.81059668565, 164721.81059668565, 164721.81059668565, 164721.81059668565, 164721.81059668565, 164945.78586120225, 164945.78586120225, 164945.78586120225, 164945.78586120225, 164945.78586120225, 165057.77349346055, 165057.77349346055, 165169.76112571885, 165169.76112571885, 165169.76112571885, 165169.76112571885, 165169.76112571885, 165169.76112571885, 165169.76112571885, 165281.74875797716, 165281.74875797716, 165281.74875797716, 165393.73639023543, 165393.73639023543, 165393.73639023543, 165505.72402249373, 165505.72402249373, 165505.72402249373, 165729.69928701033, 165729.69928701033, 165729.69928701033, 165841.68691926863, 165841.68691926863, 165841.68691926863, 165841.68691926863, 165841.68691926863, 165953.67455152693, 165953.67455152693, 166065.66218378523, 166065.66218378523, 166065.66218378523, 166065.66218378523, 166289.63744830183, 166289.63744830183, 166401.62508056013, 166513.61271281843, 166513.61271281843, 166513.61271281843, 166513.61271281843, 166513.61271281843, 166513.61271281843, 166513.61271281843, 166625.60034507673, 166625.60034507673, 166625.60034507673, 166737.58797733503, 166737.58797733503, 166737.58797733503, 166737.58797733503, 166849.5756095933, 166961.5632418516, 166961.5632418516, 166961.5632418516, 167185.5385063682, 167297.5261386265, 167409.5137708848, 167409.5137708848, 167409.5137708848, 167409.5137708848, 167409.5137708848, 167409.5137708848, 167409.5137708848, 167521.5014031431, 167521.5014031431, 167521.5014031431, 167633.4890354014, 167633.4890354014, 167633.4890354014, 167745.4766676597, 167857.464299918, 167969.4519321763, 167969.4519321763, 168081.4395644346, 168081.4395644346, 168193.4271966929, 168193.4271966929, 168305.4148289512, 168305.4148289512, 168417.40246120948, 168529.39009346778, 168529.39009346778, 168529.39009346778, 168529.39009346778, 168529.39009346778, 168529.39009346778, 168529.39009346778, 168529.39009346778, 168641.37772572608, 168753.36535798438, 168865.35299024268, 168865.35299024268, 168977.34062250098, 168977.34062250098, 168977.34062250098, 169201.31588701758, 169201.31588701758, 169425.29115153418, 169425.29115153418, 169425.29115153418, 169649.26641605078, 169649.26641605078, 169761.25404830909, 169761.25404830909, 169873.2416805674, 169873.2416805674, 169985.22931282566, 169985.22931282566, 169985.22931282566, 170097.21694508396, 170321.19220960056, 170433.17984185886, 170433.17984185886, 170657.15510637546, 170657.15510637546, 170769.14273863376, 170769.14273863376, 170769.14273863376, 170993.11800315036, 170993.11800315036, 170993.11800315036, 170993.11800315036, 170993.11800315036, 171217.09326766696, 171217.09326766696, 171217.09326766696, 171217.09326766696, 171217.09326766696, 171217.09326766696, 171329.08089992526, 171441.06853218356, 171441.06853218356, 171553.05616444183, 171553.05616444183, 171553.05616444183, 171553.05616444183, 171889.01906121674, 171889.01906121674, 171889.01906121674, 171889.01906121674, 171889.01906121674, 171889.01906121674, 171889.01906121674, 172112.99432573334, 172112.99432573334, 172224.98195799164, 172224.98195799164, 172336.96959024994, 172336.96959024994, 172336.96959024994, 172448.95722250824, 172448.95722250824, 172560.94485476654, 172560.94485476654, 172672.93248702484, 172784.92011928314, 172784.92011928314, 172784.92011928314, 172784.92011928314, 172784.92011928314, 172784.92011928314, 172784.92011928314, 172784.92011928314, 172896.90775154144, 172896.90775154144, 173008.89538379974, 173008.89538379974, 173008.89538379974, 173008.89538379974, 173008.89538379974, 173008.89538379974, 173120.883016058, 173120.883016058, 173232.8706483163, 173232.8706483163, 173344.8582805746, 173456.8459128329, 173456.8459128329, 173456.8459128329, 173456.8459128329, 173456.8459128329, 173568.8335450912, 173568.8335450912, 173904.7964418661, 173904.7964418661, 173904.7964418661, 173904.7964418661, 173904.7964418661, 173904.7964418661, 173904.7964418661, 173904.7964418661, 173904.7964418661, 174016.7840741244, 174016.7840741244, 174128.77170638271, 174128.77170638271, 174128.77170638271, 174128.77170638271, 174128.77170638271, 174352.74697089932, 174352.74697089932, 174352.74697089932, 174464.73460315762, 174464.73460315762, 174464.73460315762, 174576.72223541592, 174688.7098676742, 174800.6974999325, 175024.6727644491, 175024.6727644491, 175248.6480289657, 175248.6480289657, 175248.6480289657, 175248.6480289657, 175360.635661224, 175360.635661224, 175360.635661224, 175584.6109257406, 175696.5985579989, 175696.5985579989, 175696.5985579989, 175696.5985579989, 175696.5985579989, 175696.5985579989, 175696.5985579989, 175696.5985579989, 175696.5985579989, 175696.5985579989, 175696.5985579989, 175696.5985579989, 175696.5985579989, 175696.5985579989, 175696.5985579989, 175696.5985579989, 175696.5985579989, 175696.5985579989, 175696.5985579989, 175696.5985579989, 175920.5738225155, 175920.5738225155, 175920.5738225155, 175920.5738225155, 176032.5614547738, 176256.53671929036, 176256.53671929036, 176480.51198380697, 176592.49961606527, 176592.49961606527, 176592.49961606527, 176592.49961606527, 176704.48724832357, 176704.48724832357, 176816.47488058187, 176816.47488058187, 176816.47488058187, 177040.45014509847, 177040.45014509847, 177040.45014509847, 177152.43777735677, 177264.42540961507, 177264.42540961507, 177264.42540961507, 177264.42540961507, 177264.42540961507, 177376.41304187337, 177488.40067413167, 177488.40067413167, 177488.40067413167, 177488.40067413167, 177600.38830638997, 177712.37593864824, 177712.37593864824, 177824.36357090654, 177824.36357090654, 177936.35120316484, 177936.35120316484, 178048.33883542314, 178160.32646768144, 178160.32646768144, 178160.32646768144, 178160.32646768144, 178160.32646768144, 178272.31409993974, 178272.31409993974, 178272.31409993974, 178272.31409993974, 178272.31409993974, 178272.31409993974, 178272.31409993974, 178272.31409993974, 178384.30173219804, 178384.30173219804, 178384.30173219804, 178496.28936445634, 178608.27699671465, 178608.27699671465, 178608.27699671465, 178608.27699671465, 178720.26462897295, 178832.25226123125, 178832.25226123125, 178832.25226123125, 178832.25226123125, 178832.25226123125, 178832.25226123125, 178832.25226123125, 179056.22752574785, 179056.22752574785, 179168.21515800615, 179280.20279026442, 179280.20279026442, 179280.20279026442, 179280.20279026442, 179280.20279026442, 179392.19042252272, 179392.19042252272, 179392.19042252272, 179392.19042252272, 179504.17805478102, 179504.17805478102, 179616.16568703932, 179616.16568703932, 179616.16568703932, 179728.15331929762, 179728.15331929762, 179728.15331929762, 179728.15331929762, 179840.14095155592, 179952.12858381422, 179952.12858381422, 179952.12858381422, 179952.12858381422, 179952.12858381422, 179952.12858381422, 179952.12858381422, 179952.12858381422, 180064.11621607252, 180064.11621607252, 180064.11621607252, 180176.10384833082, 180176.10384833082, 180176.10384833082, 180288.09148058912, 180400.07911284742, 180400.07911284742, 180400.07911284742, 180512.06674510572, 180512.06674510572, 180624.05437736402, 180624.05437736402, 180624.05437736402, 180624.05437736402, 180736.04200962232, 180736.04200962232, 180736.04200962232, 180736.04200962232, 180736.04200962232, 180736.04200962232, 180848.0296418806, 180848.0296418806, 180848.0296418806, 180848.0296418806, 180848.0296418806, 181072.0049063972, 181072.0049063972, 181072.0049063972, 181072.0049063972, 181072.0049063972, 181183.9925386555, 181183.9925386555, 181295.9801709138, 181295.9801709138, 181295.9801709138, 181407.9678031721, 181519.9554354304, 181631.9430676887, 181631.9430676887, 181631.9430676887, 181631.9430676887, 181743.930699947, 181743.930699947, 181743.930699947, 181743.930699947, 181855.9183322053, 181855.9183322053, 181855.9183322053, 181967.9059644636, 181967.9059644636, 181967.9059644636, 181967.9059644636, 181967.9059644636, 182079.8935967219, 182079.8935967219, 182079.8935967219, 182191.8812289802, 182303.8688612385, 182415.85649349677, 182415.85649349677, 182527.84412575507, 182527.84412575507, 182639.83175801337, 182639.83175801337, 182863.80702252997, 182863.80702252997, 182975.79465478827, 182975.79465478827, 183087.78228704658, 183087.78228704658, 183199.76991930488, 183199.76991930488, 183311.75755156318, 183311.75755156318, 183311.75755156318, 183311.75755156318, 183423.74518382148, 183423.74518382148, 183423.74518382148, 183423.74518382148, 183535.73281607978, 183535.73281607978, 183647.72044833808, 183871.69571285468, 183983.68334511295, 183983.68334511295, 183983.68334511295, 184095.67097737125, 184095.67097737125, 184319.64624188785, 184431.63387414615, 184431.63387414615, 184543.62150640445, 184543.62150640445, 184543.62150640445, 184543.62150640445, 184655.60913866275, 184655.60913866275, 184655.60913866275, 184655.60913866275, 184655.60913866275, 184767.59677092105, 184767.59677092105, 184879.58440317935, 184991.57203543765, 184991.57203543765, 185103.55966769595, 185103.55966769595, 185103.55966769595, 185215.54729995425, 185215.54729995425, 185327.53493221255, 185551.51019672913, 185551.51019672913, 185775.48546124573, 185887.47309350403, 185999.46072576233, 185999.46072576233, 185999.46072576233, 185999.46072576233, 185999.46072576233, 186111.44835802063, 186223.43599027893, 186223.43599027893, 186335.42362253723, 186447.41125479553, 186447.41125479553, 186559.39888705383, 186559.39888705383, 186559.39888705383, 186671.38651931213, 186671.38651931213, 186783.37415157043, 186783.37415157043, 186895.36178382873, 186895.36178382873, 186895.36178382873, 186895.36178382873, 187007.349416087, 187007.349416087, 187119.3370483453, 187119.3370483453, 187119.3370483453, 187119.3370483453, 187231.3246806036, 187343.3123128619, 187343.3123128619, 187343.3123128619, 187343.3123128619, 187343.3123128619, 187343.3123128619, 187343.3123128619, 187343.3123128619, 187455.2999451202, 187455.2999451202, 187679.2752096368, 187791.2628418951, 187791.2628418951, 187791.2628418951, 187903.2504741534, 187903.2504741534, 187903.2504741534, 188015.2381064117, 188015.2381064117, 188015.2381064117, 188127.22573867, 188127.22573867, 188127.22573867, 188127.22573867, 188239.2133709283, 188239.2133709283, 188351.2010031866, 188463.1886354449, 188575.17626770318, 188575.17626770318, 188687.16389996148, 188687.16389996148, 188799.15153221978, 188799.15153221978, 188799.15153221978, 188799.15153221978, 188799.15153221978, 188911.13916447808, 188911.13916447808, 189023.12679673638, 189023.12679673638, 189023.12679673638, 189135.11442899468, 189135.11442899468, 189135.11442899468, 189135.11442899468, 189135.11442899468, 189247.10206125298, 189247.10206125298, 189359.08969351128, 189359.08969351128, 189359.08969351128, 189583.06495802788, 189583.06495802788, 189807.04022254449, 189807.04022254449, 189807.04022254449, 189807.04022254449, 190031.0154870611, 190031.0154870611, 190031.0154870611, 190143.00311931936, 190254.99075157766, 190254.99075157766, 190366.97838383596, 190478.96601609426, 190478.96601609426, 190478.96601609426, 190478.96601609426, 190478.96601609426, 190478.96601609426, 190590.95364835256, 190702.94128061086, 190702.94128061086, 190926.91654512746, 191038.90417738576, 191038.90417738576, 191038.90417738576, 191150.89180964406, 191150.89180964406, 191150.89180964406, 191262.87944190236, 191262.87944190236, 191262.87944190236, 191262.87944190236, 191374.86707416066, 191598.84233867726, 191822.81760319383, 191822.81760319383, 191822.81760319383, 191822.81760319383, 191934.80523545214, 191934.80523545214, 191934.80523545214, 191934.80523545214, 192046.79286771044, 192046.79286771044, 192158.78049996874, 192158.78049996874, 192270.76813222704, 192270.76813222704, 192270.76813222704, 192270.76813222704, 192270.76813222704, 192270.76813222704, 192270.76813222704, 192382.75576448534, 192494.74339674364, 192606.73102900194, 192718.71866126024, 192718.71866126024, 192718.71866126024, 192830.70629351854, 192830.70629351854, 192830.70629351854, 192830.70629351854, 192942.69392577684, 192942.69392577684, 192942.69392577684, 193054.68155803514, 193054.68155803514, 193054.68155803514, 193166.66919029344, 193166.66919029344, 193166.66919029344, 193390.64445481, 193390.64445481, 193390.64445481, 193502.6320870683, 193614.6197193266, 193614.6197193266, 193614.6197193266, 193726.6073515849, 193838.5949838432, 194062.5702483598, 194062.5702483598, 194062.5702483598, 194062.5702483598, 194174.55788061811, 194174.55788061811, 194286.54551287642, 194510.52077739302, 194510.52077739302, 194622.50840965132, 194622.50840965132, 194622.50840965132, 194622.50840965132, 194734.4960419096, 194734.4960419096, 194734.4960419096, 194734.4960419096, 194734.4960419096, 194734.4960419096, 194846.4836741679, 194958.4713064262, 195070.4589386845, 195070.4589386845, 195070.4589386845, 195182.4465709428, 195182.4465709428, 195182.4465709428, 195182.4465709428, 195406.4218354594, 195406.4218354594, 195406.4218354594, 195406.4218354594, 195406.4218354594, 195518.4094677177, 195518.4094677177, 195630.397099976, 195742.3847322343, 195742.3847322343, 195854.3723644926, 195854.3723644926, 195854.3723644926, 195854.3723644926, 196078.3476290092, 196078.3476290092, 196078.3476290092, 196190.3352612675, 196190.3352612675, 196302.32289352576, 196302.32289352576, 196302.32289352576, 196302.32289352576, 196414.31052578407, 196414.31052578407, 196414.31052578407, 196526.29815804237, 196526.29815804237, 196638.28579030067, 196750.27342255897, 196750.27342255897, 196750.27342255897, 196750.27342255897, 196862.26105481727, 196974.24868707557, 196974.24868707557, 196974.24868707557, 196974.24868707557, 196974.24868707557, 196974.24868707557, 196974.24868707557, 197086.23631933387, 197086.23631933387, 197086.23631933387, 197086.23631933387, 197198.22395159217, 197198.22395159217, 197422.19921610877, 197422.19921610877, 197534.18684836707, 197534.18684836707, 197534.18684836707, 197534.18684836707, 197534.18684836707, 197646.17448062537, 197646.17448062537, 197646.17448062537, 197646.17448062537, 197646.17448062537, 197646.17448062537, 197646.17448062537, 197646.17448062537, 197758.16211288367, 197870.14974514194, 197870.14974514194, 197870.14974514194, 197982.13737740024, 198094.12500965854, 198094.12500965854, 198094.12500965854, 198094.12500965854, 198094.12500965854, 198094.12500965854, 198094.12500965854, 198206.11264191684, 198206.11264191684, 198206.11264191684, 198318.10027417514, 198318.10027417514, 198430.08790643344, 198430.08790643344, 198542.07553869174, 198542.07553869174, 198542.07553869174, 198542.07553869174, 198654.06317095004, 198654.06317095004, 198654.06317095004, 198766.05080320835, 198878.03843546665, 198878.03843546665, 198990.02606772495, 198990.02606772495, 198990.02606772495, 198990.02606772495, 198990.02606772495, 198990.02606772495, 199102.01369998325, 199214.00133224155, 199214.00133224155, 199214.00133224155, 199214.00133224155, 199437.97659675812, 199437.97659675812, 199437.97659675812, 199437.97659675812, 199437.97659675812, 199437.97659675812, 199549.96422901642, 199661.95186127472, 199661.95186127472, 199773.93949353302, 199773.93949353302, 199773.93949353302, 199773.93949353302, 199773.93949353302, 199885.92712579132, 199997.91475804962, 200109.90239030792, 200109.90239030792, 200221.89002256622, 200221.89002256622, 200221.89002256622, 200333.87765482452, 200445.86528708282, 200557.85291934112, 200669.84055159942, 200781.82818385772, 200781.82818385772, 200781.82818385772, 200781.82818385772, 200781.82818385772, 200781.82818385772, 200781.82818385772, 200781.82818385772, 200781.82818385772, 201005.8034483743, 201005.8034483743, 201005.8034483743, 201117.7910806326, 201229.7787128909, 201341.7663451492, 201453.7539774075, 201453.7539774075, 201453.7539774075, 201565.7416096658, 201677.7292419241, 201677.7292419241, 201789.7168741824, 201789.7168741824, 201789.7168741824, 201789.7168741824, 201789.7168741824, 201901.7045064407, 201901.7045064407, 201901.7045064407, 201901.7045064407, 201901.7045064407, 202013.692138699, 202013.692138699, 202125.6797709573, 202125.6797709573, 202349.6550354739, 202349.6550354739, 202349.6550354739, 202349.6550354739, 202349.6550354739, 202349.6550354739, 202349.6550354739, 202349.6550354739, 202573.63029999047, 202573.63029999047, 202573.63029999047, 202573.63029999047, 202797.60556450707, 202797.60556450707, 202909.59319676537, 203021.58082902367, 203021.58082902367, 203021.58082902367, 203133.56846128198, 203133.56846128198, 203245.55609354028, 203245.55609354028, 203469.53135805688, 203805.49425483178, 203805.49425483178, 203917.48188709008, 204029.46951934835, 204029.46951934835, 204029.46951934835, 204029.46951934835, 204029.46951934835, 204029.46951934835, 204141.45715160665, 204141.45715160665, 204141.45715160665, 204141.45715160665, 204141.45715160665, 204141.45715160665, 204365.43241612325, 204365.43241612325, 204477.42004838155, 204589.40768063985, 204589.40768063985, 204589.40768063985, 204813.38294515645, 204813.38294515645, 204813.38294515645, 204813.38294515645, 204813.38294515645, 204813.38294515645, 204925.37057741475, 204925.37057741475, 204925.37057741475, 204925.37057741475, 205037.35820967305, 205037.35820967305, 205037.35820967305, 205037.35820967305, 205149.34584193135, 205261.33347418965, 205261.33347418965, 205261.33347418965, 205261.33347418965, 205261.33347418965, 205373.32110644795, 205373.32110644795, 205373.32110644795, 205373.32110644795, 205373.32110644795, 205709.28400322283, 205709.28400322283, 205709.28400322283, 205821.27163548113, 205933.25926773943, 205933.25926773943, 206157.23453225603, 206157.23453225603, 206157.23453225603, 206157.23453225603, 206157.23453225603, 206157.23453225603, 206157.23453225603, 206157.23453225603, 206157.23453225603, 206157.23453225603, 206157.23453225603, 206157.23453225603, 206157.23453225603, 206269.22216451433, 206381.20979677263, 206493.19742903093, 206605.18506128923, 206717.17269354753, 206717.17269354753, 206717.17269354753, 206829.16032580583, 206829.16032580583, 206829.16032580583, 206829.16032580583, 206829.16032580583, 207053.13559032243, 207165.1232225807, 207165.1232225807, 207277.110854839, 207277.110854839, 207389.0984870973, 207501.0861193556, 207501.0861193556, 207501.0861193556, 207501.0861193556, 207501.0861193556, 207725.0613838722, 207725.0613838722, 207837.0490161305, 207837.0490161305, 207837.0490161305, 207949.0366483888, 208173.0119129054, 208173.0119129054, 208508.9748096803, 208620.9624419386, 208620.9624419386, 208844.93770645518, 208844.93770645518, 208956.92533871348, 209180.90060323008, 209180.90060323008, 209180.90060323008, 209292.88823548838, 209628.85113226328, 209740.83876452158, 209740.83876452158, 209852.82639677988, 209964.81402903819, 209964.81402903819, 210188.7892935548, 210188.7892935548, 210188.7892935548, 210412.76455807136, 210412.76455807136, 210524.75219032966, 210636.73982258796, 210636.73982258796, 210636.73982258796, 210636.73982258796, 210636.73982258796, 210636.73982258796, 210636.73982258796, 210860.71508710456, 210972.70271936286, 210972.70271936286, 211084.69035162116, 211084.69035162116, 211196.67798387946, 211308.66561613776, 211308.66561613776, 211308.66561613776, 211420.65324839606, 211420.65324839606, 211532.64088065436, 211532.64088065436, 211532.64088065436, 211532.64088065436, 211756.61614517096, 211868.60377742923, 211868.60377742923, 211868.60377742923, 211980.59140968753, 211980.59140968753, 212204.56667420414, 212204.56667420414, 212428.54193872074, 212652.51720323734, 212652.51720323734, 212652.51720323734, 212652.51720323734, 212764.50483549564, 212876.49246775394, 212876.49246775394, 212988.48010001224, 213100.46773227054, 213100.46773227054, 213100.46773227054, 213324.4429967871, 213324.4429967871, 213324.4429967871, 213324.4429967871, 213324.4429967871, 213324.4429967871, 213324.4429967871, 213660.405893562, 213660.405893562, 213660.405893562, 213660.405893562, 213660.405893562, 213772.3935258203, 213772.3935258203, 213884.3811580786, 213884.3811580786, 213884.3811580786, 213996.3687903369, 214220.3440548535, 214220.3440548535, 214220.3440548535, 214220.3440548535, 214220.3440548535, 214220.3440548535, 214332.33168711181, 214332.33168711181, 214332.33168711181, 214444.31931937012, 214444.31931937012, 214444.31931937012, 214556.30695162842, 214556.30695162842, 214668.29458388672, 214892.2698484033, 215116.2451129199, 215228.2327451782, 215452.2080096948, 215452.2080096948, 215564.1956419531, 215564.1956419531, 215564.1956419531, 216012.1461709863, 216236.1214355029, 216236.1214355029, 216460.09670001947, 216460.09670001947, 216460.09670001947, 216460.09670001947, 216684.07196453607, 216684.07196453607, 216796.05959679437, 216908.04722905267, 216908.04722905267, 216908.04722905267, 216908.04722905267, 216908.04722905267, 217132.02249356927, 217132.02249356927, 217244.01012582757, 217355.99775808587, 217355.99775808587, 217355.99775808587, 217355.99775808587, 217467.98539034417, 217467.98539034417, 217579.97302260247, 217579.97302260247, 217803.94828711907, 218251.89881615224, 218251.89881615224, 218251.89881615224, 218251.89881615224, 218363.88644841054, 218475.87408066884, 218475.87408066884, 218475.87408066884, 218475.87408066884, 218475.87408066884, 218587.86171292714, 218587.86171292714, 218587.86171292714, 218699.84934518544, 218923.82460970205, 218923.82460970205, 219147.79987421865, 219147.79987421865, 219147.79987421865, 219147.79987421865, 219259.78750647695, 219371.77513873525, 219371.77513873525, 219595.75040325182, 219595.75040325182, 219819.72566776842, 219819.72566776842, 219931.71330002672, 219931.71330002672, 220043.70093228502, 220043.70093228502, 220379.66382905992, 220379.66382905992, 220491.65146131822, 220603.63909357652, 221051.58962260972, 221051.58962260972, 221275.5648871263, 221387.5525193846, 221499.5401516429, 221611.5277839012, 221611.5277839012, 221723.5154161595, 221835.5030484178, 221835.5030484178, 221835.5030484178, 221947.4906806761, 221947.4906806761, 222059.4783129344, 222283.453577451, 222283.453577451, 222283.453577451, 222395.4412097093, 222395.4412097093, 222395.4412097093, 222507.4288419676, 222507.4288419676, 222619.4164742259, 222731.40410648417, 222731.40410648417, 222843.39173874247, 223067.36700325907, 223403.32990003398, 223627.30516455058, 223627.30516455058, 223627.30516455058, 223627.30516455058, 223851.28042906718, 224075.25569358378, 224187.24332584205, 224187.24332584205, 224411.21859035865, 224523.20622261695, 224747.18148713355, 224859.16911939185, 225195.13201616675, 225643.08254519996, 225643.08254519996, 225643.08254519996, 225867.05780971653, 225867.05780971653, 225979.04544197483, 226091.03307423313, 226315.00833874973, 226315.00833874973, 226426.99597100803, 226650.97123552463, 226762.95886778293, 226874.94650004123, 226986.93413229953, 227098.92176455783, 227210.90939681613, 227546.872293591, 227658.8599258493, 227658.8599258493, 227658.8599258493, 227658.8599258493, 227770.8475581076, 227882.8351903659, 227882.8351903659, 227882.8351903659, 227994.8228226242, 228106.8104548825, 228554.7609839157, 228554.7609839157, 228554.7609839157, 228666.748616174, 228778.7362484323, 228778.7362484323, 229002.71151294888, 229002.71151294888, 229114.69914520718, 229226.68677746548, 229338.67440972378, 229338.67440972378, 229450.66204198208, 229674.63730649868, 229786.62493875698, 229786.62493875698, 229898.61257101528, 230346.5631000485, 230346.5631000485, 230346.5631000485, 230682.52599682336, 230682.52599682336, 230794.51362908166, 230794.51362908166, 230906.50126133996, 230906.50126133996, 231018.48889359826, 231018.48889359826, 231130.47652585656, 231242.46415811486, 231354.45179037316, 231354.45179037316, 231466.43942263146, 231578.42705488976, 231914.38995166466, 231914.38995166466, 231914.38995166466, 232026.37758392293, 232026.37758392293, 232026.37758392293, 232138.36521618124, 232138.36521618124, 232250.35284843954, 232362.34048069784, 232362.34048069784, 232586.31574521444, 232586.31574521444, 232586.31574521444, 232586.31574521444, 232810.29100973104, 232922.27864198934, 233034.26627424764, 233034.26627424764, 233146.25390650594, 233146.25390650594, 233258.24153876424, 233370.22917102254, 233594.2044355391, 233930.167332314, 233930.167332314, 234042.1549645723, 234042.1549645723, 234154.1425968306, 234154.1425968306, 234154.1425968306, 234378.11786134721, 234490.10549360552, 234490.10549360552, 234602.09312586382, 234602.09312586382, 234714.08075812212, 234826.06839038042, 235050.043654897, 235050.043654897, 235162.0312871553, 235274.0189194136, 235386.0065516719, 235609.9818161885, 235609.9818161885, 235721.9694484468, 235721.9694484468, 235833.9570807051, 236057.9323452217, 236057.9323452217, 236617.87050651317, 236617.87050651317, 236617.87050651317, 236841.84577102977, 237289.79630006297, 237401.78393232127, 237401.78393232127, 237513.77156457957, 237625.75919683787, 237625.75919683787, 238073.70972587107, 238185.69735812934, 238185.69735812934, 238185.69735812934, 238409.67262264594, 238633.64788716254, 238745.63551942084, 238857.62315167914, 238857.62315167914, 238857.62315167914, 238857.62315167914, 238969.61078393745, 239081.59841619575, 239753.52420974552, 239977.49947426212, 240089.48710652042, 240201.47473877872, 240425.45000329532, 240425.45000329532, 240537.43763555362, 240649.42526781192, 240649.42526781192, 240761.41290007022, 240985.38816458682, 241321.3510613617, 241321.3510613617, 241545.3263258783, 241769.3015903949, 241769.3015903949, 241769.3015903949, 241993.2768549115, 241993.2768549115, 242105.2644871698, 242217.2521194281, 242441.2273839447, 242665.2026484613, 243001.16554523617, 243113.15317749447, 243337.12844201108, 243337.12844201108, 243449.11607426938, 243449.11607426938, 243561.10370652768, 243673.09133878598, 243785.07897104428, 243785.07897104428, 244121.04186781918, 244233.02950007748, 244345.01713233575, 244568.99239685235, 244792.96766136895, 245016.94292588555, 245352.90582266045, 245576.88108717705, 245576.88108717705, 245800.85635169366, 246024.83161621023, 246024.83161621023, 246360.79451298513, 246472.78214524343, 246696.75740976003, 246696.75740976003, 246696.75740976003, 246808.74504201833, 247032.72030653493, 247144.70793879323, 247480.6708355681, 247480.6708355681, 247480.6708355681, 247592.6584678264, 247592.6584678264, 247816.633732343, 248264.5842613762, 248712.5347904094, 248936.510054926, 248936.510054926, 249160.48531944258, 249272.47295170088, 249720.42348073408, 249944.39874525068, 250168.37400976729, 250280.3616420256, 250280.3616420256, 250616.32453880046, 250728.31217105876, 250840.29980331706, 250840.29980331706, 250952.28743557536, 251400.23796460856, 251512.22559686686, 251624.21322912516, 251848.18849364176, 252072.16375815833, 252296.13902267494, 252296.13902267494, 252520.11428719154, 252744.08955170814, 253304.02771299964, 253639.9906097745, 253751.9782420328, 253863.9658742911, 254087.9411388077, 254199.928771066, 254311.9164033243, 254647.87930009922, 254647.87930009922, 254647.87930009922, 255319.805093649, 255431.7927259073, 255543.7803581656, 255879.7432549405, 255879.7432549405, 256439.681416232, 256775.64431300687, 257111.60720978177, 257223.59484204007, 257223.59484204007, 258119.49590010647, 258567.44642913964, 258679.43406139794, 258791.42169365624, 258903.40932591454, 259015.39695817285, 259015.39695817285, 259015.39695817285, 259127.38459043115, 259239.37222268945, 259687.32275172265, 259799.31038398095, 260135.27328075582, 260359.24854527242, 260583.22380978902, 260919.18670656392, 261591.1125001137, 261703.100132372, 261815.0877646303, 262151.0506614052, 262263.0382936635, 262375.0259259218, 262599.0011904384, 262710.98882269673, 262822.976454955, 262822.976454955, 262822.976454955, 263046.9517194716, 263158.9393517299, 263494.9022485048, 263830.8651452797, 264614.77857108775, 265286.70436463755, 265286.70436463755, 265622.6672614125, 265734.65489367075, 265958.63015818736, 266070.6177904456, 266070.6177904456, 266070.6177904456, 266182.6054227039, 266518.5683194788, 266518.5683194788, 266630.5559517371, 266854.53121625376, 267302.48174528696, 267526.4570098035, 267862.4199065784, 268310.3704356116, 268534.34570012824, 268758.3209646448, 268870.3085969031, 269094.2838614197, 269094.2838614197, 269094.2838614197, 269206.271493678, 269206.271493678, 269542.23439045285, 269654.2220227112, 269766.2096549695, 270102.1725517444, 271558.01177110226, 271781.98703561886, 271893.9746678772, 272229.93756465206, 272453.9128291686, 272453.9128291686, 272677.88809368527, 272677.88809368527, 272901.8633582018, 273237.82625497674, 273461.80151949334, 273685.77678400994, 273797.7644162682, 273797.7644162682, 274021.7396807848, 274357.70257755974, 274469.690209818, 274693.6654743346, 274693.6654743346, 275141.6160033678, 275253.60363562615, 275701.55416465935, 275813.54179691756, 276149.50469369243, 276709.44285498396, 276709.44285498396, 276709.44285498396, 277157.39338401717, 277157.39338401717, 277381.3686485338, 277493.35628079204, 277493.35628079204, 278277.2697066001, 278389.25733885844, 278501.2449711168, 278725.2202356333, 278837.20786789164, 279173.1707646665, 279733.10892595805, 279733.10892595805, 280181.05945499125, 280517.0223517661, 280517.0223517661, 280629.00998402445, 281188.94814531587, 281412.9234098325, 281636.89867434907, 281748.8863066074, 282644.7873646738, 282980.7502614487, 283316.71315822355, 283428.7007904819, 283876.6513195151, 284996.527642098, 285780.4410679061, 286228.3915969393, 286676.3421259725, 286788.32975823083, 286788.32975823083, 287012.3050227474, 287236.28028726403, 287236.28028726403, 287236.28028726403, 287460.2555517806, 288244.16897758876, 288356.156609847, 288580.13187436364, 288804.1071388802, 289028.08240339684, 289252.0576679134, 289588.02056468825, 289588.02056468825, 289811.9958292049, 290371.9339904963, 290595.909255013, 291043.8597840462, 291043.8597840462, 291491.8103130794, 291715.78557759593, 291939.7608421126, 292051.7484743708, 292051.7484743708, 292275.72373888746, 292499.699003404, 292611.68663566234, 292723.67426792067, 292947.6495324372, 293059.63716469554, 294179.5134872785, 294739.45164857, 294851.43928082834, 294851.43928082834, 294851.43928082834, 294963.42691308656, 295075.4145453449, 295299.38980986155, 295523.3650743781, 295523.3650743781, 296083.3032356696, 296867.2166614777, 297203.17955825257, 297539.14245502744, 298211.0682485773, 298323.0558808355, 298435.04351309384, 298659.0187776105, 298771.0064098687, 299218.9569389019, 300898.7714227764, 301122.74668729305, 301794.6724808428, 302578.5859066509, 302914.54880342574, 303362.49933245894, 303698.46222923393, 303922.4374937505, 304930.3261840752, 305154.30144859175, 305378.2767131084, 306050.20250665816, 306274.1777711747, 306498.15303569136, 307170.0788292411, 307506.041726016, 307618.0293582743, 308289.95515182416, 308289.95515182416, 308289.95515182416, 308289.95515182416, 308625.91804859904, 308961.8809453739, 308961.8809453739, 309297.8438421488, 309409.8314744071, 309857.7820034403, 309857.7820034403, 310081.75726795685, 311425.60885505646, 311985.547016348, 312097.5346486062, 313105.42333893094, 313553.37386796414, 313553.37386796414, 313889.336764739, 313889.336764739, 314561.2625582889, 314561.2625582889, 314785.2378228054, 315457.16361635516, 316465.0523066799, 316689.02757119644, 317920.8915260378, 317920.8915260378, 318032.87915829604, 318144.86679055437, 318368.8420550709, 320384.6194357204, 321504.4957583033, 323072.3226099195, 323408.28550669434, 324416.1741970191, 324640.1494615356, 324752.13709379395, 324752.13709379395, 324752.13709379395, 325088.0999905688, 325312.0752550855, 325536.050519602, 325648.03815186035, 325984.0010486352, 326095.98868089356, 327327.85263573483, 327775.80316476803, 328671.70422283444, 329119.65475186764, 329343.6300163842, 330687.4816034838, 332367.29608735826, 333823.1353067161, 334271.0858357493, 334271.0858357493, 337182.76427446504, 342334.1953583468, 342446.1829906051, 343678.0469454464, 346141.77485512896, 349165.44092610304, 357340.53808095877, 357788.48860999197, 358236.43913902517, 358236.43913902517, 361148.1175777409, 364283.77128097333, 370331.1034229214, 373466.7571261538, 374138.68291970354, 375258.5592422865, 379850.0521648767, 392280.6793455479, 392840.61750683933, 398663.97438427084, 403815.4054681526, 404599.3188939607, 416693.9831778569, 418821.74819076457, 423861.191642388, 495981.2268167321, 513899.2479780598, 536296.7744297195, 583219.5923459465, 644476.8271912357], \"yaxis\": \"y\"}],\n",
              "                        {\"legend\": {\"tracegroupgap\": 0}, \"margin\": {\"t\": 60}, \"template\": {\"data\": {\"bar\": [{\"error_x\": {\"color\": \"#2a3f5f\"}, \"error_y\": {\"color\": \"#2a3f5f\"}, \"marker\": {\"line\": {\"color\": \"#E5ECF6\", \"width\": 0.5}}, \"type\": \"bar\"}], \"barpolar\": [{\"marker\": {\"line\": {\"color\": \"#E5ECF6\", \"width\": 0.5}}, \"type\": \"barpolar\"}], \"carpet\": [{\"aaxis\": {\"endlinecolor\": \"#2a3f5f\", \"gridcolor\": \"white\", \"linecolor\": \"white\", \"minorgridcolor\": \"white\", \"startlinecolor\": \"#2a3f5f\"}, \"baxis\": {\"endlinecolor\": \"#2a3f5f\", \"gridcolor\": \"white\", \"linecolor\": \"white\", \"minorgridcolor\": \"white\", \"startlinecolor\": \"#2a3f5f\"}, \"type\": \"carpet\"}], \"choropleth\": [{\"colorbar\": {\"outlinewidth\": 0, \"ticks\": \"\"}, \"type\": \"choropleth\"}], \"contour\": [{\"colorbar\": {\"outlinewidth\": 0, \"ticks\": \"\"}, \"colorscale\": [[0.0, \"#0d0887\"], [0.1111111111111111, \"#46039f\"], [0.2222222222222222, \"#7201a8\"], [0.3333333333333333, \"#9c179e\"], [0.4444444444444444, \"#bd3786\"], [0.5555555555555556, \"#d8576b\"], [0.6666666666666666, \"#ed7953\"], [0.7777777777777778, \"#fb9f3a\"], [0.8888888888888888, \"#fdca26\"], [1.0, \"#f0f921\"]], \"type\": \"contour\"}], \"contourcarpet\": [{\"colorbar\": {\"outlinewidth\": 0, \"ticks\": \"\"}, \"type\": \"contourcarpet\"}], \"heatmap\": [{\"colorbar\": {\"outlinewidth\": 0, \"ticks\": \"\"}, \"colorscale\": [[0.0, \"#0d0887\"], [0.1111111111111111, \"#46039f\"], [0.2222222222222222, \"#7201a8\"], [0.3333333333333333, \"#9c179e\"], [0.4444444444444444, \"#bd3786\"], [0.5555555555555556, \"#d8576b\"], [0.6666666666666666, \"#ed7953\"], [0.7777777777777778, \"#fb9f3a\"], [0.8888888888888888, \"#fdca26\"], [1.0, \"#f0f921\"]], \"type\": \"heatmap\"}], \"heatmapgl\": [{\"colorbar\": {\"outlinewidth\": 0, \"ticks\": \"\"}, \"colorscale\": [[0.0, \"#0d0887\"], [0.1111111111111111, \"#46039f\"], [0.2222222222222222, \"#7201a8\"], [0.3333333333333333, \"#9c179e\"], [0.4444444444444444, \"#bd3786\"], [0.5555555555555556, \"#d8576b\"], [0.6666666666666666, \"#ed7953\"], [0.7777777777777778, \"#fb9f3a\"], [0.8888888888888888, \"#fdca26\"], [1.0, \"#f0f921\"]], \"type\": \"heatmapgl\"}], \"histogram\": [{\"marker\": {\"colorbar\": {\"outlinewidth\": 0, \"ticks\": \"\"}}, \"type\": \"histogram\"}], \"histogram2d\": [{\"colorbar\": {\"outlinewidth\": 0, \"ticks\": \"\"}, \"colorscale\": [[0.0, \"#0d0887\"], [0.1111111111111111, \"#46039f\"], [0.2222222222222222, \"#7201a8\"], [0.3333333333333333, \"#9c179e\"], [0.4444444444444444, \"#bd3786\"], [0.5555555555555556, \"#d8576b\"], [0.6666666666666666, \"#ed7953\"], [0.7777777777777778, \"#fb9f3a\"], [0.8888888888888888, \"#fdca26\"], [1.0, \"#f0f921\"]], \"type\": \"histogram2d\"}], \"histogram2dcontour\": [{\"colorbar\": {\"outlinewidth\": 0, \"ticks\": \"\"}, \"colorscale\": [[0.0, \"#0d0887\"], [0.1111111111111111, \"#46039f\"], [0.2222222222222222, \"#7201a8\"], [0.3333333333333333, \"#9c179e\"], [0.4444444444444444, \"#bd3786\"], [0.5555555555555556, \"#d8576b\"], [0.6666666666666666, \"#ed7953\"], [0.7777777777777778, \"#fb9f3a\"], [0.8888888888888888, \"#fdca26\"], [1.0, \"#f0f921\"]], \"type\": \"histogram2dcontour\"}], \"mesh3d\": [{\"colorbar\": {\"outlinewidth\": 0, \"ticks\": \"\"}, \"type\": \"mesh3d\"}], \"parcoords\": [{\"line\": {\"colorbar\": {\"outlinewidth\": 0, \"ticks\": \"\"}}, \"type\": \"parcoords\"}], \"pie\": [{\"automargin\": true, \"type\": \"pie\"}], \"scatter\": [{\"marker\": {\"colorbar\": {\"outlinewidth\": 0, \"ticks\": \"\"}}, \"type\": \"scatter\"}], \"scatter3d\": [{\"line\": {\"colorbar\": {\"outlinewidth\": 0, \"ticks\": \"\"}}, \"marker\": {\"colorbar\": {\"outlinewidth\": 0, \"ticks\": \"\"}}, \"type\": \"scatter3d\"}], \"scattercarpet\": [{\"marker\": {\"colorbar\": {\"outlinewidth\": 0, \"ticks\": \"\"}}, \"type\": \"scattercarpet\"}], \"scattergeo\": [{\"marker\": {\"colorbar\": {\"outlinewidth\": 0, \"ticks\": \"\"}}, \"type\": \"scattergeo\"}], \"scattergl\": [{\"marker\": {\"colorbar\": {\"outlinewidth\": 0, \"ticks\": \"\"}}, \"type\": \"scattergl\"}], \"scattermapbox\": [{\"marker\": {\"colorbar\": {\"outlinewidth\": 0, \"ticks\": \"\"}}, \"type\": \"scattermapbox\"}], \"scatterpolar\": [{\"marker\": {\"colorbar\": {\"outlinewidth\": 0, \"ticks\": \"\"}}, \"type\": \"scatterpolar\"}], \"scatterpolargl\": [{\"marker\": {\"colorbar\": {\"outlinewidth\": 0, \"ticks\": \"\"}}, \"type\": \"scatterpolargl\"}], \"scatterternary\": [{\"marker\": {\"colorbar\": {\"outlinewidth\": 0, \"ticks\": \"\"}}, \"type\": \"scatterternary\"}], \"surface\": [{\"colorbar\": {\"outlinewidth\": 0, \"ticks\": \"\"}, \"colorscale\": [[0.0, \"#0d0887\"], [0.1111111111111111, \"#46039f\"], [0.2222222222222222, \"#7201a8\"], [0.3333333333333333, \"#9c179e\"], [0.4444444444444444, \"#bd3786\"], [0.5555555555555556, \"#d8576b\"], [0.6666666666666666, \"#ed7953\"], [0.7777777777777778, \"#fb9f3a\"], [0.8888888888888888, \"#fdca26\"], [1.0, \"#f0f921\"]], \"type\": \"surface\"}], \"table\": [{\"cells\": {\"fill\": {\"color\": \"#EBF0F8\"}, \"line\": {\"color\": \"white\"}}, \"header\": {\"fill\": {\"color\": \"#C8D4E3\"}, \"line\": {\"color\": \"white\"}}, \"type\": \"table\"}]}, \"layout\": {\"annotationdefaults\": {\"arrowcolor\": \"#2a3f5f\", \"arrowhead\": 0, \"arrowwidth\": 1}, \"coloraxis\": {\"colorbar\": {\"outlinewidth\": 0, \"ticks\": \"\"}}, \"colorscale\": {\"diverging\": [[0, \"#8e0152\"], [0.1, \"#c51b7d\"], [0.2, \"#de77ae\"], [0.3, \"#f1b6da\"], [0.4, \"#fde0ef\"], [0.5, \"#f7f7f7\"], [0.6, \"#e6f5d0\"], [0.7, \"#b8e186\"], [0.8, \"#7fbc41\"], [0.9, \"#4d9221\"], [1, \"#276419\"]], \"sequential\": [[0.0, \"#0d0887\"], [0.1111111111111111, \"#46039f\"], [0.2222222222222222, \"#7201a8\"], [0.3333333333333333, \"#9c179e\"], [0.4444444444444444, \"#bd3786\"], [0.5555555555555556, \"#d8576b\"], [0.6666666666666666, \"#ed7953\"], [0.7777777777777778, \"#fb9f3a\"], [0.8888888888888888, \"#fdca26\"], [1.0, \"#f0f921\"]], \"sequentialminus\": [[0.0, \"#0d0887\"], [0.1111111111111111, \"#46039f\"], [0.2222222222222222, \"#7201a8\"], [0.3333333333333333, \"#9c179e\"], [0.4444444444444444, \"#bd3786\"], [0.5555555555555556, \"#d8576b\"], [0.6666666666666666, \"#ed7953\"], [0.7777777777777778, \"#fb9f3a\"], [0.8888888888888888, \"#fdca26\"], [1.0, \"#f0f921\"]]}, \"colorway\": [\"#636efa\", \"#EF553B\", \"#00cc96\", \"#ab63fa\", \"#FFA15A\", \"#19d3f3\", \"#FF6692\", \"#B6E880\", \"#FF97FF\", \"#FECB52\"], \"font\": {\"color\": \"#2a3f5f\"}, \"geo\": {\"bgcolor\": \"white\", \"lakecolor\": \"white\", \"landcolor\": \"#E5ECF6\", \"showlakes\": true, \"showland\": true, \"subunitcolor\": \"white\"}, \"hoverlabel\": {\"align\": \"left\"}, \"hovermode\": \"closest\", \"mapbox\": {\"style\": \"light\"}, \"paper_bgcolor\": \"white\", \"plot_bgcolor\": \"#E5ECF6\", \"polar\": {\"angularaxis\": {\"gridcolor\": \"white\", \"linecolor\": \"white\", \"ticks\": \"\"}, \"bgcolor\": \"#E5ECF6\", \"radialaxis\": {\"gridcolor\": \"white\", \"linecolor\": \"white\", \"ticks\": \"\"}}, \"scene\": {\"xaxis\": {\"backgroundcolor\": \"#E5ECF6\", \"gridcolor\": \"white\", \"gridwidth\": 2, \"linecolor\": \"white\", \"showbackground\": true, \"ticks\": \"\", \"zerolinecolor\": \"white\"}, \"yaxis\": {\"backgroundcolor\": \"#E5ECF6\", \"gridcolor\": \"white\", \"gridwidth\": 2, \"linecolor\": \"white\", \"showbackground\": true, \"ticks\": \"\", \"zerolinecolor\": \"white\"}, \"zaxis\": {\"backgroundcolor\": \"#E5ECF6\", \"gridcolor\": \"white\", \"gridwidth\": 2, \"linecolor\": \"white\", \"showbackground\": true, \"ticks\": \"\", \"zerolinecolor\": \"white\"}}, \"shapedefaults\": {\"line\": {\"color\": \"#2a3f5f\"}}, \"ternary\": {\"aaxis\": {\"gridcolor\": \"white\", \"linecolor\": \"white\", \"ticks\": \"\"}, \"baxis\": {\"gridcolor\": \"white\", \"linecolor\": \"white\", \"ticks\": \"\"}, \"bgcolor\": \"#E5ECF6\", \"caxis\": {\"gridcolor\": \"white\", \"linecolor\": \"white\", \"ticks\": \"\"}}, \"title\": {\"x\": 0.05}, \"xaxis\": {\"automargin\": true, \"gridcolor\": \"white\", \"linecolor\": \"white\", \"ticks\": \"\", \"title\": {\"standoff\": 15}, \"zerolinecolor\": \"white\", \"zerolinewidth\": 2}, \"yaxis\": {\"automargin\": true, \"gridcolor\": \"white\", \"linecolor\": \"white\", \"ticks\": \"\", \"title\": {\"standoff\": 15}, \"zerolinecolor\": \"white\", \"zerolinewidth\": 2}}}, \"xaxis\": {\"anchor\": \"y\", \"domain\": [0.0, 1.0], \"title\": {\"text\": \"Gr_Liv_Area\"}}, \"yaxis\": {\"anchor\": \"x\", \"domain\": [0.0, 1.0], \"title\": {\"text\": \"SalePrice\"}}},\n",
              "                        {\"responsive\": true}\n",
              "                    ).then(function(){\n",
              "                            \n",
              "var gd = document.getElementById('d6f61444-bf9d-44c8-a4a7-80ffeb71f3b8');\n",
              "var x = new MutationObserver(function (mutations, observer) {{\n",
              "        var display = window.getComputedStyle(gd).display;\n",
              "        if (!display || display === 'none') {{\n",
              "            console.log([gd, 'removed!']);\n",
              "            Plotly.purge(gd);\n",
              "            observer.disconnect();\n",
              "        }}\n",
              "}});\n",
              "\n",
              "// Listen for the removal of the full notebook cells\n",
              "var notebookContainer = gd.closest('#notebook-container');\n",
              "if (notebookContainer) {{\n",
              "    x.observe(notebookContainer, {childList: true});\n",
              "}}\n",
              "\n",
              "// Listen for the clearing of the current output cell\n",
              "var outputEl = gd.closest('.output');\n",
              "if (outputEl) {{\n",
              "    x.observe(outputEl, {childList: true});\n",
              "}}\n",
              "\n",
              "                        })\n",
              "                };\n",
              "                \n",
              "            </script>\n",
              "        </div>\n",
              "</body>\n",
              "</html>"
            ]
          },
          "metadata": {
            "tags": []
          }
        }
      ]
    },
    {
      "cell_type": "markdown",
      "metadata": {
        "colab_type": "text",
        "id": "CowG-cgZ5ZrB"
      },
      "source": [
        "## 2.1. Begin with baselines\n",
        "\n",
        "What is the Mean Absolute Error and R^2 score for a mean baseline? (You can get these estimated scores using all your data, before splitting it.)"
      ]
    },
    {
      "cell_type": "code",
      "metadata": {
        "colab_type": "code",
        "id": "TbahVr-j5ZLs",
        "colab": {}
      },
      "source": [
        "###To find baseline, we start with the mean of the target, which is 'SalePrice' \n",
        "target = 'SalePrice'"
      ],
      "execution_count": 37,
      "outputs": []
    },
    {
      "cell_type": "code",
      "metadata": {
        "id": "zg6oOXq7wcG6",
        "colab_type": "code",
        "colab": {
          "base_uri": "https://localhost:8080/",
          "height": 34
        },
        "outputId": "ddbc2b89-4eef-4a98-ed80-1bb1f875d71c"
      },
      "source": [
        "homes['SalePrice'].mean()"
      ],
      "execution_count": 38,
      "outputs": [
        {
          "output_type": "execute_result",
          "data": {
            "text/plain": [
              "180383.689738292"
            ]
          },
          "metadata": {
            "tags": []
          },
          "execution_count": 38
        }
      ]
    },
    {
      "cell_type": "markdown",
      "metadata": {
        "id": "TCcgOGlGwlCH",
        "colab_type": "text"
      },
      "source": [
        "We see the mean sale price is 180383"
      ]
    },
    {
      "cell_type": "markdown",
      "metadata": {
        "colab_type": "text",
        "id": "yqeiq1wvyrTq"
      },
      "source": [
        "## 2.2. Do train/validate/test split\n",
        "\n",
        "Train on houses sold in the years 2006 - 2008. (1,920 rows)\n",
        "\n",
        "Validate on house sold in 2009. (644 rows)\n",
        "\n",
        "Test on houses sold in 2010. (340 rows)"
      ]
    },
    {
      "cell_type": "code",
      "metadata": {
        "id": "vhkh1V4VNsCO",
        "colab_type": "code",
        "colab": {}
      },
      "source": [
        "train = homes[(homes['Yr_Sold'] >= 2006) & (homes['Yr_Sold']<= 2008)].reset_index()\n",
        "val   = homes[homes['Yr_Sold'] == 2009].reset_index()\n",
        "test  = homes[homes['Yr_Sold'] == 2010].reset_index()"
      ],
      "execution_count": 39,
      "outputs": []
    },
    {
      "cell_type": "code",
      "metadata": {
        "id": "4YJ-lbmUNyC9",
        "colab_type": "code",
        "colab": {
          "base_uri": "https://localhost:8080/",
          "height": 68
        },
        "outputId": "a03e2857-4d46-4e2e-f3b3-542fde39863d"
      },
      "source": [
        "###Validating shapes of data\n",
        "print(train.shape)\n",
        "print(val.shape)\n",
        "print(test.shape)"
      ],
      "execution_count": 40,
      "outputs": [
        {
          "output_type": "stream",
          "text": [
            "(1920, 48)\n",
            "(644, 48)\n",
            "(340, 48)\n"
          ],
          "name": "stdout"
        }
      ]
    },
    {
      "cell_type": "markdown",
      "metadata": {
        "colab_type": "text",
        "id": "hk1bYDJy6txq"
      },
      "source": [
        "## 2.3. Arrange data into X features matrix and y target vector\n",
        "\n",
        "Select at least one numeric feature and at least one categorical feature.\n",
        "\n",
        "Otherwise, you may choose whichever features and however many you want."
      ]
    },
    {
      "cell_type": "code",
      "metadata": {
        "colab_type": "code",
        "id": "JQf9iwzf_uWh",
        "colab": {
          "base_uri": "https://localhost:8080/",
          "height": 34
        },
        "outputId": "50ee8dd9-1e68-42f9-d748-a12b7668aa83"
      },
      "source": [
        "###Define features and target\n",
        "features = ['Overall_Qual','Gr_Liv_Area','1st_Flr_SF','Year_Built','Full_Bath',         \n",
        "            'TotRms_AbvGrd','House_Style',\n",
        "            'Year_Built','Lot_Area','Gr_Liv_Area',] ### < - - - Features were found through corr and the dict at the bottom\n",
        "target = 'SalePrice'\n",
        "\n",
        "X_train = train[features]\n",
        "y_train = train[target]\n",
        "X_val = val[features]\n",
        "y_val = val[target]\n",
        "X_test = test[features]\n",
        "y_test = test[target]\n",
        "\n",
        "X_train.shape, y_train.shape, X_val.shape, y_val.shape"
      ],
      "execution_count": 67,
      "outputs": [
        {
          "output_type": "execute_result",
          "data": {
            "text/plain": [
              "((1920, 10), (1920,), (644, 10), (644,))"
            ]
          },
          "metadata": {
            "tags": []
          },
          "execution_count": 67
        }
      ]
    },
    {
      "cell_type": "markdown",
      "metadata": {
        "colab_type": "text",
        "id": "zDT-gSl_-Gwh"
      },
      "source": [
        "## 2.4. Do one-hot encoding\n",
        "\n",
        "Encode your categorical feature(s)."
      ]
    },
    {
      "cell_type": "code",
      "metadata": {
        "id": "FZo67XJp6vkG",
        "colab_type": "code",
        "colab": {}
      },
      "source": [
        "import category_encoders as ce\n",
        "from sklearn.preprocessing import StandardScaler"
      ],
      "execution_count": 42,
      "outputs": []
    },
    {
      "cell_type": "code",
      "metadata": {
        "id": "BFyoid24HIf5",
        "colab_type": "code",
        "colab": {}
      },
      "source": [
        "def dummy_getter(df,columns_dummy):\n",
        "  dummy = pd.get_dummies(df, columns=columns_dummy)\n",
        "  return dummy"
      ],
      "execution_count": 43,
      "outputs": []
    },
    {
      "cell_type": "code",
      "metadata": {
        "id": "diE8h64wHnM3",
        "colab_type": "code",
        "colab": {}
      },
      "source": [
        "cat_features = ['House_Style']"
      ],
      "execution_count": 44,
      "outputs": []
    },
    {
      "cell_type": "code",
      "metadata": {
        "id": "gC_KEalmFFfj",
        "colab_type": "code",
        "colab": {
          "base_uri": "https://localhost:8080/",
          "height": 224
        },
        "outputId": "241236ec-99a4-46dc-e594-d787bfb06a5b"
      },
      "source": [
        "X_train_encoded = dummy_getter(X_train,cat_features)\n",
        "X_val_encoded   = dummy_getter(X_val,cat_features)\n",
        "X_test_encoded = dummy_getter(X_test, cat_features)\n",
        "X_train_encoded.head()"
      ],
      "execution_count": 69,
      "outputs": [
        {
          "output_type": "execute_result",
          "data": {
            "text/html": [
              "<div>\n",
              "<style scoped>\n",
              "    .dataframe tbody tr th:only-of-type {\n",
              "        vertical-align: middle;\n",
              "    }\n",
              "\n",
              "    .dataframe tbody tr th {\n",
              "        vertical-align: top;\n",
              "    }\n",
              "\n",
              "    .dataframe thead th {\n",
              "        text-align: right;\n",
              "    }\n",
              "</style>\n",
              "<table border=\"1\" class=\"dataframe\">\n",
              "  <thead>\n",
              "    <tr style=\"text-align: right;\">\n",
              "      <th></th>\n",
              "      <th>Overall_Qual</th>\n",
              "      <th>Gr_Liv_Area</th>\n",
              "      <th>1st_Flr_SF</th>\n",
              "      <th>Year_Built</th>\n",
              "      <th>Full_Bath</th>\n",
              "      <th>TotRms_AbvGrd</th>\n",
              "      <th>Year_Built</th>\n",
              "      <th>Lot_Area</th>\n",
              "      <th>Gr_Liv_Area</th>\n",
              "      <th>House_Style_1.5Fin</th>\n",
              "      <th>House_Style_1.5Unf</th>\n",
              "      <th>House_Style_1Story</th>\n",
              "      <th>House_Style_2.5Fin</th>\n",
              "      <th>House_Style_2.5Unf</th>\n",
              "      <th>House_Style_2Story</th>\n",
              "      <th>House_Style_SFoyer</th>\n",
              "      <th>House_Style_SLvl</th>\n",
              "    </tr>\n",
              "  </thead>\n",
              "  <tbody>\n",
              "    <tr>\n",
              "      <th>0</th>\n",
              "      <td>6</td>\n",
              "      <td>1414</td>\n",
              "      <td>1414</td>\n",
              "      <td>1958</td>\n",
              "      <td>1</td>\n",
              "      <td>6</td>\n",
              "      <td>1958</td>\n",
              "      <td>11029</td>\n",
              "      <td>1414</td>\n",
              "      <td>0</td>\n",
              "      <td>0</td>\n",
              "      <td>1</td>\n",
              "      <td>0</td>\n",
              "      <td>0</td>\n",
              "      <td>0</td>\n",
              "      <td>0</td>\n",
              "      <td>0</td>\n",
              "    </tr>\n",
              "    <tr>\n",
              "      <th>1</th>\n",
              "      <td>6</td>\n",
              "      <td>2117</td>\n",
              "      <td>2117</td>\n",
              "      <td>1970</td>\n",
              "      <td>2</td>\n",
              "      <td>7</td>\n",
              "      <td>1970</td>\n",
              "      <td>12925</td>\n",
              "      <td>2117</td>\n",
              "      <td>0</td>\n",
              "      <td>0</td>\n",
              "      <td>1</td>\n",
              "      <td>0</td>\n",
              "      <td>0</td>\n",
              "      <td>0</td>\n",
              "      <td>0</td>\n",
              "      <td>0</td>\n",
              "    </tr>\n",
              "    <tr>\n",
              "      <th>2</th>\n",
              "      <td>6</td>\n",
              "      <td>2112</td>\n",
              "      <td>1092</td>\n",
              "      <td>1969</td>\n",
              "      <td>2</td>\n",
              "      <td>9</td>\n",
              "      <td>1969</td>\n",
              "      <td>11075</td>\n",
              "      <td>2112</td>\n",
              "      <td>0</td>\n",
              "      <td>0</td>\n",
              "      <td>0</td>\n",
              "      <td>0</td>\n",
              "      <td>0</td>\n",
              "      <td>1</td>\n",
              "      <td>0</td>\n",
              "      <td>0</td>\n",
              "    </tr>\n",
              "    <tr>\n",
              "      <th>3</th>\n",
              "      <td>6</td>\n",
              "      <td>1604</td>\n",
              "      <td>926</td>\n",
              "      <td>1997</td>\n",
              "      <td>2</td>\n",
              "      <td>7</td>\n",
              "      <td>1997</td>\n",
              "      <td>8702</td>\n",
              "      <td>1604</td>\n",
              "      <td>0</td>\n",
              "      <td>0</td>\n",
              "      <td>0</td>\n",
              "      <td>0</td>\n",
              "      <td>0</td>\n",
              "      <td>1</td>\n",
              "      <td>0</td>\n",
              "      <td>0</td>\n",
              "    </tr>\n",
              "    <tr>\n",
              "      <th>4</th>\n",
              "      <td>6</td>\n",
              "      <td>1470</td>\n",
              "      <td>680</td>\n",
              "      <td>1995</td>\n",
              "      <td>2</td>\n",
              "      <td>7</td>\n",
              "      <td>1995</td>\n",
              "      <td>8139</td>\n",
              "      <td>1470</td>\n",
              "      <td>0</td>\n",
              "      <td>0</td>\n",
              "      <td>0</td>\n",
              "      <td>0</td>\n",
              "      <td>0</td>\n",
              "      <td>1</td>\n",
              "      <td>0</td>\n",
              "      <td>0</td>\n",
              "    </tr>\n",
              "  </tbody>\n",
              "</table>\n",
              "</div>"
            ],
            "text/plain": [
              "   Overall_Qual  Gr_Liv_Area  ...  House_Style_SFoyer  House_Style_SLvl\n",
              "0             6         1414  ...                   0                 0\n",
              "1             6         2117  ...                   0                 0\n",
              "2             6         2112  ...                   0                 0\n",
              "3             6         1604  ...                   0                 0\n",
              "4             6         1470  ...                   0                 0\n",
              "\n",
              "[5 rows x 17 columns]"
            ]
          },
          "metadata": {
            "tags": []
          },
          "execution_count": 69
        }
      ]
    },
    {
      "cell_type": "markdown",
      "metadata": {
        "colab_type": "text",
        "id": "2ZceruUx-Vs-"
      },
      "source": [
        "## 2.5. Use scikit-learn to fit a linear regression or ridge regression model\n",
        "Fit your model."
      ]
    },
    {
      "cell_type": "code",
      "metadata": {
        "colab_type": "code",
        "id": "Kvy4Z0xv7eJF",
        "colab": {}
      },
      "source": [
        "from sklearn.linear_model import LinearRegression"
      ],
      "execution_count": 47,
      "outputs": []
    },
    {
      "cell_type": "code",
      "metadata": {
        "id": "qc183K5yTxvC",
        "colab_type": "code",
        "colab": {}
      },
      "source": [
        "###Instantiate Model\n",
        "model = LinearRegression(normalize=True)"
      ],
      "execution_count": 48,
      "outputs": []
    },
    {
      "cell_type": "code",
      "metadata": {
        "id": "aRRllF7PT-cC",
        "colab_type": "code",
        "colab": {
          "base_uri": "https://localhost:8080/",
          "height": 34
        },
        "outputId": "bacdfd3f-f1b1-4d55-89a7-58cdf6e65a5a"
      },
      "source": [
        "###Fit model to data\n",
        "model.fit(X_train_encoded, y_train,)"
      ],
      "execution_count": 49,
      "outputs": [
        {
          "output_type": "execute_result",
          "data": {
            "text/plain": [
              "LinearRegression(copy_X=True, fit_intercept=True, n_jobs=None, normalize=True)"
            ]
          },
          "metadata": {
            "tags": []
          },
          "execution_count": 49
        }
      ]
    },
    {
      "cell_type": "code",
      "metadata": {
        "id": "tzsYpXsZNPbT",
        "colab_type": "code",
        "colab": {}
      },
      "source": [
        "###Encode training data\n",
        "y_pred_train = model.predict(X_train_encoded)"
      ],
      "execution_count": null,
      "outputs": []
    },
    {
      "cell_type": "code",
      "metadata": {
        "id": "ndEbMqgHXpMV",
        "colab_type": "code",
        "colab": {}
      },
      "source": [
        "###Test Accuracy against validation set from 2009\n",
        "y_pred_val = model.predict(X_val_encoded)"
      ],
      "execution_count": 57,
      "outputs": []
    },
    {
      "cell_type": "code",
      "metadata": {
        "id": "ln0J4XPPO2EQ",
        "colab_type": "code",
        "colab": {}
      },
      "source": [
        "##"
      ],
      "execution_count": null,
      "outputs": []
    },
    {
      "cell_type": "markdown",
      "metadata": {
        "colab_type": "text",
        "id": "E9reASgw-i8T"
      },
      "source": [
        "## 2.6. Report validation MAE and $R^2$\n",
        "\n",
        "What is your model's Mean Absolute Error and $R^2$ score on the validation set? (You are not graded on how high or low your validation scores are.)"
      ]
    },
    {
      "cell_type": "code",
      "metadata": {
        "colab_type": "code",
        "id": "q8GdnL4e7hyK",
        "colab": {
          "base_uri": "https://localhost:8080/",
          "height": 375
        },
        "outputId": "8701fd80-cdf0-426a-9733-c423083cdb1b"
      },
      "source": [
        "print('Training MAE:', mean_absolute_error(y_train, y_pred_t))\n",
        "print('Validation MAE:', mean_absolute_error(y_val, y_pred), '\\n')\n",
        "\n",
        "print(\"Traning RMSE:\", mean_squared_error(y_train, y_pred_train, squared=False))\n",
        "print(\"Validation RMSE:\", mean_squared_error(y_val, y_pred, squared=False), '\\n')\n",
        "\n",
        "print(\"Training R-squared score is:\", model.score(XTT_train, y_train))\n",
        "print(\"Validation R-squared is:\", model.score(XTT_val, y_val), '\\n')"
      ],
      "execution_count": 63,
      "outputs": [
        {
          "output_type": "error",
          "ename": "ValueError",
          "evalue": "ignored",
          "traceback": [
            "\u001b[0;31m---------------------------------------------------------------------------\u001b[0m",
            "\u001b[0;31mValueError\u001b[0m                                Traceback (most recent call last)",
            "\u001b[0;32m<ipython-input-63-6ca440eef06b>\u001b[0m in \u001b[0;36m<module>\u001b[0;34m()\u001b[0m\n\u001b[0;32m----> 1\u001b[0;31m \u001b[0mprint\u001b[0m\u001b[0;34m(\u001b[0m\u001b[0;34m'Training MAE:'\u001b[0m\u001b[0;34m,\u001b[0m \u001b[0mmean_absolute_error\u001b[0m\u001b[0;34m(\u001b[0m\u001b[0my_train\u001b[0m\u001b[0;34m,\u001b[0m \u001b[0my_pred_train\u001b[0m\u001b[0;34m)\u001b[0m\u001b[0;34m)\u001b[0m\u001b[0;34m\u001b[0m\u001b[0;34m\u001b[0m\u001b[0m\n\u001b[0m\u001b[1;32m      2\u001b[0m \u001b[0mprint\u001b[0m\u001b[0;34m(\u001b[0m\u001b[0;34m'Validation MAE:'\u001b[0m\u001b[0;34m,\u001b[0m \u001b[0mmean_absolute_error\u001b[0m\u001b[0;34m(\u001b[0m\u001b[0my_val\u001b[0m\u001b[0;34m,\u001b[0m \u001b[0my_pred\u001b[0m\u001b[0;34m)\u001b[0m\u001b[0;34m,\u001b[0m \u001b[0;34m'\\n'\u001b[0m\u001b[0;34m)\u001b[0m\u001b[0;34m\u001b[0m\u001b[0;34m\u001b[0m\u001b[0m\n\u001b[1;32m      3\u001b[0m \u001b[0;34m\u001b[0m\u001b[0m\n\u001b[1;32m      4\u001b[0m \u001b[0mprint\u001b[0m\u001b[0;34m(\u001b[0m\u001b[0;34m\"Traning RMSE:\"\u001b[0m\u001b[0;34m,\u001b[0m \u001b[0mmean_squared_error\u001b[0m\u001b[0;34m(\u001b[0m\u001b[0my_train\u001b[0m\u001b[0;34m,\u001b[0m \u001b[0my_pred_train\u001b[0m\u001b[0;34m,\u001b[0m \u001b[0msquared\u001b[0m\u001b[0;34m=\u001b[0m\u001b[0;32mFalse\u001b[0m\u001b[0;34m)\u001b[0m\u001b[0;34m)\u001b[0m\u001b[0;34m\u001b[0m\u001b[0;34m\u001b[0m\u001b[0m\n\u001b[1;32m      5\u001b[0m \u001b[0mprint\u001b[0m\u001b[0;34m(\u001b[0m\u001b[0;34m\"Validation RMSE:\"\u001b[0m\u001b[0;34m,\u001b[0m \u001b[0mmean_squared_error\u001b[0m\u001b[0;34m(\u001b[0m\u001b[0my_val\u001b[0m\u001b[0;34m,\u001b[0m \u001b[0my_pred\u001b[0m\u001b[0;34m,\u001b[0m \u001b[0msquared\u001b[0m\u001b[0;34m=\u001b[0m\u001b[0;32mFalse\u001b[0m\u001b[0;34m)\u001b[0m\u001b[0;34m,\u001b[0m \u001b[0;34m'\\n'\u001b[0m\u001b[0;34m)\u001b[0m\u001b[0;34m\u001b[0m\u001b[0;34m\u001b[0m\u001b[0m\n",
            "\u001b[0;32m/usr/local/lib/python3.6/dist-packages/sklearn/metrics/_regression.py\u001b[0m in \u001b[0;36mmean_absolute_error\u001b[0;34m(y_true, y_pred, sample_weight, multioutput)\u001b[0m\n\u001b[1;32m    176\u001b[0m     \"\"\"\n\u001b[1;32m    177\u001b[0m     y_type, y_true, y_pred, multioutput = _check_reg_targets(\n\u001b[0;32m--> 178\u001b[0;31m         y_true, y_pred, multioutput)\n\u001b[0m\u001b[1;32m    179\u001b[0m     \u001b[0mcheck_consistent_length\u001b[0m\u001b[0;34m(\u001b[0m\u001b[0my_true\u001b[0m\u001b[0;34m,\u001b[0m \u001b[0my_pred\u001b[0m\u001b[0;34m,\u001b[0m \u001b[0msample_weight\u001b[0m\u001b[0;34m)\u001b[0m\u001b[0;34m\u001b[0m\u001b[0;34m\u001b[0m\u001b[0m\n\u001b[1;32m    180\u001b[0m     output_errors = np.average(np.abs(y_pred - y_true),\n",
            "\u001b[0;32m/usr/local/lib/python3.6/dist-packages/sklearn/metrics/_regression.py\u001b[0m in \u001b[0;36m_check_reg_targets\u001b[0;34m(y_true, y_pred, multioutput, dtype)\u001b[0m\n\u001b[1;32m     82\u001b[0m \u001b[0;34m\u001b[0m\u001b[0m\n\u001b[1;32m     83\u001b[0m     \"\"\"\n\u001b[0;32m---> 84\u001b[0;31m     \u001b[0mcheck_consistent_length\u001b[0m\u001b[0;34m(\u001b[0m\u001b[0my_true\u001b[0m\u001b[0;34m,\u001b[0m \u001b[0my_pred\u001b[0m\u001b[0;34m)\u001b[0m\u001b[0;34m\u001b[0m\u001b[0;34m\u001b[0m\u001b[0m\n\u001b[0m\u001b[1;32m     85\u001b[0m     \u001b[0my_true\u001b[0m \u001b[0;34m=\u001b[0m \u001b[0mcheck_array\u001b[0m\u001b[0;34m(\u001b[0m\u001b[0my_true\u001b[0m\u001b[0;34m,\u001b[0m \u001b[0mensure_2d\u001b[0m\u001b[0;34m=\u001b[0m\u001b[0;32mFalse\u001b[0m\u001b[0;34m,\u001b[0m \u001b[0mdtype\u001b[0m\u001b[0;34m=\u001b[0m\u001b[0mdtype\u001b[0m\u001b[0;34m)\u001b[0m\u001b[0;34m\u001b[0m\u001b[0;34m\u001b[0m\u001b[0m\n\u001b[1;32m     86\u001b[0m     \u001b[0my_pred\u001b[0m \u001b[0;34m=\u001b[0m \u001b[0mcheck_array\u001b[0m\u001b[0;34m(\u001b[0m\u001b[0my_pred\u001b[0m\u001b[0;34m,\u001b[0m \u001b[0mensure_2d\u001b[0m\u001b[0;34m=\u001b[0m\u001b[0;32mFalse\u001b[0m\u001b[0;34m,\u001b[0m \u001b[0mdtype\u001b[0m\u001b[0;34m=\u001b[0m\u001b[0mdtype\u001b[0m\u001b[0;34m)\u001b[0m\u001b[0;34m\u001b[0m\u001b[0;34m\u001b[0m\u001b[0m\n",
            "\u001b[0;32m/usr/local/lib/python3.6/dist-packages/sklearn/utils/validation.py\u001b[0m in \u001b[0;36mcheck_consistent_length\u001b[0;34m(*arrays)\u001b[0m\n\u001b[1;32m    210\u001b[0m     \u001b[0;32mif\u001b[0m \u001b[0mlen\u001b[0m\u001b[0;34m(\u001b[0m\u001b[0muniques\u001b[0m\u001b[0;34m)\u001b[0m \u001b[0;34m>\u001b[0m \u001b[0;36m1\u001b[0m\u001b[0;34m:\u001b[0m\u001b[0;34m\u001b[0m\u001b[0;34m\u001b[0m\u001b[0m\n\u001b[1;32m    211\u001b[0m         raise ValueError(\"Found input variables with inconsistent numbers of\"\n\u001b[0;32m--> 212\u001b[0;31m                          \" samples: %r\" % [int(l) for l in lengths])\n\u001b[0m\u001b[1;32m    213\u001b[0m \u001b[0;34m\u001b[0m\u001b[0m\n\u001b[1;32m    214\u001b[0m \u001b[0;34m\u001b[0m\u001b[0m\n",
            "\u001b[0;31mValueError\u001b[0m: Found input variables with inconsistent numbers of samples: [1920, 644]"
          ]
        }
      ]
    },
    {
      "cell_type": "markdown",
      "metadata": {
        "colab_type": "text",
        "id": "DidByDsrOa-o"
      },
      "source": [
        "# Stretch Goals, Regression\n",
        "- Make at least 2 visualizations to explore relationships between features and target. You may use any visualization library\n",
        "- Try at least 3 feature combinations. You may select features manually, or automatically\n",
        "- Report validation MAE and $R^2$ for each feature combination you try\n",
        "- Report test MAE and $R^2$ for your final model\n",
        "- Print or plot the coefficients for the features in your model"
      ]
    },
    {
      "cell_type": "code",
      "metadata": {
        "colab_type": "code",
        "id": "xOfSQIf3Y3OV",
        "colab": {}
      },
      "source": [
        ""
      ],
      "execution_count": 50,
      "outputs": []
    },
    {
      "cell_type": "markdown",
      "metadata": {
        "colab_type": "text",
        "id": "PdkjBN1Dy_-A"
      },
      "source": [
        "# Data Dictionary \n",
        "\n",
        "Here's a description of the data fields:\n",
        "\n",
        "```\n",
        "1st_Flr_SF: First Floor square feet\n",
        "\n",
        "Bedroom_AbvGr: Bedrooms above grade (does NOT include basement bedrooms)\n",
        "\n",
        "Bldg_Type: Type of dwelling\n",
        "\t\t\n",
        "       1Fam\tSingle-family Detached\t\n",
        "       2FmCon\tTwo-family Conversion; originally built as one-family dwelling\n",
        "       Duplx\tDuplex\n",
        "       TwnhsE\tTownhouse End Unit\n",
        "       TwnhsI\tTownhouse Inside Unit\n",
        "       \n",
        "Bsmt_Half_Bath: Basement half bathrooms\n",
        "\n",
        "Bsmt_Full_Bath: Basement full bathrooms\n",
        "\n",
        "Central_Air: Central air conditioning\n",
        "\n",
        "       N\tNo\n",
        "       Y\tYes\n",
        "\t\t\n",
        "Condition_1: Proximity to various conditions\n",
        "\t\n",
        "       Artery\tAdjacent to arterial street\n",
        "       Feedr\tAdjacent to feeder street\t\n",
        "       Norm\tNormal\t\n",
        "       RRNn\tWithin 200' of North-South Railroad\n",
        "       RRAn\tAdjacent to North-South Railroad\n",
        "       PosN\tNear positive off-site feature--park, greenbelt, etc.\n",
        "       PosA\tAdjacent to postive off-site feature\n",
        "       RRNe\tWithin 200' of East-West Railroad\n",
        "       RRAe\tAdjacent to East-West Railroad\n",
        "\t\n",
        "Condition_2: Proximity to various conditions (if more than one is present)\n",
        "\t\t\n",
        "       Artery\tAdjacent to arterial street\n",
        "       Feedr\tAdjacent to feeder street\t\n",
        "       Norm\tNormal\t\n",
        "       RRNn\tWithin 200' of North-South Railroad\n",
        "       RRAn\tAdjacent to North-South Railroad\n",
        "       PosN\tNear positive off-site feature--park, greenbelt, etc.\n",
        "       PosA\tAdjacent to postive off-site feature\n",
        "       RRNe\tWithin 200' of East-West Railroad\n",
        "       RRAe\tAdjacent to East-West Railroad\n",
        "       \n",
        " Electrical: Electrical system\n",
        "\n",
        "       SBrkr\tStandard Circuit Breakers & Romex\n",
        "       FuseA\tFuse Box over 60 AMP and all Romex wiring (Average)\t\n",
        "       FuseF\t60 AMP Fuse Box and mostly Romex wiring (Fair)\n",
        "       FuseP\t60 AMP Fuse Box and mostly knob & tube wiring (poor)\n",
        "       Mix\tMixed\n",
        "       \n",
        " Exter_Cond: Evaluates the present condition of the material on the exterior\n",
        "\t\t\n",
        "       Ex\tExcellent\n",
        "       Gd\tGood\n",
        "       TA\tAverage/Typical\n",
        "       Fa\tFair\n",
        "       Po\tPoor\n",
        " \n",
        " Exter_Qual: Evaluates the quality of the material on the exterior \n",
        "\t\t\n",
        "       Ex\tExcellent\n",
        "       Gd\tGood\n",
        "       TA\tAverage/Typical\n",
        "       Fa\tFair\n",
        "       Po\tPoor\n",
        "\t\t\n",
        "Exterior_1st: Exterior covering on house\n",
        "\n",
        "       AsbShng\tAsbestos Shingles\n",
        "       AsphShn\tAsphalt Shingles\n",
        "       BrkComm\tBrick Common\n",
        "       BrkFace\tBrick Face\n",
        "       CBlock\tCinder Block\n",
        "       CemntBd\tCement Board\n",
        "       HdBoard\tHard Board\n",
        "       ImStucc\tImitation Stucco\n",
        "       MetalSd\tMetal Siding\n",
        "       Other\tOther\n",
        "       Plywood\tPlywood\n",
        "       PreCast\tPreCast\t\n",
        "       Stone\tStone\n",
        "       Stucco\tStucco\n",
        "       VinylSd\tVinyl Siding\n",
        "       Wd Sdng\tWood Siding\n",
        "       WdShing\tWood Shingles\n",
        "\t\n",
        "Exterior_2nd: Exterior covering on house (if more than one material)\n",
        "\n",
        "       AsbShng\tAsbestos Shingles\n",
        "       AsphShn\tAsphalt Shingles\n",
        "       BrkComm\tBrick Common\n",
        "       BrkFace\tBrick Face\n",
        "       CBlock\tCinder Block\n",
        "       CemntBd\tCement Board\n",
        "       HdBoard\tHard Board\n",
        "       ImStucc\tImitation Stucco\n",
        "       MetalSd\tMetal Siding\n",
        "       Other\tOther\n",
        "       Plywood\tPlywood\n",
        "       PreCast\tPreCast\n",
        "       Stone\tStone\n",
        "       Stucco\tStucco\n",
        "       VinylSd\tVinyl Siding\n",
        "       Wd Sdng\tWood Siding\n",
        "       WdShing\tWood Shingles\n",
        "       \n",
        "Foundation: Type of foundation\n",
        "\t\t\n",
        "       BrkTil\tBrick & Tile\n",
        "       CBlock\tCinder Block\n",
        "       PConc\tPoured Contrete\t\n",
        "       Slab\tSlab\n",
        "       Stone\tStone\n",
        "       Wood\tWood\n",
        "\t\t\n",
        "Full_Bath: Full bathrooms above grade\n",
        "\n",
        "Functional: Home functionality (Assume typical unless deductions are warranted)\n",
        "\n",
        "       Typ\tTypical Functionality\n",
        "       Min1\tMinor Deductions 1\n",
        "       Min2\tMinor Deductions 2\n",
        "       Mod\tModerate Deductions\n",
        "       Maj1\tMajor Deductions 1\n",
        "       Maj2\tMajor Deductions 2\n",
        "       Sev\tSeverely Damaged\n",
        "       Sal\tSalvage only\n",
        "\t\t\n",
        "Gr_Liv_Area: Above grade (ground) living area square feet\n",
        "        \n",
        "Half_Bath: Half baths above grade\n",
        "\n",
        "Heating: Type of heating\n",
        "\t\t\n",
        "       Floor\tFloor Furnace\n",
        "       GasA\tGas forced warm air furnace\n",
        "       GasW\tGas hot water or steam heat\n",
        "       Grav\tGravity furnace\t\n",
        "       OthW\tHot water or steam heat other than gas\n",
        "       Wall\tWall furnace\n",
        "\t\t\n",
        "Heating_QC: Heating quality and condition\n",
        "\n",
        "       Ex\tExcellent\n",
        "       Gd\tGood\n",
        "       TA\tAverage/Typical\n",
        "       Fa\tFair\n",
        "       Po\tPoor\n",
        "\n",
        "House_Style: Style of dwelling\n",
        "\t\n",
        "       1Story\tOne story\n",
        "       1.5Fin\tOne and one-half story: 2nd level finished\n",
        "       1.5Unf\tOne and one-half story: 2nd level unfinished\n",
        "       2Story\tTwo story\n",
        "       2.5Fin\tTwo and one-half story: 2nd level finished\n",
        "       2.5Unf\tTwo and one-half story: 2nd level unfinished\n",
        "       SFoyer\tSplit Foyer\n",
        "       SLvl\tSplit Level\n",
        "\n",
        "Kitchen_AbvGr: Kitchens above grade\n",
        "\n",
        "Kitchen_Qual: Kitchen quality\n",
        "\n",
        "       Ex\tExcellent\n",
        "       Gd\tGood\n",
        "       TA\tTypical/Average\n",
        "       Fa\tFair\n",
        "       Po\tPoor\n",
        "\n",
        "LandContour: Flatness of the property\n",
        "\n",
        "       Lvl\tNear Flat/Level\t\n",
        "       Bnk\tBanked - Quick and significant rise from street grade to building\n",
        "       HLS\tHillside - Significant slope from side to side\n",
        "       Low\tDepression\n",
        "\t\t\n",
        "Land_Slope: Slope of property\n",
        "\t\t\n",
        "       Gtl\tGentle slope\n",
        "       Mod\tModerate Slope\t\n",
        "       Sev\tSevere Slope\n",
        "\n",
        "Lot_Area: Lot size in square feet\n",
        "\n",
        "Lot_Config: Lot configuration\n",
        "\n",
        "       Inside\tInside lot\n",
        "       Corner\tCorner lot\n",
        "       CulDSac\tCul-de-sac\n",
        "       FR2\tFrontage on 2 sides of property\n",
        "       FR3\tFrontage on 3 sides of property\n",
        "\n",
        "Lot_Shape: General shape of property\n",
        "\n",
        "       Reg\tRegular\t\n",
        "       IR1\tSlightly irregular\n",
        "       IR2\tModerately Irregular\n",
        "       IR3\tIrregular\n",
        "\n",
        "MS_SubClass: Identifies the type of dwelling involved in the sale.\t\n",
        "\n",
        "        20\t1-STORY 1946 & NEWER ALL STYLES\n",
        "        30\t1-STORY 1945 & OLDER\n",
        "        40\t1-STORY W/FINISHED ATTIC ALL AGES\n",
        "        45\t1-1/2 STORY - UNFINISHED ALL AGES\n",
        "        50\t1-1/2 STORY FINISHED ALL AGES\n",
        "        60\t2-STORY 1946 & NEWER\n",
        "        70\t2-STORY 1945 & OLDER\n",
        "        75\t2-1/2 STORY ALL AGES\n",
        "        80\tSPLIT OR MULTI-LEVEL\n",
        "        85\tSPLIT FOYER\n",
        "        90\tDUPLEX - ALL STYLES AND AGES\n",
        "       120\t1-STORY PUD (Planned Unit Development) - 1946 & NEWER\n",
        "       150\t1-1/2 STORY PUD - ALL AGES\n",
        "       160\t2-STORY PUD - 1946 & NEWER\n",
        "       180\tPUD - MULTILEVEL - INCL SPLIT LEV/FOYER\n",
        "       190\t2 FAMILY CONVERSION - ALL STYLES AND AGES\n",
        "\n",
        "MS_Zoning: Identifies the general zoning classification of the sale.\n",
        "\t\t\n",
        "       A\tAgriculture\n",
        "       C\tCommercial\n",
        "       FV\tFloating Village Residential\n",
        "       I\tIndustrial\n",
        "       RH\tResidential High Density\n",
        "       RL\tResidential Low Density\n",
        "       RP\tResidential Low Density Park \n",
        "       RM\tResidential Medium Density\n",
        "\n",
        "Mas_Vnr_Type: Masonry veneer type\n",
        "\n",
        "       BrkCmn\tBrick Common\n",
        "       BrkFace\tBrick Face\n",
        "       CBlock\tCinder Block\n",
        "       None\tNone\n",
        "       Stone\tStone\n",
        "\n",
        "Mo_Sold: Month Sold (MM)\n",
        "\n",
        "Neighborhood: Physical locations within Ames city limits\n",
        "\n",
        "       Blmngtn\tBloomington Heights\n",
        "       Blueste\tBluestem\n",
        "       BrDale\tBriardale\n",
        "       BrkSide\tBrookside\n",
        "       ClearCr\tClear Creek\n",
        "       CollgCr\tCollege Creek\n",
        "       Crawfor\tCrawford\n",
        "       Edwards\tEdwards\n",
        "       Gilbert\tGilbert\n",
        "       IDOTRR\tIowa DOT and Rail Road\n",
        "       MeadowV\tMeadow Village\n",
        "       Mitchel\tMitchell\n",
        "       Names\tNorth Ames\n",
        "       NoRidge\tNorthridge\n",
        "       NPkVill\tNorthpark Villa\n",
        "       NridgHt\tNorthridge Heights\n",
        "       NWAmes\tNorthwest Ames\n",
        "       OldTown\tOld Town\n",
        "       SWISU\tSouth & West of Iowa State University\n",
        "       Sawyer\tSawyer\n",
        "       SawyerW\tSawyer West\n",
        "       Somerst\tSomerset\n",
        "       StoneBr\tStone Brook\n",
        "       Timber\tTimberland\n",
        "       Veenker\tVeenker\n",
        "\t\t\t\n",
        "Overall_Cond: Rates the overall condition of the house\n",
        "\n",
        "       10\tVery Excellent\n",
        "       9\tExcellent\n",
        "       8\tVery Good\n",
        "       7\tGood\n",
        "       6\tAbove Average\t\n",
        "       5\tAverage\n",
        "       4\tBelow Average\t\n",
        "       3\tFair\n",
        "       2\tPoor\n",
        "       1\tVery Poor\n",
        "\n",
        "Overall_Qual: Rates the overall material and finish of the house\n",
        "\n",
        "       10\tVery Excellent\n",
        "       9\tExcellent\n",
        "       8\tVery Good\n",
        "       7\tGood\n",
        "       6\tAbove Average\n",
        "       5\tAverage\n",
        "       4\tBelow Average\n",
        "       3\tFair\n",
        "       2\tPoor\n",
        "       1\tVery Poor\n",
        "\n",
        "Paved_Drive: Paved driveway\n",
        "\n",
        "       Y\tPaved \n",
        "       P\tPartial Pavement\n",
        "       N\tDirt/Gravel\n",
        "\n",
        "Roof_Matl: Roof material\n",
        "\n",
        "       ClyTile\tClay or Tile\n",
        "       CompShg\tStandard (Composite) Shingle\n",
        "       Membran\tMembrane\n",
        "       Metal\tMetal\n",
        "       Roll\tRoll\n",
        "       Tar&Grv\tGravel & Tar\n",
        "       WdShake\tWood Shakes\n",
        "       WdShngl\tWood Shingles\n",
        "\n",
        "Roof_Style: Type of roof\n",
        "\n",
        "       Flat\tFlat\n",
        "       Gable\tGable\n",
        "       Gambrel\tGabrel (Barn)\n",
        "       Hip\tHip\n",
        "       Mansard\tMansard\n",
        "       Shed\tShed\n",
        "\n",
        "SalePrice: the sales price for each house\n",
        "\n",
        "Sale_Condition: Condition of sale\n",
        "\n",
        "       Normal\tNormal Sale\n",
        "       Abnorml\tAbnormal Sale -  trade, foreclosure, short sale\n",
        "       AdjLand\tAdjoining Land Purchase\n",
        "       Alloca\tAllocation - two linked properties with separate deeds, typically condo with a garage unit\t\n",
        "       Family\tSale between family members\n",
        "       Partial\tHome was not completed when last assessed (associated with New Homes)\n",
        "\n",
        "Sale_Type: Type of sale\n",
        "\t\t\n",
        "       WD \tWarranty Deed - Conventional\n",
        "       CWD\tWarranty Deed - Cash\n",
        "       VWD\tWarranty Deed - VA Loan\n",
        "       New\tHome just constructed and sold\n",
        "       COD\tCourt Officer Deed/Estate\n",
        "       Con\tContract 15% Down payment regular terms\n",
        "       ConLw\tContract Low Down payment and low interest\n",
        "       ConLI\tContract Low Interest\n",
        "       ConLD\tContract Low Down\n",
        "       Oth\tOther\n",
        "\t\n",
        "Street: Type of road access to property\n",
        "\n",
        "       Grvl\tGravel\t\n",
        "       Pave\tPaved\n",
        "       \t\n",
        "TotRms_AbvGrd: Total rooms above grade (does not include bathrooms)\n",
        "\n",
        "Utilities: Type of utilities available\n",
        "\t\t\n",
        "       AllPub\tAll public Utilities (E,G,W,& S)\t\n",
        "       NoSewr\tElectricity, Gas, and Water (Septic Tank)\n",
        "       NoSeWa\tElectricity and Gas Only\n",
        "       ELO\tElectricity only\t\n",
        "\t\n",
        "Year_Built: Original construction date\n",
        "\n",
        "Year_Remod/Add: Remodel date (same as construction date if no remodeling or additions)\n",
        "\t\t\t\t\t\t\n",
        "Yr_Sold: Year Sold (YYYY)\t\n",
        "\n",
        "```"
      ]
    }
  ]
}